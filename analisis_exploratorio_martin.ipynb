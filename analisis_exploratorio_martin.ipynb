{
  "nbformat": 4,
  "nbformat_minor": 0,
  "metadata": {
    "colab": {
      "name": "analisis_exploratorio_martin.ipynb",
      "provenance": [],
      "collapsed_sections": [],
      "include_colab_link": true
    },
    "kernelspec": {
      "name": "python3",
      "display_name": "Python 3"
    },
    "language_info": {
      "name": "python"
    }
  },
  "cells": [
    {
      "cell_type": "markdown",
      "metadata": {
        "id": "view-in-github",
        "colab_type": "text"
      },
      "source": [
        "<a href=\"https://colab.research.google.com/github/rociotarda/TP1---Datos/blob/main/analisis_exploratorio_martin.ipynb\" target=\"_parent\"><img src=\"https://colab.research.google.com/assets/colab-badge.svg\" alt=\"Open In Colab\"/></a>"
      ]
    },
    {
      "cell_type": "code",
      "metadata": {
        "id": "Lx83sOVULVc6"
      },
      "source": [
        "# importacion general de librerias y de visualizacion (matplotlib y seaborn)\n",
        "import pandas as pd\n",
        "import numpy as np\n",
        "import matplotlib.pyplot as plt\n",
        "import seaborn as sns\n",
        "\n",
        "%matplotlib inline\n",
        "\n",
        "plt.style.use('default') # haciendo los graficos un poco mas bonitos en matplotlib\n",
        "#plt.rcParams['figure.figsize'] = (20, 10)\n",
        "\n",
        "sns.set(style=\"whitegrid\") # seteando tipo de grid en seaborn\n",
        "\n",
        "pd.options.display.float_format = '{:20,.2f}'.format # suprimimos la notacion cientifica en los outputs\n",
        "\n",
        "import warnings\n",
        "warnings.filterwarnings('ignore')"
      ],
      "execution_count": 1,
      "outputs": []
    },
    {
      "cell_type": "code",
      "metadata": {
        "id": "35LpN2c-Lz2O"
      },
      "source": [
        "from pydrive.auth import GoogleAuth\n",
        "from pydrive.drive import GoogleDrive\n",
        "from google.colab import auth\n",
        "from oauth2client.client import GoogleCredentials"
      ],
      "execution_count": 2,
      "outputs": []
    },
    {
      "cell_type": "code",
      "metadata": {
        "id": "nqPx9YrYT-1H"
      },
      "source": [
        "auth.authenticate_user()\n",
        "gauth = GoogleAuth()\n",
        "gauth.credentials = GoogleCredentials.get_application_default()\n",
        "drive = GoogleDrive(gauth)"
      ],
      "execution_count": 3,
      "outputs": []
    },
    {
      "cell_type": "code",
      "metadata": {
        "id": "IB2QpSLzT_1K"
      },
      "source": [
        "id='1Su8VBZNHOqwzBIA_-hiMtUdhS6-p6Kte'\n",
        "downloaded = drive.CreateFile({'id': id})\n",
        "downloaded.GetContentFile('train_values.csv')"
      ],
      "execution_count": 4,
      "outputs": []
    },
    {
      "cell_type": "code",
      "metadata": {
        "id": "fn6YlnipaVkX"
      },
      "source": [
        "id_2='1ct-Uk6jmJWZ4-g-ryvCINzDSmLsRYBlN'\n",
        "downloaded = drive.CreateFile({'id': id_2})\n",
        "downloaded.GetContentFile('train_labels.csv')"
      ],
      "execution_count": 5,
      "outputs": []
    },
    {
      "cell_type": "code",
      "metadata": {
        "id": "qE23qB6nMEB0"
      },
      "source": [
        "train_values = pd.read_csv('train_values.csv')\n",
        "train_labels = pd.read_csv('train_labels.csv')"
      ],
      "execution_count": 6,
      "outputs": []
    },
    {
      "cell_type": "markdown",
      "metadata": {
        "id": "gsxedDdZdYDb"
      },
      "source": [
        "#Análisis previo sobre el DataFrame train_values.\n",
        "\n"
      ]
    },
    {
      "cell_type": "code",
      "metadata": {
        "colab": {
          "base_uri": "https://localhost:8080/",
          "height": 224
        },
        "id": "Luc0Y5zDRl1q",
        "outputId": "3f439b1a-de1f-4e23-8b33-0dc9e4a84315"
      },
      "source": [
        "train_values.head(5)"
      ],
      "execution_count": null,
      "outputs": [
        {
          "output_type": "execute_result",
          "data": {
            "text/html": [
              "<div>\n",
              "<style scoped>\n",
              "    .dataframe tbody tr th:only-of-type {\n",
              "        vertical-align: middle;\n",
              "    }\n",
              "\n",
              "    .dataframe tbody tr th {\n",
              "        vertical-align: top;\n",
              "    }\n",
              "\n",
              "    .dataframe thead th {\n",
              "        text-align: right;\n",
              "    }\n",
              "</style>\n",
              "<table border=\"1\" class=\"dataframe\">\n",
              "  <thead>\n",
              "    <tr style=\"text-align: right;\">\n",
              "      <th></th>\n",
              "      <th>building_id</th>\n",
              "      <th>geo_level_1_id</th>\n",
              "      <th>geo_level_2_id</th>\n",
              "      <th>geo_level_3_id</th>\n",
              "      <th>count_floors_pre_eq</th>\n",
              "      <th>age</th>\n",
              "      <th>area_percentage</th>\n",
              "      <th>height_percentage</th>\n",
              "      <th>land_surface_condition</th>\n",
              "      <th>foundation_type</th>\n",
              "      <th>roof_type</th>\n",
              "      <th>ground_floor_type</th>\n",
              "      <th>other_floor_type</th>\n",
              "      <th>position</th>\n",
              "      <th>plan_configuration</th>\n",
              "      <th>has_superstructure_adobe_mud</th>\n",
              "      <th>has_superstructure_mud_mortar_stone</th>\n",
              "      <th>has_superstructure_stone_flag</th>\n",
              "      <th>has_superstructure_cement_mortar_stone</th>\n",
              "      <th>has_superstructure_mud_mortar_brick</th>\n",
              "      <th>has_superstructure_cement_mortar_brick</th>\n",
              "      <th>has_superstructure_timber</th>\n",
              "      <th>has_superstructure_bamboo</th>\n",
              "      <th>has_superstructure_rc_non_engineered</th>\n",
              "      <th>has_superstructure_rc_engineered</th>\n",
              "      <th>has_superstructure_other</th>\n",
              "      <th>legal_ownership_status</th>\n",
              "      <th>count_families</th>\n",
              "      <th>has_secondary_use</th>\n",
              "      <th>has_secondary_use_agriculture</th>\n",
              "      <th>has_secondary_use_hotel</th>\n",
              "      <th>has_secondary_use_rental</th>\n",
              "      <th>has_secondary_use_institution</th>\n",
              "      <th>has_secondary_use_school</th>\n",
              "      <th>has_secondary_use_industry</th>\n",
              "      <th>has_secondary_use_health_post</th>\n",
              "      <th>has_secondary_use_gov_office</th>\n",
              "      <th>has_secondary_use_use_police</th>\n",
              "      <th>has_secondary_use_other</th>\n",
              "    </tr>\n",
              "  </thead>\n",
              "  <tbody>\n",
              "    <tr>\n",
              "      <th>0</th>\n",
              "      <td>802906</td>\n",
              "      <td>6</td>\n",
              "      <td>487</td>\n",
              "      <td>12198</td>\n",
              "      <td>2</td>\n",
              "      <td>30</td>\n",
              "      <td>6</td>\n",
              "      <td>5</td>\n",
              "      <td>t</td>\n",
              "      <td>r</td>\n",
              "      <td>n</td>\n",
              "      <td>f</td>\n",
              "      <td>q</td>\n",
              "      <td>t</td>\n",
              "      <td>d</td>\n",
              "      <td>1</td>\n",
              "      <td>1</td>\n",
              "      <td>0</td>\n",
              "      <td>0</td>\n",
              "      <td>0</td>\n",
              "      <td>0</td>\n",
              "      <td>0</td>\n",
              "      <td>0</td>\n",
              "      <td>0</td>\n",
              "      <td>0</td>\n",
              "      <td>0</td>\n",
              "      <td>v</td>\n",
              "      <td>1</td>\n",
              "      <td>0</td>\n",
              "      <td>0</td>\n",
              "      <td>0</td>\n",
              "      <td>0</td>\n",
              "      <td>0</td>\n",
              "      <td>0</td>\n",
              "      <td>0</td>\n",
              "      <td>0</td>\n",
              "      <td>0</td>\n",
              "      <td>0</td>\n",
              "      <td>0</td>\n",
              "    </tr>\n",
              "    <tr>\n",
              "      <th>1</th>\n",
              "      <td>28830</td>\n",
              "      <td>8</td>\n",
              "      <td>900</td>\n",
              "      <td>2812</td>\n",
              "      <td>2</td>\n",
              "      <td>10</td>\n",
              "      <td>8</td>\n",
              "      <td>7</td>\n",
              "      <td>o</td>\n",
              "      <td>r</td>\n",
              "      <td>n</td>\n",
              "      <td>x</td>\n",
              "      <td>q</td>\n",
              "      <td>s</td>\n",
              "      <td>d</td>\n",
              "      <td>0</td>\n",
              "      <td>1</td>\n",
              "      <td>0</td>\n",
              "      <td>0</td>\n",
              "      <td>0</td>\n",
              "      <td>0</td>\n",
              "      <td>0</td>\n",
              "      <td>0</td>\n",
              "      <td>0</td>\n",
              "      <td>0</td>\n",
              "      <td>0</td>\n",
              "      <td>v</td>\n",
              "      <td>1</td>\n",
              "      <td>0</td>\n",
              "      <td>0</td>\n",
              "      <td>0</td>\n",
              "      <td>0</td>\n",
              "      <td>0</td>\n",
              "      <td>0</td>\n",
              "      <td>0</td>\n",
              "      <td>0</td>\n",
              "      <td>0</td>\n",
              "      <td>0</td>\n",
              "      <td>0</td>\n",
              "    </tr>\n",
              "    <tr>\n",
              "      <th>2</th>\n",
              "      <td>94947</td>\n",
              "      <td>21</td>\n",
              "      <td>363</td>\n",
              "      <td>8973</td>\n",
              "      <td>2</td>\n",
              "      <td>10</td>\n",
              "      <td>5</td>\n",
              "      <td>5</td>\n",
              "      <td>t</td>\n",
              "      <td>r</td>\n",
              "      <td>n</td>\n",
              "      <td>f</td>\n",
              "      <td>x</td>\n",
              "      <td>t</td>\n",
              "      <td>d</td>\n",
              "      <td>0</td>\n",
              "      <td>1</td>\n",
              "      <td>0</td>\n",
              "      <td>0</td>\n",
              "      <td>0</td>\n",
              "      <td>0</td>\n",
              "      <td>0</td>\n",
              "      <td>0</td>\n",
              "      <td>0</td>\n",
              "      <td>0</td>\n",
              "      <td>0</td>\n",
              "      <td>v</td>\n",
              "      <td>1</td>\n",
              "      <td>0</td>\n",
              "      <td>0</td>\n",
              "      <td>0</td>\n",
              "      <td>0</td>\n",
              "      <td>0</td>\n",
              "      <td>0</td>\n",
              "      <td>0</td>\n",
              "      <td>0</td>\n",
              "      <td>0</td>\n",
              "      <td>0</td>\n",
              "      <td>0</td>\n",
              "    </tr>\n",
              "    <tr>\n",
              "      <th>3</th>\n",
              "      <td>590882</td>\n",
              "      <td>22</td>\n",
              "      <td>418</td>\n",
              "      <td>10694</td>\n",
              "      <td>2</td>\n",
              "      <td>10</td>\n",
              "      <td>6</td>\n",
              "      <td>5</td>\n",
              "      <td>t</td>\n",
              "      <td>r</td>\n",
              "      <td>n</td>\n",
              "      <td>f</td>\n",
              "      <td>x</td>\n",
              "      <td>s</td>\n",
              "      <td>d</td>\n",
              "      <td>0</td>\n",
              "      <td>1</td>\n",
              "      <td>0</td>\n",
              "      <td>0</td>\n",
              "      <td>0</td>\n",
              "      <td>0</td>\n",
              "      <td>1</td>\n",
              "      <td>1</td>\n",
              "      <td>0</td>\n",
              "      <td>0</td>\n",
              "      <td>0</td>\n",
              "      <td>v</td>\n",
              "      <td>1</td>\n",
              "      <td>0</td>\n",
              "      <td>0</td>\n",
              "      <td>0</td>\n",
              "      <td>0</td>\n",
              "      <td>0</td>\n",
              "      <td>0</td>\n",
              "      <td>0</td>\n",
              "      <td>0</td>\n",
              "      <td>0</td>\n",
              "      <td>0</td>\n",
              "      <td>0</td>\n",
              "    </tr>\n",
              "    <tr>\n",
              "      <th>4</th>\n",
              "      <td>201944</td>\n",
              "      <td>11</td>\n",
              "      <td>131</td>\n",
              "      <td>1488</td>\n",
              "      <td>3</td>\n",
              "      <td>30</td>\n",
              "      <td>8</td>\n",
              "      <td>9</td>\n",
              "      <td>t</td>\n",
              "      <td>r</td>\n",
              "      <td>n</td>\n",
              "      <td>f</td>\n",
              "      <td>x</td>\n",
              "      <td>s</td>\n",
              "      <td>d</td>\n",
              "      <td>1</td>\n",
              "      <td>0</td>\n",
              "      <td>0</td>\n",
              "      <td>0</td>\n",
              "      <td>0</td>\n",
              "      <td>0</td>\n",
              "      <td>0</td>\n",
              "      <td>0</td>\n",
              "      <td>0</td>\n",
              "      <td>0</td>\n",
              "      <td>0</td>\n",
              "      <td>v</td>\n",
              "      <td>1</td>\n",
              "      <td>0</td>\n",
              "      <td>0</td>\n",
              "      <td>0</td>\n",
              "      <td>0</td>\n",
              "      <td>0</td>\n",
              "      <td>0</td>\n",
              "      <td>0</td>\n",
              "      <td>0</td>\n",
              "      <td>0</td>\n",
              "      <td>0</td>\n",
              "      <td>0</td>\n",
              "    </tr>\n",
              "  </tbody>\n",
              "</table>\n",
              "</div>"
            ],
            "text/plain": [
              "   building_id  ...  has_secondary_use_other\n",
              "0       802906  ...                        0\n",
              "1        28830  ...                        0\n",
              "2        94947  ...                        0\n",
              "3       590882  ...                        0\n",
              "4       201944  ...                        0\n",
              "\n",
              "[5 rows x 39 columns]"
            ]
          },
          "metadata": {
            "tags": []
          },
          "execution_count": 61
        }
      ]
    },
    {
      "cell_type": "code",
      "metadata": {
        "colab": {
          "base_uri": "https://localhost:8080/"
        },
        "id": "7WahX49yP-tC",
        "outputId": "c953b321-15fc-4522-d3a2-607b92ac5248"
      },
      "source": [
        "#Nos fijamos información relevante sobre los datos del DataFrame \n",
        "train_values.info()"
      ],
      "execution_count": null,
      "outputs": [
        {
          "output_type": "stream",
          "text": [
            "<class 'pandas.core.frame.DataFrame'>\n",
            "RangeIndex: 260601 entries, 0 to 260600\n",
            "Data columns (total 39 columns):\n",
            " #   Column                                  Non-Null Count   Dtype \n",
            "---  ------                                  --------------   ----- \n",
            " 0   building_id                             260601 non-null  int64 \n",
            " 1   geo_level_1_id                          260601 non-null  int64 \n",
            " 2   geo_level_2_id                          260601 non-null  int64 \n",
            " 3   geo_level_3_id                          260601 non-null  int64 \n",
            " 4   count_floors_pre_eq                     260601 non-null  int64 \n",
            " 5   age                                     260601 non-null  int64 \n",
            " 6   area_percentage                         260601 non-null  int64 \n",
            " 7   height_percentage                       260601 non-null  int64 \n",
            " 8   land_surface_condition                  260601 non-null  object\n",
            " 9   foundation_type                         260601 non-null  object\n",
            " 10  roof_type                               260601 non-null  object\n",
            " 11  ground_floor_type                       260601 non-null  object\n",
            " 12  other_floor_type                        260601 non-null  object\n",
            " 13  position                                260601 non-null  object\n",
            " 14  plan_configuration                      260601 non-null  object\n",
            " 15  has_superstructure_adobe_mud            260601 non-null  int64 \n",
            " 16  has_superstructure_mud_mortar_stone     260601 non-null  int64 \n",
            " 17  has_superstructure_stone_flag           260601 non-null  int64 \n",
            " 18  has_superstructure_cement_mortar_stone  260601 non-null  int64 \n",
            " 19  has_superstructure_mud_mortar_brick     260601 non-null  int64 \n",
            " 20  has_superstructure_cement_mortar_brick  260601 non-null  int64 \n",
            " 21  has_superstructure_timber               260601 non-null  int64 \n",
            " 22  has_superstructure_bamboo               260601 non-null  int64 \n",
            " 23  has_superstructure_rc_non_engineered    260601 non-null  int64 \n",
            " 24  has_superstructure_rc_engineered        260601 non-null  int64 \n",
            " 25  has_superstructure_other                260601 non-null  int64 \n",
            " 26  legal_ownership_status                  260601 non-null  object\n",
            " 27  count_families                          260601 non-null  int64 \n",
            " 28  has_secondary_use                       260601 non-null  int64 \n",
            " 29  has_secondary_use_agriculture           260601 non-null  int64 \n",
            " 30  has_secondary_use_hotel                 260601 non-null  int64 \n",
            " 31  has_secondary_use_rental                260601 non-null  int64 \n",
            " 32  has_secondary_use_institution           260601 non-null  int64 \n",
            " 33  has_secondary_use_school                260601 non-null  int64 \n",
            " 34  has_secondary_use_industry              260601 non-null  int64 \n",
            " 35  has_secondary_use_health_post           260601 non-null  int64 \n",
            " 36  has_secondary_use_gov_office            260601 non-null  int64 \n",
            " 37  has_secondary_use_use_police            260601 non-null  int64 \n",
            " 38  has_secondary_use_other                 260601 non-null  int64 \n",
            "dtypes: int64(31), object(8)\n",
            "memory usage: 77.5+ MB\n"
          ],
          "name": "stdout"
        }
      ]
    },
    {
      "cell_type": "code",
      "metadata": {
        "colab": {
          "base_uri": "https://localhost:8080/"
        },
        "id": "iZwaonw-hXAa",
        "outputId": "e6a10bfe-62de-4a40-81f4-89390dfbbb00"
      },
      "source": [
        "#Nos fijamos si faltan datos en las columnas\n",
        "train_values.isnull().value_counts()"
      ],
      "execution_count": null,
      "outputs": [
        {
          "output_type": "execute_result",
          "data": {
            "text/plain": [
              "building_id  geo_level_1_id  geo_level_2_id  geo_level_3_id  count_floors_pre_eq  age    area_percentage  height_percentage  land_surface_condition  foundation_type  roof_type  ground_floor_type  other_floor_type  position  plan_configuration  has_superstructure_adobe_mud  has_superstructure_mud_mortar_stone  has_superstructure_stone_flag  has_superstructure_cement_mortar_stone  has_superstructure_mud_mortar_brick  has_superstructure_cement_mortar_brick  has_superstructure_timber  has_superstructure_bamboo  has_superstructure_rc_non_engineered  has_superstructure_rc_engineered  has_superstructure_other  legal_ownership_status  count_families  has_secondary_use  has_secondary_use_agriculture  has_secondary_use_hotel  has_secondary_use_rental  has_secondary_use_institution  has_secondary_use_school  has_secondary_use_industry  has_secondary_use_health_post  has_secondary_use_gov_office  has_secondary_use_use_police  has_secondary_use_other\n",
              "False        False           False           False           False                False  False            False              False                   False            False      False              False             False     False               False                         False                                False                          False                                   False                                False                                   False                      False                      False                                 False                             False                     False                   False           False              False                          False                    False                     False                          False                     False                       False                          False                         False                         False                      260601\n",
              "dtype: int64"
            ]
          },
          "metadata": {
            "tags": []
          },
          "execution_count": 63
        }
      ]
    },
    {
      "cell_type": "markdown",
      "metadata": {
        "id": "XYX2HSvBiGYT"
      },
      "source": [
        "Con la información obtenida arriba, podemos verificar que no faltan datos."
      ]
    },
    {
      "cell_type": "code",
      "metadata": {
        "colab": {
          "base_uri": "https://localhost:8080/"
        },
        "id": "_-Kzc0UyXqF6",
        "outputId": "970d5624-8381-4bac-de9c-abd494d612b8"
      },
      "source": [
        "#Nos fijamos si hay registros duplicados\n",
        "train_values.duplicated(keep=False).value_counts()"
      ],
      "execution_count": null,
      "outputs": [
        {
          "output_type": "execute_result",
          "data": {
            "text/plain": [
              "False    260601\n",
              "dtype: int64"
            ]
          },
          "metadata": {
            "tags": []
          },
          "execution_count": 64
        }
      ]
    },
    {
      "cell_type": "code",
      "metadata": {
        "colab": {
          "base_uri": "https://localhost:8080/"
        },
        "id": "M7fCU-2hT68i",
        "outputId": "0179f681-3b47-4363-9d33-8a3a3a6d594c"
      },
      "source": [
        "#Nos fijamos si hay registros duplicados sin tener en cuenta el id del edificio\n",
        "train_values.iloc[:, 1:].duplicated(keep=False).value_counts()"
      ],
      "execution_count": null,
      "outputs": [
        {
          "output_type": "execute_result",
          "data": {
            "text/plain": [
              "False    232057\n",
              "True      28544\n",
              "dtype: int64"
            ]
          },
          "metadata": {
            "tags": []
          },
          "execution_count": 65
        }
      ]
    },
    {
      "cell_type": "markdown",
      "metadata": {
        "id": "6BbKIu8JdJoT"
      },
      "source": [
        "Esto último nos dice que casi el 11% de los edificios comparten las mismas caraterísticas. Al tener un id diferente, consideramos que no hay que eliminar esos datos porque es muy probable que la misma empresa constructora o grupo de personas que construía edificios, templos, casas, etc (dependiendo el contexto socio-cultural en la línea de tiempo de la historia de la humanidad) los haya construído."
      ]
    },
    {
      "cell_type": "markdown",
      "metadata": {
        "id": "_lXziU9Yoj7M"
      },
      "source": [
        "# Familias afectadas"
      ]
    },
    {
      "cell_type": "code",
      "metadata": {
        "colab": {
          "base_uri": "https://localhost:8080/"
        },
        "id": "ykL4bLNqnohC",
        "outputId": "bc5be978-2323-4570-f44c-1fcb6cfefcad"
      },
      "source": [
        "train_values['count_families'].value_counts()"
      ],
      "execution_count": null,
      "outputs": [
        {
          "output_type": "execute_result",
          "data": {
            "text/plain": [
              "1    226115\n",
              "0     20862\n",
              "2     11294\n",
              "3      1802\n",
              "4       389\n",
              "5       104\n",
              "6        22\n",
              "7         7\n",
              "9         4\n",
              "8         2\n",
              "Name: count_families, dtype: int64"
            ]
          },
          "metadata": {
            "tags": []
          },
          "execution_count": 7
        }
      ]
    },
    {
      "cell_type": "code",
      "metadata": {
        "colab": {
          "base_uri": "https://localhost:8080/"
        },
        "id": "-9ar-gTTdyj7",
        "outputId": "afbb80b7-f1db-4aab-9517-76889a82d6db"
      },
      "source": [
        "train_values_reduced = train_values[['building_id', 'geo_level_1_id', 'geo_level_2_id', 'geo_level_3_id', 'count_families']]\n",
        "train_values_reduced_with_damage = train_values_reduced.merge(train_labels, left_on='building_id', right_on='building_id')\n",
        "train_values_reduced_with_damage.info()"
      ],
      "execution_count": 7,
      "outputs": [
        {
          "output_type": "stream",
          "text": [
            "<class 'pandas.core.frame.DataFrame'>\n",
            "Int64Index: 260601 entries, 0 to 260600\n",
            "Data columns (total 6 columns):\n",
            " #   Column          Non-Null Count   Dtype\n",
            "---  ------          --------------   -----\n",
            " 0   building_id     260601 non-null  int64\n",
            " 1   geo_level_1_id  260601 non-null  int64\n",
            " 2   geo_level_2_id  260601 non-null  int64\n",
            " 3   geo_level_3_id  260601 non-null  int64\n",
            " 4   count_families  260601 non-null  int64\n",
            " 5   damage_grade    260601 non-null  int64\n",
            "dtypes: int64(6)\n",
            "memory usage: 13.9 MB\n"
          ],
          "name": "stdout"
        }
      ]
    },
    {
      "cell_type": "markdown",
      "metadata": {
        "id": "SZVs87r3lqlA"
      },
      "source": [
        "Notamos que hay 20862 edificios en los cuales no vivían familias, entonces para el siguiente análisis no tiene mucho sentido que los contemplemos. Veremos qué daños recibieron los edificios donde viviían las familias:"
      ]
    },
    {
      "cell_type": "code",
      "metadata": {
        "id": "CKv712aqmFnK"
      },
      "source": [
        "train_values_reduced_with_damage_for_affected_families = train_values_reduced_with_damage.loc[train_values_reduced_with_damage['count_families'] != 0, :]"
      ],
      "execution_count": 8,
      "outputs": []
    },
    {
      "cell_type": "code",
      "metadata": {
        "colab": {
          "base_uri": "https://localhost:8080/",
          "height": 204
        },
        "id": "0J4WiE5qlOvq",
        "outputId": "aee2c1c0-aae2-4948-b89d-0060901c5d0e"
      },
      "source": [
        "affected_buildings = train_values_reduced_with_damage_for_affected_families.groupby(['count_families', 'damage_grade']).agg({'damage_grade':'count'})\n",
        "affected_buildings.columns = ['damage_grade_count']\n",
        "affected_buildings.reset_index(inplace=True)\n",
        "affected_buildings.columns = ['Count families', 'Damage grade', 'Damage grade count']\n",
        "affected_buildings.head()"
      ],
      "execution_count": 9,
      "outputs": [
        {
          "output_type": "execute_result",
          "data": {
            "text/html": [
              "<div>\n",
              "<style scoped>\n",
              "    .dataframe tbody tr th:only-of-type {\n",
              "        vertical-align: middle;\n",
              "    }\n",
              "\n",
              "    .dataframe tbody tr th {\n",
              "        vertical-align: top;\n",
              "    }\n",
              "\n",
              "    .dataframe thead th {\n",
              "        text-align: right;\n",
              "    }\n",
              "</style>\n",
              "<table border=\"1\" class=\"dataframe\">\n",
              "  <thead>\n",
              "    <tr style=\"text-align: right;\">\n",
              "      <th></th>\n",
              "      <th>Count families</th>\n",
              "      <th>Damage grade</th>\n",
              "      <th>Damage grade count</th>\n",
              "    </tr>\n",
              "  </thead>\n",
              "  <tbody>\n",
              "    <tr>\n",
              "      <th>0</th>\n",
              "      <td>1</td>\n",
              "      <td>1</td>\n",
              "      <td>20339</td>\n",
              "    </tr>\n",
              "    <tr>\n",
              "      <th>1</th>\n",
              "      <td>1</td>\n",
              "      <td>2</td>\n",
              "      <td>129721</td>\n",
              "    </tr>\n",
              "    <tr>\n",
              "      <th>2</th>\n",
              "      <td>1</td>\n",
              "      <td>3</td>\n",
              "      <td>76055</td>\n",
              "    </tr>\n",
              "    <tr>\n",
              "      <th>3</th>\n",
              "      <td>2</td>\n",
              "      <td>1</td>\n",
              "      <td>829</td>\n",
              "    </tr>\n",
              "    <tr>\n",
              "      <th>4</th>\n",
              "      <td>2</td>\n",
              "      <td>2</td>\n",
              "      <td>6021</td>\n",
              "    </tr>\n",
              "  </tbody>\n",
              "</table>\n",
              "</div>"
            ],
            "text/plain": [
              "   Count families  Damage grade  Damage grade count\n",
              "0               1             1               20339\n",
              "1               1             2              129721\n",
              "2               1             3               76055\n",
              "3               2             1                 829\n",
              "4               2             2                6021"
            ]
          },
          "metadata": {
            "tags": []
          },
          "execution_count": 9
        }
      ]
    },
    {
      "cell_type": "code",
      "metadata": {
        "colab": {
          "base_uri": "https://localhost:8080/",
          "height": 359
        },
        "id": "KotvcLlPwjVM",
        "outputId": "7ea0ca7a-e1dd-416f-e8a6-a774b5ff15bc"
      },
      "source": [
        "affected_buildings_pivot = affected_buildings.pivot(index='Count families', columns='Damage grade', values='Damage grade count')\n",
        "affected_buildings_pivot = affected_buildings_pivot.fillna(0)\n",
        "affected_buildings_pivot"
      ],
      "execution_count": 10,
      "outputs": [
        {
          "output_type": "execute_result",
          "data": {
            "text/html": [
              "<div>\n",
              "<style scoped>\n",
              "    .dataframe tbody tr th:only-of-type {\n",
              "        vertical-align: middle;\n",
              "    }\n",
              "\n",
              "    .dataframe tbody tr th {\n",
              "        vertical-align: top;\n",
              "    }\n",
              "\n",
              "    .dataframe thead th {\n",
              "        text-align: right;\n",
              "    }\n",
              "</style>\n",
              "<table border=\"1\" class=\"dataframe\">\n",
              "  <thead>\n",
              "    <tr style=\"text-align: right;\">\n",
              "      <th>Damage grade</th>\n",
              "      <th>1</th>\n",
              "      <th>2</th>\n",
              "      <th>3</th>\n",
              "    </tr>\n",
              "    <tr>\n",
              "      <th>Count families</th>\n",
              "      <th></th>\n",
              "      <th></th>\n",
              "      <th></th>\n",
              "    </tr>\n",
              "  </thead>\n",
              "  <tbody>\n",
              "    <tr>\n",
              "      <th>1</th>\n",
              "      <td>20,339.00</td>\n",
              "      <td>129,721.00</td>\n",
              "      <td>76,055.00</td>\n",
              "    </tr>\n",
              "    <tr>\n",
              "      <th>2</th>\n",
              "      <td>829.00</td>\n",
              "      <td>6,021.00</td>\n",
              "      <td>4,444.00</td>\n",
              "    </tr>\n",
              "    <tr>\n",
              "      <th>3</th>\n",
              "      <td>221.00</td>\n",
              "      <td>886.00</td>\n",
              "      <td>695.00</td>\n",
              "    </tr>\n",
              "    <tr>\n",
              "      <th>4</th>\n",
              "      <td>46.00</td>\n",
              "      <td>205.00</td>\n",
              "      <td>138.00</td>\n",
              "    </tr>\n",
              "    <tr>\n",
              "      <th>5</th>\n",
              "      <td>17.00</td>\n",
              "      <td>51.00</td>\n",
              "      <td>36.00</td>\n",
              "    </tr>\n",
              "    <tr>\n",
              "      <th>6</th>\n",
              "      <td>4.00</td>\n",
              "      <td>8.00</td>\n",
              "      <td>10.00</td>\n",
              "    </tr>\n",
              "    <tr>\n",
              "      <th>7</th>\n",
              "      <td>3.00</td>\n",
              "      <td>2.00</td>\n",
              "      <td>2.00</td>\n",
              "    </tr>\n",
              "    <tr>\n",
              "      <th>8</th>\n",
              "      <td>1.00</td>\n",
              "      <td>1.00</td>\n",
              "      <td>0.00</td>\n",
              "    </tr>\n",
              "    <tr>\n",
              "      <th>9</th>\n",
              "      <td>1.00</td>\n",
              "      <td>3.00</td>\n",
              "      <td>0.00</td>\n",
              "    </tr>\n",
              "  </tbody>\n",
              "</table>\n",
              "</div>"
            ],
            "text/plain": [
              "Damage grade                      1                    2                    3\n",
              "Count families                                                               \n",
              "1                         20,339.00           129,721.00            76,055.00\n",
              "2                            829.00             6,021.00             4,444.00\n",
              "3                            221.00               886.00               695.00\n",
              "4                             46.00               205.00               138.00\n",
              "5                             17.00                51.00                36.00\n",
              "6                              4.00                 8.00                10.00\n",
              "7                              3.00                 2.00                 2.00\n",
              "8                              1.00                 1.00                 0.00\n",
              "9                              1.00                 3.00                 0.00"
            ]
          },
          "metadata": {
            "tags": []
          },
          "execution_count": 10
        }
      ]
    },
    {
      "cell_type": "code",
      "metadata": {
        "colab": {
          "base_uri": "https://localhost:8080/",
          "height": 633
        },
        "id": "FKCAdCDyyYdU",
        "outputId": "fcef9424-54b9-4255-de67-101c9564b39d"
      },
      "source": [
        "plot = affected_buildings_pivot.plot.bar(color=[(0.7, 0.1, 0.1), (0.3, 0.5, 0.8), (0.1, 0.5, 0.1)], stacked=True, figsize=(20,10))\n",
        "plot.set_title(\"Damage grade vs quantity of families per damaged buildings\", fontsize=18)\n",
        "plot.set_ylabel(\"Quantity of buildings\", fontsize=18);\n",
        "plot.set_xlabel(\"Quantity of families per damaged buildings\", fontsize=18);"
      ],
      "execution_count": 11,
      "outputs": [
        {
          "output_type": "display_data",
          "data": {
            "image/png": "[encoded data removed]",
            "text/plain": [
              "<Figure size 1440x720 with 1 Axes>"
            ]
          },
          "metadata": {
            "tags": [],
            "needs_background": "light"
          }
        }
      ]
    },
    {
      "cell_type": "markdown",
      "metadata": {
        "id": "aOqVu4icB3ko"
      },
      "source": [
        "A partir de este gráfico, observamos que la mayor cantidad de familias afectadas se encunetran en los edificios en donde vivía solamente una familia, seguido de los edificios donde vivían dos familias y el resto de ellas. En ambos casos, la mayoría del daño de los edificos fue nivel dos y luego nivel tres, por lo que, la mayor cantidad de las familias de las zonas afectadas por el terremoto, tuvieron que refaccionar sus hogares y/o abandonarlos."
      ]
    },
    {
      "cell_type": "markdown",
      "metadata": {
        "id": "u7W-AF3nJsk-"
      },
      "source": [
        "La distribución de los datos analizados en el gráfico anterior, nos lleva a analizar cómo se distribuye el daño por distrito de los edificios en donde viven una y más familias de las tres zonas geográficas, por lo que analizaremos estos casos por separado. Primero, analizaremos para una sola familia ya que los edificios donde vivía una familia fueron los más afectados. Luego, analizaremos para más de una familia ya que no hay mucha información en el gráfico de arriba sobre el daño que recibieron y cómo afecta a las familias."
      ]
    },
    {
      "cell_type": "markdown",
      "metadata": {
        "id": "dQpETxcGacgI"
      },
      "source": [
        " A continuación, veremos los daños que recibieron los edificios donde vivía una sola familia en los distritos de las tres regiones:"
      ]
    },
    {
      "cell_type": "code",
      "metadata": {
        "id": "01Vmat_BUNFs"
      },
      "source": [
        "affected_buildings_where_lives_1_family = train_values_reduced_with_damage_for_affected_families.loc[train_values_reduced_with_damage_for_affected_families['count_families'] == 1, :]"
      ],
      "execution_count": 12,
      "outputs": []
    },
    {
      "cell_type": "markdown",
      "metadata": {
        "id": "sRqf9MMfm7h8"
      },
      "source": [
        "\n",
        "\n",
        "*   Región 1\n",
        "\n"
      ]
    },
    {
      "cell_type": "code",
      "metadata": {
        "colab": {
          "base_uri": "https://localhost:8080/",
          "height": 204
        },
        "id": "sLZjVxdfJo_H",
        "outputId": "e21f3157-4277-4131-f917-37287075ee9c"
      },
      "source": [
        "affected_buildings_where_lives_1_family_region_1 = affected_buildings_where_lives_1_family.groupby(['geo_level_1_id', 'damage_grade']).agg({'damage_grade':'count'})\n",
        "affected_buildings_where_lives_1_family_region_1.columns = ['damage_grade_count']\n",
        "affected_buildings_where_lives_1_family_region_1.reset_index(inplace=True)\n",
        "affected_buildings_where_lives_1_family_region_1.columns = ['Region 1', 'Damage grade', 'Damage grade count']\n",
        "affected_buildings_where_lives_1_family_region_1.head()"
      ],
      "execution_count": 15,
      "outputs": [
        {
          "output_type": "execute_result",
          "data": {
            "text/html": [
              "<div>\n",
              "<style scoped>\n",
              "    .dataframe tbody tr th:only-of-type {\n",
              "        vertical-align: middle;\n",
              "    }\n",
              "\n",
              "    .dataframe tbody tr th {\n",
              "        vertical-align: top;\n",
              "    }\n",
              "\n",
              "    .dataframe thead th {\n",
              "        text-align: right;\n",
              "    }\n",
              "</style>\n",
              "<table border=\"1\" class=\"dataframe\">\n",
              "  <thead>\n",
              "    <tr style=\"text-align: right;\">\n",
              "      <th></th>\n",
              "      <th>Region 1</th>\n",
              "      <th>Damage grade</th>\n",
              "      <th>Damage grade count</th>\n",
              "    </tr>\n",
              "  </thead>\n",
              "  <tbody>\n",
              "    <tr>\n",
              "      <th>0</th>\n",
              "      <td>0</td>\n",
              "      <td>1</td>\n",
              "      <td>320</td>\n",
              "    </tr>\n",
              "    <tr>\n",
              "      <th>1</th>\n",
              "      <td>0</td>\n",
              "      <td>2</td>\n",
              "      <td>3000</td>\n",
              "    </tr>\n",
              "    <tr>\n",
              "      <th>2</th>\n",
              "      <td>0</td>\n",
              "      <td>3</td>\n",
              "      <td>589</td>\n",
              "    </tr>\n",
              "    <tr>\n",
              "      <th>3</th>\n",
              "      <td>1</td>\n",
              "      <td>1</td>\n",
              "      <td>390</td>\n",
              "    </tr>\n",
              "    <tr>\n",
              "      <th>4</th>\n",
              "      <td>1</td>\n",
              "      <td>2</td>\n",
              "      <td>1921</td>\n",
              "    </tr>\n",
              "  </tbody>\n",
              "</table>\n",
              "</div>"
            ],
            "text/plain": [
              "   Region 1  Damage grade  Damage grade count\n",
              "0         0             1                 320\n",
              "1         0             2                3000\n",
              "2         0             3                 589\n",
              "3         1             1                 390\n",
              "4         1             2                1921"
            ]
          },
          "metadata": {
            "tags": []
          },
          "execution_count": 15
        }
      ]
    },
    {
      "cell_type": "code",
      "metadata": {
        "colab": {
          "base_uri": "https://localhost:8080/",
          "height": 235
        },
        "id": "E1g_40tRWIvh",
        "outputId": "bfae69d1-e0db-47cc-b8d3-db258b4fa57e"
      },
      "source": [
        "affected_buildings_where_lives_1_family_region_1_pivot = affected_buildings_where_lives_1_family_region_1.pivot(index='Region 1', columns='Damage grade', values='Damage grade count')\n",
        "affected_buildings_where_lives_1_family_region_1_pivot = affected_buildings_where_lives_1_family_region_1_pivot.fillna(0)\n",
        "affected_buildings_where_lives_1_family_region_1_pivot.head()"
      ],
      "execution_count": 16,
      "outputs": [
        {
          "output_type": "execute_result",
          "data": {
            "text/html": [
              "<div>\n",
              "<style scoped>\n",
              "    .dataframe tbody tr th:only-of-type {\n",
              "        vertical-align: middle;\n",
              "    }\n",
              "\n",
              "    .dataframe tbody tr th {\n",
              "        vertical-align: top;\n",
              "    }\n",
              "\n",
              "    .dataframe thead th {\n",
              "        text-align: right;\n",
              "    }\n",
              "</style>\n",
              "<table border=\"1\" class=\"dataframe\">\n",
              "  <thead>\n",
              "    <tr style=\"text-align: right;\">\n",
              "      <th>Damage grade</th>\n",
              "      <th>1</th>\n",
              "      <th>2</th>\n",
              "      <th>3</th>\n",
              "    </tr>\n",
              "    <tr>\n",
              "      <th>Region 1</th>\n",
              "      <th></th>\n",
              "      <th></th>\n",
              "      <th></th>\n",
              "    </tr>\n",
              "  </thead>\n",
              "  <tbody>\n",
              "    <tr>\n",
              "      <th>0</th>\n",
              "      <td>320.00</td>\n",
              "      <td>3,000.00</td>\n",
              "      <td>589.00</td>\n",
              "    </tr>\n",
              "    <tr>\n",
              "      <th>1</th>\n",
              "      <td>390.00</td>\n",
              "      <td>1,921.00</td>\n",
              "      <td>302.00</td>\n",
              "    </tr>\n",
              "    <tr>\n",
              "      <th>2</th>\n",
              "      <td>78.00</td>\n",
              "      <td>570.00</td>\n",
              "      <td>230.00</td>\n",
              "    </tr>\n",
              "    <tr>\n",
              "      <th>3</th>\n",
              "      <td>125.00</td>\n",
              "      <td>4,079.00</td>\n",
              "      <td>2,544.00</td>\n",
              "    </tr>\n",
              "    <tr>\n",
              "      <th>4</th>\n",
              "      <td>412.00</td>\n",
              "      <td>9,474.00</td>\n",
              "      <td>2,450.00</td>\n",
              "    </tr>\n",
              "  </tbody>\n",
              "</table>\n",
              "</div>"
            ],
            "text/plain": [
              "Damage grade                    1                    2                    3\n",
              "Region 1                                                                   \n",
              "0                          320.00             3,000.00               589.00\n",
              "1                          390.00             1,921.00               302.00\n",
              "2                           78.00               570.00               230.00\n",
              "3                          125.00             4,079.00             2,544.00\n",
              "4                          412.00             9,474.00             2,450.00"
            ]
          },
          "metadata": {
            "tags": []
          },
          "execution_count": 16
        }
      ]
    },
    {
      "cell_type": "code",
      "metadata": {
        "colab": {
          "base_uri": "https://localhost:8080/",
          "height": 235
        },
        "id": "snwSGH-jHBfp",
        "outputId": "75628f38-5c8f-49dc-8d3e-d2e367b36f72"
      },
      "source": [
        "#Normalizamos las columnas\n",
        "total = affected_buildings_where_lives_1_family_region_1_pivot[1] + affected_buildings_where_lives_1_family_region_1_pivot[2] + affected_buildings_where_lives_1_family_region_1_pivot[3]\n",
        "affected_buildings_where_lives_1_family_region_1_pivot[1] = affected_buildings_where_lives_1_family_region_1_pivot[1]/total\n",
        "affected_buildings_where_lives_1_family_region_1_pivot[2] = affected_buildings_where_lives_1_family_region_1_pivot[2]/total\n",
        "affected_buildings_where_lives_1_family_region_1_pivot[3] = affected_buildings_where_lives_1_family_region_1_pivot[3]/total\n",
        "affected_buildings_where_lives_1_family_region_1_pivot.head()"
      ],
      "execution_count": 17,
      "outputs": [
        {
          "output_type": "execute_result",
          "data": {
            "text/html": [
              "<div>\n",
              "<style scoped>\n",
              "    .dataframe tbody tr th:only-of-type {\n",
              "        vertical-align: middle;\n",
              "    }\n",
              "\n",
              "    .dataframe tbody tr th {\n",
              "        vertical-align: top;\n",
              "    }\n",
              "\n",
              "    .dataframe thead th {\n",
              "        text-align: right;\n",
              "    }\n",
              "</style>\n",
              "<table border=\"1\" class=\"dataframe\">\n",
              "  <thead>\n",
              "    <tr style=\"text-align: right;\">\n",
              "      <th>Damage grade</th>\n",
              "      <th>1</th>\n",
              "      <th>2</th>\n",
              "      <th>3</th>\n",
              "    </tr>\n",
              "    <tr>\n",
              "      <th>Region 1</th>\n",
              "      <th></th>\n",
              "      <th></th>\n",
              "      <th></th>\n",
              "    </tr>\n",
              "  </thead>\n",
              "  <tbody>\n",
              "    <tr>\n",
              "      <th>0</th>\n",
              "      <td>0.08</td>\n",
              "      <td>0.77</td>\n",
              "      <td>0.15</td>\n",
              "    </tr>\n",
              "    <tr>\n",
              "      <th>1</th>\n",
              "      <td>0.15</td>\n",
              "      <td>0.74</td>\n",
              "      <td>0.12</td>\n",
              "    </tr>\n",
              "    <tr>\n",
              "      <th>2</th>\n",
              "      <td>0.09</td>\n",
              "      <td>0.65</td>\n",
              "      <td>0.26</td>\n",
              "    </tr>\n",
              "    <tr>\n",
              "      <th>3</th>\n",
              "      <td>0.02</td>\n",
              "      <td>0.60</td>\n",
              "      <td>0.38</td>\n",
              "    </tr>\n",
              "    <tr>\n",
              "      <th>4</th>\n",
              "      <td>0.03</td>\n",
              "      <td>0.77</td>\n",
              "      <td>0.20</td>\n",
              "    </tr>\n",
              "  </tbody>\n",
              "</table>\n",
              "</div>"
            ],
            "text/plain": [
              "Damage grade                    1                    2                    3\n",
              "Region 1                                                                   \n",
              "0                            0.08                 0.77                 0.15\n",
              "1                            0.15                 0.74                 0.12\n",
              "2                            0.09                 0.65                 0.26\n",
              "3                            0.02                 0.60                 0.38\n",
              "4                            0.03                 0.77                 0.20"
            ]
          },
          "metadata": {
            "tags": []
          },
          "execution_count": 17
        }
      ]
    },
    {
      "cell_type": "code",
      "metadata": {
        "colab": {
          "base_uri": "https://localhost:8080/",
          "height": 640
        },
        "id": "FudnzckeXSUY",
        "outputId": "5a0a515b-3e1c-4bf6-cbd4-ae6d99e4a5ae"
      },
      "source": [
        "plot = affected_buildings_where_lives_1_family_region_1_pivot.plot.bar(color=[(0.7, 0.1, 0.1), (0.3, 0.5, 0.8), (0.1, 0.5, 0.1)],stacked=True, figsize=(20,10))\n",
        "plot.set_title(\"Damage grade vs districts in region 1 where lives 1 family on the damaged buildings\", fontsize=18)\n",
        "plot.set_ylabel(\"Quantity of buildings normalized\", fontsize=18);\n",
        "plot.set_xlabel(\"Districts in region 1 where lives 1 family on the damaged buildings\", fontsize=18);"
      ],
      "execution_count": 18,
      "outputs": [
        {
          "output_type": "display_data",
          "data": {
            "image/png": "[encoded data removed]",
            "text/plain": [
              "<Figure size 1440x720 with 1 Axes>"
            ]
          },
          "metadata": {
            "tags": [],
            "needs_background": "light"
          }
        }
      ]
    },
    {
      "cell_type": "markdown",
      "metadata": {
        "id": "C0xcPhLQDXDp"
      },
      "source": [
        "Tuvimos que normalizar los datos para poder visualizar más concretamente los edificios (nos abstraemos de qué zona de la región uno es la más poblada) que fueron dañados en los distritos de la región uno y que vivía una familia. De esta forma, es fácil comparar qué tan dañados resultaron los edificios de la región uno por sus distritos.\n",
        "Como conclusión, decimos que se observa claramente que los distritos 8, 17, 18 y 21 son los que fueron más afectados debido a que contaron con más del 50% de sus edificios muy o totalmente dañados. También vemos que el distrito 27 sigue esta tendencia porque, aproximadamente, el 50% de sus edificios está muy o totalmente dañado, el 48% esta con un daño mediano y el 2% está poco dañado y, en el balance, hay mayoría de edificios muy o totalmente dañados. A partir de esto, la mayoría de las familias que vivían en esos distritos perdieron sus hogares.\n",
        "Todos los distritos contaron con pocos edificios con daño bajo ya que los edificios de todos los distritos restantes no llegan a representar ni el 40% de los edificios del distrito y tampoco representan la mayoría en el balance.\n",
        "Finalmente, en el caso de todos los distritos, menos los mencionados en el segundo párrafo, tuvieron daño mediano debido a que contaron con más del 50% de sus edificios con este daño. Esto implica que las familias que vivían en estos distritos tuvieron que reparar sus hogares o bien, abandonarlos. Esto último depende de la situación económica de cada familia."
      ]
    },
    {
      "cell_type": "markdown",
      "metadata": {
        "id": "lKrxHHZWnVEK"
      },
      "source": [
        "\n",
        "\n",
        "*   Región 2\n",
        "\n",
        "\n"
      ]
    },
    {
      "cell_type": "code",
      "metadata": {
        "colab": {
          "base_uri": "https://localhost:8080/",
          "height": 204
        },
        "id": "Bjs2-zF_nb8S",
        "outputId": "527fcf5d-1558-48a8-878f-c340c9835b24"
      },
      "source": [
        "affected_buildings_where_lives_1_family_region_2 = affected_buildings_where_lives_1_family.groupby('geo_level_2_id').agg({'damage_grade':'mean'})\n",
        "affected_buildings_where_lives_1_family_region_2.columns = ['damage_grade_mean']\n",
        "affected_buildings_where_lives_1_family_region_2.reset_index(inplace=True)\n",
        "affected_buildings_where_lives_1_family_region_2.columns = ['Region 2', 'Damage grade mean']\n",
        "affected_buildings_where_lives_1_family_region_2.head()"
      ],
      "execution_count": 68,
      "outputs": [
        {
          "output_type": "execute_result",
          "data": {
            "text/html": [
              "<div>\n",
              "<style scoped>\n",
              "    .dataframe tbody tr th:only-of-type {\n",
              "        vertical-align: middle;\n",
              "    }\n",
              "\n",
              "    .dataframe tbody tr th {\n",
              "        vertical-align: top;\n",
              "    }\n",
              "\n",
              "    .dataframe thead th {\n",
              "        text-align: right;\n",
              "    }\n",
              "</style>\n",
              "<table border=\"1\" class=\"dataframe\">\n",
              "  <thead>\n",
              "    <tr style=\"text-align: right;\">\n",
              "      <th></th>\n",
              "      <th>Region 2</th>\n",
              "      <th>Damage grade mean</th>\n",
              "    </tr>\n",
              "  </thead>\n",
              "  <tbody>\n",
              "    <tr>\n",
              "      <th>0</th>\n",
              "      <td>0</td>\n",
              "      <td>3.00</td>\n",
              "    </tr>\n",
              "    <tr>\n",
              "      <th>1</th>\n",
              "      <td>1</td>\n",
              "      <td>2.37</td>\n",
              "    </tr>\n",
              "    <tr>\n",
              "      <th>2</th>\n",
              "      <td>3</td>\n",
              "      <td>2.10</td>\n",
              "    </tr>\n",
              "    <tr>\n",
              "      <th>3</th>\n",
              "      <td>4</td>\n",
              "      <td>2.54</td>\n",
              "    </tr>\n",
              "    <tr>\n",
              "      <th>4</th>\n",
              "      <td>5</td>\n",
              "      <td>2.16</td>\n",
              "    </tr>\n",
              "  </tbody>\n",
              "</table>\n",
              "</div>"
            ],
            "text/plain": [
              "   Region 2    Damage grade mean\n",
              "0         0                 3.00\n",
              "1         1                 2.37\n",
              "2         3                 2.10\n",
              "3         4                 2.54\n",
              "4         5                 2.16"
            ]
          },
          "metadata": {
            "tags": []
          },
          "execution_count": 68
        }
      ]
    },
    {
      "cell_type": "code",
      "metadata": {
        "colab": {
          "base_uri": "https://localhost:8080/",
          "height": 636
        },
        "id": "4mWhSQlUc73y",
        "outputId": "6f853d74-139d-4a40-a4b4-8f292fd17304"
      },
      "source": [
        "plot = affected_buildings_where_lives_1_family_region_2['Damage grade mean'].plot.hist(color=(0.9, 0.5, 0.7), bins=70, figsize=(20,10))\n",
        "plot.set_title(\"Average damage grade vs districts in region 2 where lives 1 family on the damaged buildings\", fontsize=18)\n",
        "plot.set_ylabel(\"Average damage grade is repeated\", fontsize=18);\n",
        "plot.set_xlabel(\"Average damage for districts in region 2 where lives 1 family on the damaged buildings\", fontsize=18);"
      ],
      "execution_count": 69,
      "outputs": [
        {
          "output_type": "display_data",
          "data": {
            "image/png": "[encoded data removed]",
            "text/plain": [
              "<Figure size 1440x720 with 1 Axes>"
            ]
          },
          "metadata": {
            "tags": [],
            "needs_background": "light"
          }
        }
      ]
    },
    {
      "cell_type": "markdown",
      "metadata": {
        "id": "iU6yNgPHMVob"
      },
      "source": [
        "Dado que son muchos distritos en la región 2, decidimos hacer un promedio del daño para cada distrito así podemos sacar una conclsusión fácilmente."
      ]
    },
    {
      "cell_type": "markdown",
      "metadata": {
        "id": "VjUv3L_WqGLW"
      },
      "source": [
        "A partir del gráfico de arriba, podemos concluir que el daño promedio de los edificios donde vivía una familia de la región dos está en el intervalo (2, 2.10), aproximadamente. Esto nos indica que en la mayoría de los distritos de la región dos, los edificios donde vivía una familia fueron dañandos con daño mediano, lo que implica que las familias tuvieron que refaccionar sus hogares o abandonarlos, dependiendo de qué tan buena o mala sea la situación económica de cada familia."
      ]
    },
    {
      "cell_type": "markdown",
      "metadata": {
        "id": "0juq6OpX9DX5"
      },
      "source": [
        "\n",
        "\n",
        "*   Región 3\n",
        "\n"
      ]
    },
    {
      "cell_type": "code",
      "metadata": {
        "colab": {
          "base_uri": "https://localhost:8080/",
          "height": 204
        },
        "id": "wT44hS4z9Cj5",
        "outputId": "039674c3-ecaf-459e-b9b9-784c309914fc"
      },
      "source": [
        "affected_buildings_where_lives_1_family_region_3 = affected_buildings_where_lives_1_family.groupby('geo_level_3_id').agg({'damage_grade':'mean'})\n",
        "affected_buildings_where_lives_1_family_region_3.columns = ['damage_grade_mean']\n",
        "affected_buildings_where_lives_1_family_region_3.reset_index(inplace=True)\n",
        "affected_buildings_where_lives_1_family_region_3.columns = ['Region 3', 'Damage grade mean']\n",
        "affected_buildings_where_lives_1_family_region_3.head()"
      ],
      "execution_count": 94,
      "outputs": [
        {
          "output_type": "execute_result",
          "data": {
            "text/html": [
              "<div>\n",
              "<style scoped>\n",
              "    .dataframe tbody tr th:only-of-type {\n",
              "        vertical-align: middle;\n",
              "    }\n",
              "\n",
              "    .dataframe tbody tr th {\n",
              "        vertical-align: top;\n",
              "    }\n",
              "\n",
              "    .dataframe thead th {\n",
              "        text-align: right;\n",
              "    }\n",
              "</style>\n",
              "<table border=\"1\" class=\"dataframe\">\n",
              "  <thead>\n",
              "    <tr style=\"text-align: right;\">\n",
              "      <th></th>\n",
              "      <th>Region 3</th>\n",
              "      <th>Damage grade mean</th>\n",
              "    </tr>\n",
              "  </thead>\n",
              "  <tbody>\n",
              "    <tr>\n",
              "      <th>0</th>\n",
              "      <td>0</td>\n",
              "      <td>3.00</td>\n",
              "    </tr>\n",
              "    <tr>\n",
              "      <th>1</th>\n",
              "      <td>1</td>\n",
              "      <td>2.50</td>\n",
              "    </tr>\n",
              "    <tr>\n",
              "      <th>2</th>\n",
              "      <td>3</td>\n",
              "      <td>1.88</td>\n",
              "    </tr>\n",
              "    <tr>\n",
              "      <th>3</th>\n",
              "      <td>5</td>\n",
              "      <td>1.15</td>\n",
              "    </tr>\n",
              "    <tr>\n",
              "      <th>4</th>\n",
              "      <td>6</td>\n",
              "      <td>2.68</td>\n",
              "    </tr>\n",
              "  </tbody>\n",
              "</table>\n",
              "</div>"
            ],
            "text/plain": [
              "   Region 3    Damage grade mean\n",
              "0         0                 3.00\n",
              "1         1                 2.50\n",
              "2         3                 1.88\n",
              "3         5                 1.15\n",
              "4         6                 2.68"
            ]
          },
          "metadata": {
            "tags": []
          },
          "execution_count": 94
        }
      ]
    },
    {
      "cell_type": "code",
      "metadata": {
        "colab": {
          "base_uri": "https://localhost:8080/",
          "height": 636
        },
        "id": "zt8uQLLF93IV",
        "outputId": "8632c459-3358-4a47-c5f3-cd83d4a50192"
      },
      "source": [
        "plot = affected_buildings_where_lives_1_family_region_3['Damage grade mean'].plot.hist(color=(0.9, 0.5, 0.7), bins=40, figsize=(20,10))\n",
        "plot.set_title(\"Average damage grade vs districts in region 3 where lives 1 family on the damaged buildings\", fontsize=18)\n",
        "plot.set_ylabel(\"Average damage grade is repeated\", fontsize=18);\n",
        "plot.set_xlabel(\"Average damage for districts in region 3 where lives 1 family on the damaged buildings\", fontsize=18);"
      ],
      "execution_count": 95,
      "outputs": [
        {
          "output_type": "display_data",
          "data": {
            "image/png": "[encoded data removed]",
            "text/plain": [
              "<Figure size 1440x720 with 1 Axes>"
            ]
          },
          "metadata": {
            "tags": [],
            "needs_background": "light"
          }
        }
      ]
    },
    {
      "cell_type": "markdown",
      "metadata": {
        "id": "cZh1Jfq6UKWD"
      },
      "source": [
        "Hicimos lo mismo que en la región dos dado que son muchos distritos. A partir del gráfico de arriba, podemos concluir que el daño promedio de los edificios donde vivía una familia de la región tres está en el intervalo (2, 2.05), aproximadamente. Esto nos indica que en la mayoría de los distritos de la región tres, los edificios donde vivía una familia fueron dañandos con daño mediano, lo que implica que las familias tuvieron que refaccionar sus hogares o abandonarlos, dependiendo de qué tan buena o mala sea la situación económica de cada familia."
      ]
    },
    {
      "cell_type": "markdown",
      "metadata": {
        "id": "KS6F7M_CBKeI"
      },
      "source": [
        "--------------------------------------------------------------------------------"
      ]
    },
    {
      "cell_type": "markdown",
      "metadata": {
        "id": "XlMlApPWAOA7"
      },
      "source": [
        " A continuación, veremos los daños que recibieron los edificios donde vivía más de una sola familia en los distritos de las tres regiones:"
      ]
    },
    {
      "cell_type": "code",
      "metadata": {
        "id": "pKrmr3iMAOqA"
      },
      "source": [
        "affected_buildings_where_lives_more_than_1_family = train_values_reduced_with_damage_for_affected_families.loc[train_values_reduced_with_damage_for_affected_families['count_families'] > 1, :]"
      ],
      "execution_count": 37,
      "outputs": []
    },
    {
      "cell_type": "markdown",
      "metadata": {
        "id": "VRtNVc6TUfoi"
      },
      "source": [
        "* Región 1"
      ]
    },
    {
      "cell_type": "code",
      "metadata": {
        "colab": {
          "base_uri": "https://localhost:8080/",
          "height": 204
        },
        "id": "WUsmxhVjNyuZ",
        "outputId": "b427d9b1-2513-4278-a41b-b8c56911f0bf"
      },
      "source": [
        "affected_buildings_where_lives_more_than_1_family_region_1 = affected_buildings_where_lives_more_than_1_family.groupby(['geo_level_1_id', 'damage_grade']).agg({'damage_grade':'count'})\n",
        "affected_buildings_where_lives_more_than_1_family_region_1.columns = ['damage_grade_count']\n",
        "affected_buildings_where_lives_more_than_1_family_region_1.reset_index(inplace=True)\n",
        "affected_buildings_where_lives_more_than_1_family_region_1.columns = ['Region 1', 'Damage grade', 'Damage grade count']\n",
        "affected_buildings_where_lives_more_than_1_family_region_1.head()"
      ],
      "execution_count": 40,
      "outputs": [
        {
          "output_type": "execute_result",
          "data": {
            "text/html": [
              "<div>\n",
              "<style scoped>\n",
              "    .dataframe tbody tr th:only-of-type {\n",
              "        vertical-align: middle;\n",
              "    }\n",
              "\n",
              "    .dataframe tbody tr th {\n",
              "        vertical-align: top;\n",
              "    }\n",
              "\n",
              "    .dataframe thead th {\n",
              "        text-align: right;\n",
              "    }\n",
              "</style>\n",
              "<table border=\"1\" class=\"dataframe\">\n",
              "  <thead>\n",
              "    <tr style=\"text-align: right;\">\n",
              "      <th></th>\n",
              "      <th>Region 1</th>\n",
              "      <th>Damage grade</th>\n",
              "      <th>Damage grade count</th>\n",
              "    </tr>\n",
              "  </thead>\n",
              "  <tbody>\n",
              "    <tr>\n",
              "      <th>0</th>\n",
              "      <td>0</td>\n",
              "      <td>2</td>\n",
              "      <td>16</td>\n",
              "    </tr>\n",
              "    <tr>\n",
              "      <th>1</th>\n",
              "      <td>0</td>\n",
              "      <td>3</td>\n",
              "      <td>4</td>\n",
              "    </tr>\n",
              "    <tr>\n",
              "      <th>2</th>\n",
              "      <td>1</td>\n",
              "      <td>1</td>\n",
              "      <td>11</td>\n",
              "    </tr>\n",
              "    <tr>\n",
              "      <th>3</th>\n",
              "      <td>1</td>\n",
              "      <td>2</td>\n",
              "      <td>30</td>\n",
              "    </tr>\n",
              "    <tr>\n",
              "      <th>4</th>\n",
              "      <td>1</td>\n",
              "      <td>3</td>\n",
              "      <td>2</td>\n",
              "    </tr>\n",
              "  </tbody>\n",
              "</table>\n",
              "</div>"
            ],
            "text/plain": [
              "   Region 1  Damage grade  Damage grade count\n",
              "0         0             2                  16\n",
              "1         0             3                   4\n",
              "2         1             1                  11\n",
              "3         1             2                  30\n",
              "4         1             3                   2"
            ]
          },
          "metadata": {
            "tags": []
          },
          "execution_count": 40
        }
      ]
    },
    {
      "cell_type": "code",
      "metadata": {
        "colab": {
          "base_uri": "https://localhost:8080/",
          "height": 235
        },
        "id": "EbEbyn-pVSOi",
        "outputId": "a3b5b933-4d79-43ef-9cf3-481a211c21d0"
      },
      "source": [
        "affected_buildings_where_lives_more_than_1_family_region_1_pivot = affected_buildings_where_lives_more_than_1_family_region_1.pivot(index='Region 1', columns='Damage grade', values='Damage grade count')\n",
        "affected_buildings_where_lives_more_than_1_family_region_1_pivot = affected_buildings_where_lives_more_than_1_family_region_1_pivot.fillna(0)\n",
        "affected_buildings_where_lives_more_than_1_family_region_1_pivot.head()"
      ],
      "execution_count": 42,
      "outputs": [
        {
          "output_type": "execute_result",
          "data": {
            "text/html": [
              "<div>\n",
              "<style scoped>\n",
              "    .dataframe tbody tr th:only-of-type {\n",
              "        vertical-align: middle;\n",
              "    }\n",
              "\n",
              "    .dataframe tbody tr th {\n",
              "        vertical-align: top;\n",
              "    }\n",
              "\n",
              "    .dataframe thead th {\n",
              "        text-align: right;\n",
              "    }\n",
              "</style>\n",
              "<table border=\"1\" class=\"dataframe\">\n",
              "  <thead>\n",
              "    <tr style=\"text-align: right;\">\n",
              "      <th>Damage grade</th>\n",
              "      <th>1</th>\n",
              "      <th>2</th>\n",
              "      <th>3</th>\n",
              "    </tr>\n",
              "    <tr>\n",
              "      <th>Region 1</th>\n",
              "      <th></th>\n",
              "      <th></th>\n",
              "      <th></th>\n",
              "    </tr>\n",
              "  </thead>\n",
              "  <tbody>\n",
              "    <tr>\n",
              "      <th>0</th>\n",
              "      <td>0.00</td>\n",
              "      <td>16.00</td>\n",
              "      <td>4.00</td>\n",
              "    </tr>\n",
              "    <tr>\n",
              "      <th>1</th>\n",
              "      <td>11.00</td>\n",
              "      <td>30.00</td>\n",
              "      <td>2.00</td>\n",
              "    </tr>\n",
              "    <tr>\n",
              "      <th>2</th>\n",
              "      <td>0.00</td>\n",
              "      <td>3.00</td>\n",
              "      <td>5.00</td>\n",
              "    </tr>\n",
              "    <tr>\n",
              "      <th>3</th>\n",
              "      <td>0.00</td>\n",
              "      <td>317.00</td>\n",
              "      <td>151.00</td>\n",
              "    </tr>\n",
              "    <tr>\n",
              "      <th>4</th>\n",
              "      <td>27.00</td>\n",
              "      <td>511.00</td>\n",
              "      <td>94.00</td>\n",
              "    </tr>\n",
              "  </tbody>\n",
              "</table>\n",
              "</div>"
            ],
            "text/plain": [
              "Damage grade                    1                    2                    3\n",
              "Region 1                                                                   \n",
              "0                            0.00                16.00                 4.00\n",
              "1                           11.00                30.00                 2.00\n",
              "2                            0.00                 3.00                 5.00\n",
              "3                            0.00               317.00               151.00\n",
              "4                           27.00               511.00                94.00"
            ]
          },
          "metadata": {
            "tags": []
          },
          "execution_count": 42
        }
      ]
    },
    {
      "cell_type": "code",
      "metadata": {
        "colab": {
          "base_uri": "https://localhost:8080/",
          "height": 235
        },
        "id": "g2Nmgk9BVjN6",
        "outputId": "b00cde2b-9f8a-401f-82ab-045264a78149"
      },
      "source": [
        "#Normalizamos las columnas\n",
        "total = affected_buildings_where_lives_more_than_1_family_region_1_pivot[1] + affected_buildings_where_lives_more_than_1_family_region_1_pivot[2] + affected_buildings_where_lives_more_than_1_family_region_1_pivot[3]\n",
        "affected_buildings_where_lives_more_than_1_family_region_1_pivot[1] = affected_buildings_where_lives_more_than_1_family_region_1_pivot[1]/total\n",
        "affected_buildings_where_lives_more_than_1_family_region_1_pivot[2] = affected_buildings_where_lives_more_than_1_family_region_1_pivot[2]/total\n",
        "affected_buildings_where_lives_more_than_1_family_region_1_pivot[3] = affected_buildings_where_lives_more_than_1_family_region_1_pivot[3]/total\n",
        "affected_buildings_where_lives_more_than_1_family_region_1_pivot.head()"
      ],
      "execution_count": 43,
      "outputs": [
        {
          "output_type": "execute_result",
          "data": {
            "text/html": [
              "<div>\n",
              "<style scoped>\n",
              "    .dataframe tbody tr th:only-of-type {\n",
              "        vertical-align: middle;\n",
              "    }\n",
              "\n",
              "    .dataframe tbody tr th {\n",
              "        vertical-align: top;\n",
              "    }\n",
              "\n",
              "    .dataframe thead th {\n",
              "        text-align: right;\n",
              "    }\n",
              "</style>\n",
              "<table border=\"1\" class=\"dataframe\">\n",
              "  <thead>\n",
              "    <tr style=\"text-align: right;\">\n",
              "      <th>Damage grade</th>\n",
              "      <th>1</th>\n",
              "      <th>2</th>\n",
              "      <th>3</th>\n",
              "    </tr>\n",
              "    <tr>\n",
              "      <th>Region 1</th>\n",
              "      <th></th>\n",
              "      <th></th>\n",
              "      <th></th>\n",
              "    </tr>\n",
              "  </thead>\n",
              "  <tbody>\n",
              "    <tr>\n",
              "      <th>0</th>\n",
              "      <td>0.00</td>\n",
              "      <td>0.80</td>\n",
              "      <td>0.20</td>\n",
              "    </tr>\n",
              "    <tr>\n",
              "      <th>1</th>\n",
              "      <td>0.26</td>\n",
              "      <td>0.70</td>\n",
              "      <td>0.05</td>\n",
              "    </tr>\n",
              "    <tr>\n",
              "      <th>2</th>\n",
              "      <td>0.00</td>\n",
              "      <td>0.38</td>\n",
              "      <td>0.62</td>\n",
              "    </tr>\n",
              "    <tr>\n",
              "      <th>3</th>\n",
              "      <td>0.00</td>\n",
              "      <td>0.68</td>\n",
              "      <td>0.32</td>\n",
              "    </tr>\n",
              "    <tr>\n",
              "      <th>4</th>\n",
              "      <td>0.04</td>\n",
              "      <td>0.81</td>\n",
              "      <td>0.15</td>\n",
              "    </tr>\n",
              "  </tbody>\n",
              "</table>\n",
              "</div>"
            ],
            "text/plain": [
              "Damage grade                    1                    2                    3\n",
              "Region 1                                                                   \n",
              "0                            0.00                 0.80                 0.20\n",
              "1                            0.26                 0.70                 0.05\n",
              "2                            0.00                 0.38                 0.62\n",
              "3                            0.00                 0.68                 0.32\n",
              "4                            0.04                 0.81                 0.15"
            ]
          },
          "metadata": {
            "tags": []
          },
          "execution_count": 43
        }
      ]
    },
    {
      "cell_type": "code",
      "metadata": {
        "colab": {
          "base_uri": "https://localhost:8080/",
          "height": 640
        },
        "id": "a6ckjRauWtsK",
        "outputId": "3d894525-89d5-43eb-9cd6-ee603d4d5977"
      },
      "source": [
        "plot = affected_buildings_where_lives_more_than_1_family_region_1_pivot.plot.bar(color=[(0.7, 0.1, 0.1), (0.3, 0.5, 0.8), (0.1, 0.5, 0.1)],stacked=True, figsize=(20,10))\n",
        "plot.set_title(\"Damage grade vs districts in region 1 where lives more than 1 family on the damaged buildings\", fontsize=18)\n",
        "plot.set_ylabel(\"Quantity of buildings normalized\", fontsize=18);\n",
        "plot.set_xlabel(\"Districts in region 1 where lives more than 1 family on the damaged buildings\", fontsize=18);"
      ],
      "execution_count": 45,
      "outputs": [
        {
          "output_type": "display_data",
          "data": {
            "image/png": "[encoded data removed]",
            "text/plain": [
              "<Figure size 1440x720 with 1 Axes>"
            ]
          },
          "metadata": {
            "tags": [],
            "needs_background": "light"
          }
        }
      ]
    },
    {
      "cell_type": "markdown",
      "metadata": {
        "id": "pNJjHKsAXMZ7"
      },
      "source": [
        "Normalizamos los datos con el mismo fin que para el análisis hecho para los edificios de los distritos de la región uno y que vivía una familia, pero en este análisis vivían más de una familia en los edificios de los distritos de la región 1."
      ]
    },
    {
      "cell_type": "markdown",
      "metadata": {
        "id": "uiVy2V4MpXj-"
      },
      "source": [
        "Como conclusión, decimos que se observa claramente que los distritos 2, 17, 18 y 21 son los que fueron más afectados debido a que contaron con más del 50% de sus edificios muy o totalmente dañados. También vemos que el distrito 8 sigue esta tendencia porque, aproximadamente, el 50% de sus edificios está muy o totalmente dañado, el 47% esta con un daño mediano y el 3% está poco dañado y, en el balance, hay mayoría de edificios muy o totalmente dañados. A partir de esto, la mayoría de las familias que vivían en esos distritos perdieron sus hogares. "
      ]
    },
    {
      "cell_type": "markdown",
      "metadata": {
        "id": "eWKvv53ipbd1"
      },
      "source": [
        "Todos los distritos contaron con un porcentaje de pocos edificios con daño bajo, a excepción del 12 que tuvo un 65% de edificios con daño bajo y esto implica que las familias que vivían allí no tuvieron grandes inconvenientes con sus hogares, ya que los edificios de todos los distritos restantes no llegan a representar ni el 40% de los edificios del distrito y tampoco representan la mayoría en el balance."
      ]
    },
    {
      "cell_type": "markdown",
      "metadata": {
        "id": "jjpgpoUDpd_1"
      },
      "source": [
        "El distrito 27 está equilibrado en cuanto a la intensidad de daño de sus edificios ya que tiene 50% de sus edificioscon daño medio y el 50% de sus edificios muy o totalmente dañado. Igualmente, las familias que vivían en este distrito se vieron obligadas a refaccionar sus hogares (en el caso de que su hogar esté dentro de los edificios que recibieron un daño mediano y puedan pagarlo) o abandonarlos."
      ]
    },
    {
      "cell_type": "markdown",
      "metadata": {
        "id": "928_rra_pgf1"
      },
      "source": [
        "Finalmente, en el caso de todos los distritos, menos los mencionados en los párrafos anteriores, tuvieron daño mediano debido a que contaron con más del 50% de sus edificios con este daño. También vemos que el distrito 9 sigue esta tendencia ya que, aproximadamente, el 48% de sus edificios está con daño mediano, el 5% con daño bajo y 47% con mucho daño o totalmente dañado, pero al tener mayoría de edificios, en el balance, con daño mediano, entraría en esta catégoría. Esto implica que las familias que vivían en estos distritos tuvieron que reparar sus hogares o bien, abandonarlos. Esto último depende de la situación económica de cada familia."
      ]
    },
    {
      "cell_type": "markdown",
      "metadata": {
        "id": "x_scG1hEpwzN"
      },
      "source": [
        "**Comparación con el gráfico de la sección edificios dañados en la región uno donde vivía una familia:**"
      ]
    },
    {
      "cell_type": "markdown",
      "metadata": {
        "id": "4KDeg_statwj"
      },
      "source": [
        "Comparándolo con el análisis que realizamos para los edificios dañados en la región uno donde vivía una familia, vemos que coinden casi todos los distritos más afectados (los que contienen un porcentaje mayor de edificios muy o totalmente dañados, respecto de los que resultaron dañados con daño bajo o mediano). Estos son el 8, 17, 18 y 21. Notamos, comprando los gráficos, que el gráfico realizado en el análisis de los edificios dañados en la región uno donde vivía una familia, en esos distritos, hay un porcentaje levemente mayor de los edificios dañados seriamente, respecto de los dañados con daño mediano y bajo que en el gráfico del análisis hecho en esta sección. "
      ]
    },
    {
      "cell_type": "markdown",
      "metadata": {
        "id": "7lnYD2-nppEF"
      },
      "source": [
        "También vemos que en el distrito 2 de esta sección, no hay edificios dañados con daño bajo, mientras que en el del análisis que realizamos para los edificios dañados en la región uno donde vivía una familia sí  hay y hay más predominio del porcentaje de edificios dañados con daño mediano; y que en el distrito 27 de esta sección, tampoco hay edificios dañados con daño bajo, mientras que en el del análisis que realizamos para los edificios dañados en la región uno donde vivía una familia sí hay y por no haber edificios dañados con daño bajo en el gráfico de esta sección se igualan los porcentajes de los edificios dañados con daño mediano y muy alto."
      ]
    },
    {
      "cell_type": "markdown",
      "metadata": {
        "id": "0gGNTC56rO79"
      },
      "source": [
        "* Región 2"
      ]
    },
    {
      "cell_type": "code",
      "metadata": {
        "colab": {
          "base_uri": "https://localhost:8080/",
          "height": 204
        },
        "id": "cpfUab_ErSal",
        "outputId": "5c9debf2-a5e0-465f-a8b4-8c266b78b978"
      },
      "source": [
        "affected_buildings_where_lives_more_than_1_family_region_2 = affected_buildings_where_lives_more_than_1_family.groupby('geo_level_2_id').agg({'damage_grade':'mean'})\n",
        "affected_buildings_where_lives_more_than_1_family_region_2.columns = ['damage_grade_mean']\n",
        "affected_buildings_where_lives_more_than_1_family_region_2.reset_index(inplace=True)\n",
        "affected_buildings_where_lives_more_than_1_family_region_2.columns = ['Region 2', 'Damage grade mean']\n",
        "affected_buildings_where_lives_more_than_1_family_region_2.head()"
      ],
      "execution_count": 46,
      "outputs": [
        {
          "output_type": "execute_result",
          "data": {
            "text/html": [
              "<div>\n",
              "<style scoped>\n",
              "    .dataframe tbody tr th:only-of-type {\n",
              "        vertical-align: middle;\n",
              "    }\n",
              "\n",
              "    .dataframe tbody tr th {\n",
              "        vertical-align: top;\n",
              "    }\n",
              "\n",
              "    .dataframe thead th {\n",
              "        text-align: right;\n",
              "    }\n",
              "</style>\n",
              "<table border=\"1\" class=\"dataframe\">\n",
              "  <thead>\n",
              "    <tr style=\"text-align: right;\">\n",
              "      <th></th>\n",
              "      <th>Region 2</th>\n",
              "      <th>Damage grade mean</th>\n",
              "    </tr>\n",
              "  </thead>\n",
              "  <tbody>\n",
              "    <tr>\n",
              "      <th>0</th>\n",
              "      <td>0</td>\n",
              "      <td>3.00</td>\n",
              "    </tr>\n",
              "    <tr>\n",
              "      <th>1</th>\n",
              "      <td>1</td>\n",
              "      <td>2.50</td>\n",
              "    </tr>\n",
              "    <tr>\n",
              "      <th>2</th>\n",
              "      <td>4</td>\n",
              "      <td>2.35</td>\n",
              "    </tr>\n",
              "    <tr>\n",
              "      <th>3</th>\n",
              "      <td>7</td>\n",
              "      <td>2.37</td>\n",
              "    </tr>\n",
              "    <tr>\n",
              "      <th>4</th>\n",
              "      <td>8</td>\n",
              "      <td>2.20</td>\n",
              "    </tr>\n",
              "  </tbody>\n",
              "</table>\n",
              "</div>"
            ],
            "text/plain": [
              "   Region 2    Damage grade mean\n",
              "0         0                 3.00\n",
              "1         1                 2.50\n",
              "2         4                 2.35\n",
              "3         7                 2.37\n",
              "4         8                 2.20"
            ]
          },
          "metadata": {
            "tags": []
          },
          "execution_count": 46
        }
      ]
    },
    {
      "cell_type": "code",
      "metadata": {
        "colab": {
          "base_uri": "https://localhost:8080/",
          "height": 636
        },
        "id": "Ymg0_bl_rzE2",
        "outputId": "ef4de794-5fc0-466d-c224-4274c3bac480"
      },
      "source": [
        "plot = affected_buildings_where_lives_more_than_1_family_region_2['Damage grade mean'].plot.hist(color=(0.9, 0.5, 0.7), bins=50, figsize=(20,10))\n",
        "plot.set_title(\"Average damage grade vs districts in region 2 where lives more than 1 family on the damaged buildings\", fontsize=18)\n",
        "plot.set_ylabel(\"Average damage grade is repeated\", fontsize=18);\n",
        "plot.set_xlabel(\"Average damage for districts in region 2 where lives more than 1 family on the damaged buildings\", fontsize=18);"
      ],
      "execution_count": 56,
      "outputs": [
        {
          "output_type": "display_data",
          "data": {
            "image/png": "[encoded data removed]",
            "text/plain": [
              "<Figure size 1440x720 with 1 Axes>"
            ]
          },
          "metadata": {
            "tags": [],
            "needs_background": "light"
          }
        }
      ]
    },
    {
      "cell_type": "markdown",
      "metadata": {
        "id": "ThQj3a00su5e"
      },
      "source": [
        "Dado que son muchos distritos en la región 2, decidimos hacer un promedio del daño para cada distrito así podemos sacar una conclsusión fácilmente."
      ]
    },
    {
      "cell_type": "markdown",
      "metadata": {
        "id": "sJMwLwoEs3WI"
      },
      "source": [
        "A partir del gráfico de arriba, podemos concluir que el daño promedio de los edificios donde vivía más de una familia de la región dos está en el intervalo (2, 2.05), aproximadamente. Esto nos indica que en la mayoría de los distritos de la región dos, los edificios donde vivía más de una familia fueron dañandos con daño mediano, lo que implica que las familias tuvieron que refaccionar sus hogares o abandonarlos, dependiendo de qué tan buena o mala sea la situación económica de cada familia."
      ]
    },
    {
      "cell_type": "markdown",
      "metadata": {
        "id": "zqlKXH-QyAg-"
      },
      "source": [
        "**Comparación con el gráfico de la sección edificios dañados en la región dos donde vivía una familia:**"
      ]
    },
    {
      "cell_type": "markdown",
      "metadata": {
        "id": "WW2ydQd_yEcx"
      },
      "source": [
        "Comparándolo con el análisis que realizamos para los edificios dañados en la región dos donde vivía una familia, podemos observar que en el gráfico de esta sección están mucho más dispersos los daños promedios, pero se siguen acumulando en el mismo lugar (aproximadamente) ya que el daño promedio más grande sigue siendo cercano a dos. Esto quiere decir que para ambas secciones, por más que haya muchos más edificios en la seccion de los edificios dañados en la región dos donde vivía una familia que en esta, donde estamos realizando esta comparación, la tendencia se repite. Sin embargo, los daños promedio cercanos a tres y a uno se acumulan más que en la seccion de los edificios dañados en la región dos donde vivía una familia (en el párrafo siguiente, vamos a concluir al respecto)."
      ]
    },
    {
      "cell_type": "markdown",
      "metadata": {
        "id": "cgS5_HFM3F6K"
      },
      "source": [
        "Otra observación interesante es que, en esta sección, el daño promedio cercano a uno, dos y tres se repiten más veces que en la sección de los edificios dañados en la región dos donde vivía una familia (y eso que en la presente sección hay menos edificios). Eso es porque en la presente sección, la repetición de los daños promedios no entre uno, dos y tres se dan con menor frecuencia que en la otra sección, por lo que se acumulan menos y se dispersan más, facilitando que se acumulen más en los valores cercanos auno, a dos y a tres."
      ]
    },
    {
      "cell_type": "code",
      "metadata": {
        "colab": {
          "base_uri": "https://localhost:8080/",
          "height": 636
        },
        "id": "G_TaoI-7QzGO",
        "outputId": "7c5d8eb8-d34b-4eb9-f923-927ab5d4c495"
      },
      "source": [
        "x=affected_buildings_where_lives_more_than_1_family_region_2['Damage grade mean']\n",
        "y=affected_buildings_where_lives_1_family_region_2['Damage grade mean']\n",
        "\n",
        "fig, ax = plt.subplots(figsize=(20,10))\n",
        "ax.hist([x, y], bins=50, alpha=1, label=['Buildings where lives more than 1 family','Buildings where lives 1 family'], color=[(0.9, 0.5, 0.7), 'b'])\n",
        "\n",
        "plt.title(\"Average damage grade vs districts in region 2\", fontsize=18)\n",
        "plt.legend(loc='upper right', edgecolor='k')\n",
        "plt.xlabel(\"Average damage for districts in region 2\", fontsize=18)\n",
        "plt.ylabel(\"Average damage grade is repeated\", fontsize=18)\n",
        "plt.show()"
      ],
      "execution_count": 93,
      "outputs": [
        {
          "output_type": "display_data",
          "data": {
            "image/png": "[encoded data removed]",
            "text/plain": [
              "<Figure size 1440x720 with 1 Axes>"
            ]
          },
          "metadata": {
            "tags": [],
            "needs_background": "light"
          }
        }
      ]
    },
    {
      "cell_type": "markdown",
      "metadata": {
        "id": "-P5PcQOfts2p"
      },
      "source": [
        "* Región 3"
      ]
    },
    {
      "cell_type": "code",
      "metadata": {
        "colab": {
          "base_uri": "https://localhost:8080/",
          "height": 204
        },
        "id": "W0qFlaTstvXO",
        "outputId": "d1b3915f-339f-4955-cb0a-fd5f41f74644"
      },
      "source": [
        "affected_buildings_where_lives_more_than_1_family_region_3 = affected_buildings_where_lives_more_than_1_family.groupby('geo_level_3_id').agg({'damage_grade':'mean'})\n",
        "affected_buildings_where_lives_more_than_1_family_region_3.columns = ['damage_grade_mean']\n",
        "affected_buildings_where_lives_more_than_1_family_region_3.reset_index(inplace=True)\n",
        "affected_buildings_where_lives_more_than_1_family_region_3.columns = ['Region 3', 'Damage grade mean']\n",
        "affected_buildings_where_lives_more_than_1_family_region_3.head()"
      ],
      "execution_count": 57,
      "outputs": [
        {
          "output_type": "execute_result",
          "data": {
            "text/html": [
              "<div>\n",
              "<style scoped>\n",
              "    .dataframe tbody tr th:only-of-type {\n",
              "        vertical-align: middle;\n",
              "    }\n",
              "\n",
              "    .dataframe tbody tr th {\n",
              "        vertical-align: top;\n",
              "    }\n",
              "\n",
              "    .dataframe thead th {\n",
              "        text-align: right;\n",
              "    }\n",
              "</style>\n",
              "<table border=\"1\" class=\"dataframe\">\n",
              "  <thead>\n",
              "    <tr style=\"text-align: right;\">\n",
              "      <th></th>\n",
              "      <th>Region 3</th>\n",
              "      <th>Damage grade mean</th>\n",
              "    </tr>\n",
              "  </thead>\n",
              "  <tbody>\n",
              "    <tr>\n",
              "      <th>0</th>\n",
              "      <td>5</td>\n",
              "      <td>1.00</td>\n",
              "    </tr>\n",
              "    <tr>\n",
              "      <th>1</th>\n",
              "      <td>8</td>\n",
              "      <td>3.00</td>\n",
              "    </tr>\n",
              "    <tr>\n",
              "      <th>2</th>\n",
              "      <td>11</td>\n",
              "      <td>2.60</td>\n",
              "    </tr>\n",
              "    <tr>\n",
              "      <th>3</th>\n",
              "      <td>14</td>\n",
              "      <td>2.00</td>\n",
              "    </tr>\n",
              "    <tr>\n",
              "      <th>4</th>\n",
              "      <td>16</td>\n",
              "      <td>2.00</td>\n",
              "    </tr>\n",
              "  </tbody>\n",
              "</table>\n",
              "</div>"
            ],
            "text/plain": [
              "   Region 3    Damage grade mean\n",
              "0         5                 1.00\n",
              "1         8                 3.00\n",
              "2        11                 2.60\n",
              "3        14                 2.00\n",
              "4        16                 2.00"
            ]
          },
          "metadata": {
            "tags": []
          },
          "execution_count": 57
        }
      ]
    },
    {
      "cell_type": "code",
      "metadata": {
        "colab": {
          "base_uri": "https://localhost:8080/",
          "height": 636
        },
        "id": "LqUGg60CuNQm",
        "outputId": "12e7a7d2-344f-4da2-d55a-0401d69ce5ce"
      },
      "source": [
        "plot = affected_buildings_where_lives_more_than_1_family_region_3['Damage grade mean'].plot.hist(color=(0.9, 0.5, 0.7), bins=40, figsize=(20,10))\n",
        "plot.set_title(\"Average damage grade vs districts in region 3 where lives more than 1 family on the damaged buildings\", fontsize=18)\n",
        "plot.set_ylabel(\"Average damage grade is repeated\", fontsize=18);\n",
        "plot.set_xlabel(\"Average damage for districts in region 3 where lives more than 1 family on the damaged buildings\", fontsize=18);"
      ],
      "execution_count": 62,
      "outputs": [
        {
          "output_type": "display_data",
          "data": {
            "image/png": "[encoded data removed]",
            "text/plain": [
              "<Figure size 1440x720 with 1 Axes>"
            ]
          },
          "metadata": {
            "tags": [],
            "needs_background": "light"
          }
        }
      ]
    },
    {
      "cell_type": "markdown",
      "metadata": {
        "id": "zsz6G8iRu0M9"
      },
      "source": [
        "Hicimos lo mismo que en la región tres dado que son muchos distritos. "
      ]
    },
    {
      "cell_type": "markdown",
      "metadata": {
        "id": "T1PH4GW8u_Kt"
      },
      "source": [
        "A partir del gráfico de arriba, podemos concluir que el daño promedio de los edificios donde vivía más de una familia de la región tres está muy cercano a dos. Esto nos indica que en la mayoría de los distritos de la región tres, los edificios donde vivía más de una familia fueron dañandos con daño mediano, lo que implica que las familias tuvieron que refaccionar sus hogares o abandonarlos, dependiendo de qué tan buena o mala sea la situación económica de cada familia."
      ]
    },
    {
      "cell_type": "markdown",
      "metadata": {
        "id": "va4DXuVV4ZmH"
      },
      "source": [
        "**Comparación con el gráfico de la sección edificios dañados en la región tres donde vivía una familia:**"
      ]
    },
    {
      "cell_type": "markdown",
      "metadata": {
        "id": "j8mMLgf04dau"
      },
      "source": [
        "Comparándolo con el análisis que realizamos para los edificios dañados en la región tres donde vivía una familia, podemos observar que en el gráfico de esta sección se acumulan de la misma manera, aproximadamente, pero con menor cantidad (lógico porque son menos edificios). Sin embargo, para los daños promedios cercanos a tres, se acumuló aproximadamente la misma cantidad de repeticiones que para los edificios dañados en la región tres donde vivía una familia (dato curioso, ya que hay menos edificios en esta sección). Esto implica que, en proporción, hubieron más edificios que recibieron un daño promedio muy cercano a tres. "
      ]
    },
    {
      "cell_type": "code",
      "metadata": {
        "colab": {
          "base_uri": "https://localhost:8080/",
          "height": 636
        },
        "id": "-4R_FzCkdksw",
        "outputId": "7231bcbe-1ee8-4632-e2a3-bf0345c087a7"
      },
      "source": [
        "x=affected_buildings_where_lives_more_than_1_family_region_3['Damage grade mean']\n",
        "y=affected_buildings_where_lives_1_family_region_3['Damage grade mean']\n",
        "\n",
        "fig, ax = plt.subplots(figsize=(20,10))\n",
        "ax.hist([x, y], bins=30, alpha=1, label=['Buildings where lives more than 1 family','Buildings where lives 1 family'], color=[(0.9, 0.5, 0.7), 'b'])\n",
        "\n",
        "plt.title(\"Average damage grade vs districts in region 3\", fontsize=18)\n",
        "plt.legend(loc='upper right', edgecolor='k')\n",
        "plt.xlabel(\"Average damage for districts in region 3\", fontsize=18)\n",
        "plt.ylabel(\"Average damage grade is repeated\", fontsize=18)\n",
        "plt.show()"
      ],
      "execution_count": 98,
      "outputs": [
        {
          "output_type": "display_data",
          "data": {
            "image/png": "[encoded data removed]",
            "text/plain": [
              "<Figure size 1440x720 with 1 Axes>"
            ]
          },
          "metadata": {
            "tags": [],
            "needs_background": "light"
          }
        }
      ]
    },
    {
      "cell_type": "markdown",
      "metadata": {
        "id": "EzM4Kah4uRku"
      },
      "source": [
        "**Conclusión general de en qué regiones las familias se vieron más afectadas**"
      ]
    },
    {
      "cell_type": "markdown",
      "metadata": {
        "id": "ZjE7PWEfucAy"
      },
      "source": [
        "Como conclusión a todo este análisis, podemos agrupar lo visto para la región uno, por un lado, lo visto para la región dos, por otro, y lo visto para la región tres, por otro."
      ]
    },
    {
      "cell_type": "markdown",
      "metadata": {
        "id": "acuGAP08Ry1c"
      },
      "source": [
        "Para la región uno, concluimos que las familias que vivían en la región 8, 17, 18 y 21 fueron las más afectadas por lo descrito en sección correspondiente a este análisis. Tomamos la intersección de las regiones para una familia y más de una familia que vivía en los edificios."
      ]
    },
    {
      "cell_type": "markdown",
      "metadata": {
        "id": "1ff0S1h6Vswk"
      },
      "source": [
        "Para la región dos, concluimos que, a partir de los gráficos exhibidos anteriormente, los distritos de esta región tuvieron un daño mediano por lo que las familias tuvieron que reparar sus hogares y en caso de no poder, abandonarlos. "
      ]
    },
    {
      "cell_type": "markdown",
      "metadata": {
        "id": "5YoRUMLKc3Ix"
      },
      "source": [
        "Para la región tres, concluimos que, a partir de los gráficos exhibidos anteriormente, los distritos de esta región tuvieron un daño mediano por lo que las familias tuvieron que reparar sus hogares y en caso de no poder, abandonarlos. "
      ]
    },
    {
      "cell_type": "markdown",
      "metadata": {
        "id": "K4Ve3kH_8a9I"
      },
      "source": [
        "#Edificios de uso secundario"
      ]
    },
    {
      "cell_type": "markdown",
      "metadata": {
        "id": "hRbyBWuseXPs"
      },
      "source": [
        "Análisis previo:"
      ]
    },
    {
      "cell_type": "code",
      "metadata": {
        "colab": {
          "base_uri": "https://localhost:8080/"
        },
        "id": "TQA8Pw3mw0gZ",
        "outputId": "5c0245e7-19e4-4973-9758-791e171ed772"
      },
      "source": [
        "train_values['has_secondary_use'].value_counts()"
      ],
      "execution_count": null,
      "outputs": [
        {
          "output_type": "execute_result",
          "data": {
            "text/plain": [
              "0    231445\n",
              "1     29156\n",
              "Name: has_secondary_use, dtype: int64"
            ]
          },
          "metadata": {
            "tags": []
          },
          "execution_count": 68
        }
      ]
    },
    {
      "cell_type": "code",
      "metadata": {
        "colab": {
          "base_uri": "https://localhost:8080/"
        },
        "id": "j1ofLK6Vxqlc",
        "outputId": "57fffec3-2605-4ea8-8195-030da7ca9b87"
      },
      "source": [
        "train_values['has_secondary_use_other'].value_counts()"
      ],
      "execution_count": null,
      "outputs": [
        {
          "output_type": "execute_result",
          "data": {
            "text/plain": [
              "0    259267\n",
              "1      1334\n",
              "Name: has_secondary_use_other, dtype: int64"
            ]
          },
          "metadata": {
            "tags": []
          },
          "execution_count": 69
        }
      ]
    },
    {
      "cell_type": "code",
      "metadata": {
        "colab": {
          "base_uri": "https://localhost:8080/"
        },
        "id": "diWxjpISyAg9",
        "outputId": "132746e0-31ff-4bb1-e491-b29295af4069"
      },
      "source": [
        "train_values['has_secondary_use_use_police'].value_counts()"
      ],
      "execution_count": null,
      "outputs": [
        {
          "output_type": "execute_result",
          "data": {
            "text/plain": [
              "0    260578\n",
              "1        23\n",
              "Name: has_secondary_use_use_police, dtype: int64"
            ]
          },
          "metadata": {
            "tags": []
          },
          "execution_count": 70
        }
      ]
    },
    {
      "cell_type": "code",
      "metadata": {
        "colab": {
          "base_uri": "https://localhost:8080/"
        },
        "id": "edu3xR2EyH97",
        "outputId": "0c4fc4cd-dd23-4a6e-a272-905052f8431a"
      },
      "source": [
        "train_values['has_secondary_use_gov_office'].value_counts()"
      ],
      "execution_count": null,
      "outputs": [
        {
          "output_type": "execute_result",
          "data": {
            "text/plain": [
              "0    260563\n",
              "1        38\n",
              "Name: has_secondary_use_gov_office, dtype: int64"
            ]
          },
          "metadata": {
            "tags": []
          },
          "execution_count": 71
        }
      ]
    },
    {
      "cell_type": "code",
      "metadata": {
        "colab": {
          "base_uri": "https://localhost:8080/"
        },
        "id": "RKDrVkRkySgb",
        "outputId": "11bc91a8-adba-4052-98c1-fb63729cef2a"
      },
      "source": [
        "train_values['has_secondary_use_health_post'].value_counts()"
      ],
      "execution_count": null,
      "outputs": [
        {
          "output_type": "execute_result",
          "data": {
            "text/plain": [
              "0    260552\n",
              "1        49\n",
              "Name: has_secondary_use_health_post, dtype: int64"
            ]
          },
          "metadata": {
            "tags": []
          },
          "execution_count": 72
        }
      ]
    },
    {
      "cell_type": "code",
      "metadata": {
        "colab": {
          "base_uri": "https://localhost:8080/"
        },
        "id": "dtNWYhAryf5L",
        "outputId": "03d4cbc1-eb05-42ef-a111-e71a250eca28"
      },
      "source": [
        "train_values['has_secondary_use_industry'].value_counts()"
      ],
      "execution_count": null,
      "outputs": [
        {
          "output_type": "execute_result",
          "data": {
            "text/plain": [
              "0    260322\n",
              "1       279\n",
              "Name: has_secondary_use_industry, dtype: int64"
            ]
          },
          "metadata": {
            "tags": []
          },
          "execution_count": 73
        }
      ]
    },
    {
      "cell_type": "code",
      "metadata": {
        "colab": {
          "base_uri": "https://localhost:8080/"
        },
        "id": "JAco03N1yoxD",
        "outputId": "ab376453-7450-43c9-d282-a152d8be7eb4"
      },
      "source": [
        "train_values['has_secondary_use_school'].value_counts()"
      ],
      "execution_count": null,
      "outputs": [
        {
          "output_type": "execute_result",
          "data": {
            "text/plain": [
              "0    260507\n",
              "1        94\n",
              "Name: has_secondary_use_school, dtype: int64"
            ]
          },
          "metadata": {
            "tags": []
          },
          "execution_count": 74
        }
      ]
    },
    {
      "cell_type": "code",
      "metadata": {
        "colab": {
          "base_uri": "https://localhost:8080/"
        },
        "id": "O0yozikjyz2l",
        "outputId": "0ee206a4-b5aa-4cf7-d42f-c1236502e151"
      },
      "source": [
        "train_values['has_secondary_use_institution'].value_counts()"
      ],
      "execution_count": null,
      "outputs": [
        {
          "output_type": "execute_result",
          "data": {
            "text/plain": [
              "0    260356\n",
              "1       245\n",
              "Name: has_secondary_use_institution, dtype: int64"
            ]
          },
          "metadata": {
            "tags": []
          },
          "execution_count": 75
        }
      ]
    },
    {
      "cell_type": "code",
      "metadata": {
        "colab": {
          "base_uri": "https://localhost:8080/"
        },
        "id": "fFOqWzq5y61b",
        "outputId": "dec27b64-9b70-46ab-9fc8-c3cd69e53050"
      },
      "source": [
        "train_values['has_secondary_use_rental'].value_counts()"
      ],
      "execution_count": null,
      "outputs": [
        {
          "output_type": "execute_result",
          "data": {
            "text/plain": [
              "0    258490\n",
              "1      2111\n",
              "Name: has_secondary_use_rental, dtype: int64"
            ]
          },
          "metadata": {
            "tags": []
          },
          "execution_count": 76
        }
      ]
    },
    {
      "cell_type": "code",
      "metadata": {
        "colab": {
          "base_uri": "https://localhost:8080/"
        },
        "id": "3r7siIKbzF18",
        "outputId": "62600190-b5f0-4445-96be-2c06cd751d60"
      },
      "source": [
        "train_values['has_secondary_use_hotel'].value_counts()"
      ],
      "execution_count": null,
      "outputs": [
        {
          "output_type": "execute_result",
          "data": {
            "text/plain": [
              "0    251838\n",
              "1      8763\n",
              "Name: has_secondary_use_hotel, dtype: int64"
            ]
          },
          "metadata": {
            "tags": []
          },
          "execution_count": 77
        }
      ]
    },
    {
      "cell_type": "code",
      "metadata": {
        "colab": {
          "base_uri": "https://localhost:8080/"
        },
        "id": "0ZcOvAttzMw7",
        "outputId": "ca32f61f-9e7c-496a-8bf1-5e8cbbc61dd1"
      },
      "source": [
        "train_values['has_secondary_use_agriculture'].value_counts()"
      ],
      "execution_count": null,
      "outputs": [
        {
          "output_type": "execute_result",
          "data": {
            "text/plain": [
              "0    243824\n",
              "1     16777\n",
              "Name: has_secondary_use_agriculture, dtype: int64"
            ]
          },
          "metadata": {
            "tags": []
          },
          "execution_count": 78
        }
      ]
    },
    {
      "cell_type": "markdown",
      "metadata": {
        "id": "ezhNBCXx9Ou6"
      },
      "source": [
        "Haciendo la suma de todas las ocurrencias de los unos que figuran en cada columna has_secondary_use_x (x puede ser agriculture, hotel, rental, institution, school, industry, health_post, gov_office, police y other), 29713, vemos que es mayor a todos los unos de la columna has_secondary_use, 29156. Eso es debido a que un edificio puede tener más de un eso secundario. A continuación se detalla un ejemplo:"
      ]
    },
    {
      "cell_type": "code",
      "metadata": {
        "colab": {
          "base_uri": "https://localhost:8080/"
        },
        "id": "RoqM2S-N_Qjw",
        "outputId": "dd30da9a-fab3-480b-aa17-9b2e4fa78503"
      },
      "source": [
        "train_values.loc[train_values['has_secondary_use_agriculture'].eq(1) & train_values['has_secondary_use_other'].eq(1), :].shape"
      ],
      "execution_count": null,
      "outputs": [
        {
          "output_type": "execute_result",
          "data": {
            "text/plain": [
              "(474, 39)"
            ]
          },
          "metadata": {
            "tags": []
          },
          "execution_count": 79
        }
      ]
    }
  ]
}