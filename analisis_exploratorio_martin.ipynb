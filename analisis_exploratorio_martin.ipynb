{
  "nbformat": 4,
  "nbformat_minor": 0,
  "metadata": {
    "colab": {
      "name": "analisis_exploratorio_martin.ipynb",
      "provenance": [],
      "collapsed_sections": [
        "gsxedDdZdYDb"
      ],
      "include_colab_link": true
    },
    "kernelspec": {
      "name": "python3",
      "display_name": "Python 3"
    },
    "language_info": {
      "name": "python"
    }
  },
  "cells": [
    {
      "cell_type": "markdown",
      "metadata": {
        "id": "view-in-github",
        "colab_type": "text"
      },
      "source": [
        "<a href=\"https://colab.research.google.com/github/rociotarda/TP1---Datos/blob/main/analisis_exploratorio_martin.ipynb\" target=\"_parent\"><img src=\"https://colab.research.google.com/assets/colab-badge.svg\" alt=\"Open In Colab\"/></a>"
      ]
    },
    {
      "cell_type": "code",
      "metadata": {
        "id": "Lx83sOVULVc6"
      },
      "source": [
        "# importacion general de librerias y de visualizacion (matplotlib y seaborn)\n",
        "import pandas as pd\n",
        "import numpy as np\n",
        "import matplotlib.pyplot as plt\n",
        "import seaborn as sns\n",
        "\n",
        "%matplotlib inline\n",
        "\n",
        "plt.style.use('default') # haciendo los graficos un poco mas bonitos en matplotlib\n",
        "#plt.rcParams['figure.figsize'] = (20, 10)\n",
        "\n",
        "sns.set(style=\"whitegrid\") # seteando tipo de grid en seaborn\n",
        "\n",
        "pd.options.display.float_format = '{:20,.2f}'.format # suprimimos la notacion cientifica en los outputs\n",
        "\n",
        "import warnings\n",
        "warnings.filterwarnings('ignore')"
      ],
      "execution_count": 1,
      "outputs": []
    },
    {
      "cell_type": "code",
      "metadata": {
        "id": "35LpN2c-Lz2O"
      },
      "source": [
        "from pydrive.auth import GoogleAuth\n",
        "from pydrive.drive import GoogleDrive\n",
        "from google.colab import auth\n",
        "from oauth2client.client import GoogleCredentials"
      ],
      "execution_count": 2,
      "outputs": []
    },
    {
      "cell_type": "code",
      "metadata": {
        "id": "nqPx9YrYT-1H"
      },
      "source": [
        "auth.authenticate_user()\n",
        "gauth = GoogleAuth()\n",
        "gauth.credentials = GoogleCredentials.get_application_default()\n",
        "drive = GoogleDrive(gauth)"
      ],
      "execution_count": 3,
      "outputs": []
    },
    {
      "cell_type": "code",
      "metadata": {
        "id": "IB2QpSLzT_1K"
      },
      "source": [
        "id='1Su8VBZNHOqwzBIA_-hiMtUdhS6-p6Kte'\n",
        "downloaded = drive.CreateFile({'id': id})\n",
        "downloaded.GetContentFile('train_values.csv')"
      ],
      "execution_count": 4,
      "outputs": []
    },
    {
      "cell_type": "code",
      "metadata": {
        "id": "fn6YlnipaVkX"
      },
      "source": [
        "id_2='1ct-Uk6jmJWZ4-g-ryvCINzDSmLsRYBlN'\n",
        "downloaded = drive.CreateFile({'id': id_2})\n",
        "downloaded.GetContentFile('train_labels.csv')"
      ],
      "execution_count": 5,
      "outputs": []
    },
    {
      "cell_type": "code",
      "metadata": {
        "id": "qE23qB6nMEB0"
      },
      "source": [
        "train_values = pd.read_csv('train_values.csv')\n",
        "train_labels = pd.read_csv('train_labels.csv')"
      ],
      "execution_count": 29,
      "outputs": []
    },
    {
      "cell_type": "markdown",
      "metadata": {
        "id": "gsxedDdZdYDb"
      },
      "source": [
        "#Análisis previo sobre el DataFrame train_values.\n",
        "\n"
      ]
    },
    {
      "cell_type": "code",
      "metadata": {
        "colab": {
          "base_uri": "https://localhost:8080/",
          "height": 224
        },
        "id": "Luc0Y5zDRl1q",
        "outputId": "3f439b1a-de1f-4e23-8b33-0dc9e4a84315"
      },
      "source": [
        "train_values.head(5)"
      ],
      "execution_count": null,
      "outputs": [
        {
          "output_type": "execute_result",
          "data": {
            "text/html": [
              "<div>\n",
              "<style scoped>\n",
              "    .dataframe tbody tr th:only-of-type {\n",
              "        vertical-align: middle;\n",
              "    }\n",
              "\n",
              "    .dataframe tbody tr th {\n",
              "        vertical-align: top;\n",
              "    }\n",
              "\n",
              "    .dataframe thead th {\n",
              "        text-align: right;\n",
              "    }\n",
              "</style>\n",
              "<table border=\"1\" class=\"dataframe\">\n",
              "  <thead>\n",
              "    <tr style=\"text-align: right;\">\n",
              "      <th></th>\n",
              "      <th>building_id</th>\n",
              "      <th>geo_level_1_id</th>\n",
              "      <th>geo_level_2_id</th>\n",
              "      <th>geo_level_3_id</th>\n",
              "      <th>count_floors_pre_eq</th>\n",
              "      <th>age</th>\n",
              "      <th>area_percentage</th>\n",
              "      <th>height_percentage</th>\n",
              "      <th>land_surface_condition</th>\n",
              "      <th>foundation_type</th>\n",
              "      <th>roof_type</th>\n",
              "      <th>ground_floor_type</th>\n",
              "      <th>other_floor_type</th>\n",
              "      <th>position</th>\n",
              "      <th>plan_configuration</th>\n",
              "      <th>has_superstructure_adobe_mud</th>\n",
              "      <th>has_superstructure_mud_mortar_stone</th>\n",
              "      <th>has_superstructure_stone_flag</th>\n",
              "      <th>has_superstructure_cement_mortar_stone</th>\n",
              "      <th>has_superstructure_mud_mortar_brick</th>\n",
              "      <th>has_superstructure_cement_mortar_brick</th>\n",
              "      <th>has_superstructure_timber</th>\n",
              "      <th>has_superstructure_bamboo</th>\n",
              "      <th>has_superstructure_rc_non_engineered</th>\n",
              "      <th>has_superstructure_rc_engineered</th>\n",
              "      <th>has_superstructure_other</th>\n",
              "      <th>legal_ownership_status</th>\n",
              "      <th>count_families</th>\n",
              "      <th>has_secondary_use</th>\n",
              "      <th>has_secondary_use_agriculture</th>\n",
              "      <th>has_secondary_use_hotel</th>\n",
              "      <th>has_secondary_use_rental</th>\n",
              "      <th>has_secondary_use_institution</th>\n",
              "      <th>has_secondary_use_school</th>\n",
              "      <th>has_secondary_use_industry</th>\n",
              "      <th>has_secondary_use_health_post</th>\n",
              "      <th>has_secondary_use_gov_office</th>\n",
              "      <th>has_secondary_use_use_police</th>\n",
              "      <th>has_secondary_use_other</th>\n",
              "    </tr>\n",
              "  </thead>\n",
              "  <tbody>\n",
              "    <tr>\n",
              "      <th>0</th>\n",
              "      <td>802906</td>\n",
              "      <td>6</td>\n",
              "      <td>487</td>\n",
              "      <td>12198</td>\n",
              "      <td>2</td>\n",
              "      <td>30</td>\n",
              "      <td>6</td>\n",
              "      <td>5</td>\n",
              "      <td>t</td>\n",
              "      <td>r</td>\n",
              "      <td>n</td>\n",
              "      <td>f</td>\n",
              "      <td>q</td>\n",
              "      <td>t</td>\n",
              "      <td>d</td>\n",
              "      <td>1</td>\n",
              "      <td>1</td>\n",
              "      <td>0</td>\n",
              "      <td>0</td>\n",
              "      <td>0</td>\n",
              "      <td>0</td>\n",
              "      <td>0</td>\n",
              "      <td>0</td>\n",
              "      <td>0</td>\n",
              "      <td>0</td>\n",
              "      <td>0</td>\n",
              "      <td>v</td>\n",
              "      <td>1</td>\n",
              "      <td>0</td>\n",
              "      <td>0</td>\n",
              "      <td>0</td>\n",
              "      <td>0</td>\n",
              "      <td>0</td>\n",
              "      <td>0</td>\n",
              "      <td>0</td>\n",
              "      <td>0</td>\n",
              "      <td>0</td>\n",
              "      <td>0</td>\n",
              "      <td>0</td>\n",
              "    </tr>\n",
              "    <tr>\n",
              "      <th>1</th>\n",
              "      <td>28830</td>\n",
              "      <td>8</td>\n",
              "      <td>900</td>\n",
              "      <td>2812</td>\n",
              "      <td>2</td>\n",
              "      <td>10</td>\n",
              "      <td>8</td>\n",
              "      <td>7</td>\n",
              "      <td>o</td>\n",
              "      <td>r</td>\n",
              "      <td>n</td>\n",
              "      <td>x</td>\n",
              "      <td>q</td>\n",
              "      <td>s</td>\n",
              "      <td>d</td>\n",
              "      <td>0</td>\n",
              "      <td>1</td>\n",
              "      <td>0</td>\n",
              "      <td>0</td>\n",
              "      <td>0</td>\n",
              "      <td>0</td>\n",
              "      <td>0</td>\n",
              "      <td>0</td>\n",
              "      <td>0</td>\n",
              "      <td>0</td>\n",
              "      <td>0</td>\n",
              "      <td>v</td>\n",
              "      <td>1</td>\n",
              "      <td>0</td>\n",
              "      <td>0</td>\n",
              "      <td>0</td>\n",
              "      <td>0</td>\n",
              "      <td>0</td>\n",
              "      <td>0</td>\n",
              "      <td>0</td>\n",
              "      <td>0</td>\n",
              "      <td>0</td>\n",
              "      <td>0</td>\n",
              "      <td>0</td>\n",
              "    </tr>\n",
              "    <tr>\n",
              "      <th>2</th>\n",
              "      <td>94947</td>\n",
              "      <td>21</td>\n",
              "      <td>363</td>\n",
              "      <td>8973</td>\n",
              "      <td>2</td>\n",
              "      <td>10</td>\n",
              "      <td>5</td>\n",
              "      <td>5</td>\n",
              "      <td>t</td>\n",
              "      <td>r</td>\n",
              "      <td>n</td>\n",
              "      <td>f</td>\n",
              "      <td>x</td>\n",
              "      <td>t</td>\n",
              "      <td>d</td>\n",
              "      <td>0</td>\n",
              "      <td>1</td>\n",
              "      <td>0</td>\n",
              "      <td>0</td>\n",
              "      <td>0</td>\n",
              "      <td>0</td>\n",
              "      <td>0</td>\n",
              "      <td>0</td>\n",
              "      <td>0</td>\n",
              "      <td>0</td>\n",
              "      <td>0</td>\n",
              "      <td>v</td>\n",
              "      <td>1</td>\n",
              "      <td>0</td>\n",
              "      <td>0</td>\n",
              "      <td>0</td>\n",
              "      <td>0</td>\n",
              "      <td>0</td>\n",
              "      <td>0</td>\n",
              "      <td>0</td>\n",
              "      <td>0</td>\n",
              "      <td>0</td>\n",
              "      <td>0</td>\n",
              "      <td>0</td>\n",
              "    </tr>\n",
              "    <tr>\n",
              "      <th>3</th>\n",
              "      <td>590882</td>\n",
              "      <td>22</td>\n",
              "      <td>418</td>\n",
              "      <td>10694</td>\n",
              "      <td>2</td>\n",
              "      <td>10</td>\n",
              "      <td>6</td>\n",
              "      <td>5</td>\n",
              "      <td>t</td>\n",
              "      <td>r</td>\n",
              "      <td>n</td>\n",
              "      <td>f</td>\n",
              "      <td>x</td>\n",
              "      <td>s</td>\n",
              "      <td>d</td>\n",
              "      <td>0</td>\n",
              "      <td>1</td>\n",
              "      <td>0</td>\n",
              "      <td>0</td>\n",
              "      <td>0</td>\n",
              "      <td>0</td>\n",
              "      <td>1</td>\n",
              "      <td>1</td>\n",
              "      <td>0</td>\n",
              "      <td>0</td>\n",
              "      <td>0</td>\n",
              "      <td>v</td>\n",
              "      <td>1</td>\n",
              "      <td>0</td>\n",
              "      <td>0</td>\n",
              "      <td>0</td>\n",
              "      <td>0</td>\n",
              "      <td>0</td>\n",
              "      <td>0</td>\n",
              "      <td>0</td>\n",
              "      <td>0</td>\n",
              "      <td>0</td>\n",
              "      <td>0</td>\n",
              "      <td>0</td>\n",
              "    </tr>\n",
              "    <tr>\n",
              "      <th>4</th>\n",
              "      <td>201944</td>\n",
              "      <td>11</td>\n",
              "      <td>131</td>\n",
              "      <td>1488</td>\n",
              "      <td>3</td>\n",
              "      <td>30</td>\n",
              "      <td>8</td>\n",
              "      <td>9</td>\n",
              "      <td>t</td>\n",
              "      <td>r</td>\n",
              "      <td>n</td>\n",
              "      <td>f</td>\n",
              "      <td>x</td>\n",
              "      <td>s</td>\n",
              "      <td>d</td>\n",
              "      <td>1</td>\n",
              "      <td>0</td>\n",
              "      <td>0</td>\n",
              "      <td>0</td>\n",
              "      <td>0</td>\n",
              "      <td>0</td>\n",
              "      <td>0</td>\n",
              "      <td>0</td>\n",
              "      <td>0</td>\n",
              "      <td>0</td>\n",
              "      <td>0</td>\n",
              "      <td>v</td>\n",
              "      <td>1</td>\n",
              "      <td>0</td>\n",
              "      <td>0</td>\n",
              "      <td>0</td>\n",
              "      <td>0</td>\n",
              "      <td>0</td>\n",
              "      <td>0</td>\n",
              "      <td>0</td>\n",
              "      <td>0</td>\n",
              "      <td>0</td>\n",
              "      <td>0</td>\n",
              "      <td>0</td>\n",
              "    </tr>\n",
              "  </tbody>\n",
              "</table>\n",
              "</div>"
            ],
            "text/plain": [
              "   building_id  ...  has_secondary_use_other\n",
              "0       802906  ...                        0\n",
              "1        28830  ...                        0\n",
              "2        94947  ...                        0\n",
              "3       590882  ...                        0\n",
              "4       201944  ...                        0\n",
              "\n",
              "[5 rows x 39 columns]"
            ]
          },
          "metadata": {
            "tags": []
          },
          "execution_count": 61
        }
      ]
    },
    {
      "cell_type": "code",
      "metadata": {
        "colab": {
          "base_uri": "https://localhost:8080/"
        },
        "id": "7WahX49yP-tC",
        "outputId": "c953b321-15fc-4522-d3a2-607b92ac5248"
      },
      "source": [
        "#Nos fijamos información relevante sobre los datos del DataFrame \n",
        "train_values.info()"
      ],
      "execution_count": null,
      "outputs": [
        {
          "output_type": "stream",
          "text": [
            "<class 'pandas.core.frame.DataFrame'>\n",
            "RangeIndex: 260601 entries, 0 to 260600\n",
            "Data columns (total 39 columns):\n",
            " #   Column                                  Non-Null Count   Dtype \n",
            "---  ------                                  --------------   ----- \n",
            " 0   building_id                             260601 non-null  int64 \n",
            " 1   geo_level_1_id                          260601 non-null  int64 \n",
            " 2   geo_level_2_id                          260601 non-null  int64 \n",
            " 3   geo_level_3_id                          260601 non-null  int64 \n",
            " 4   count_floors_pre_eq                     260601 non-null  int64 \n",
            " 5   age                                     260601 non-null  int64 \n",
            " 6   area_percentage                         260601 non-null  int64 \n",
            " 7   height_percentage                       260601 non-null  int64 \n",
            " 8   land_surface_condition                  260601 non-null  object\n",
            " 9   foundation_type                         260601 non-null  object\n",
            " 10  roof_type                               260601 non-null  object\n",
            " 11  ground_floor_type                       260601 non-null  object\n",
            " 12  other_floor_type                        260601 non-null  object\n",
            " 13  position                                260601 non-null  object\n",
            " 14  plan_configuration                      260601 non-null  object\n",
            " 15  has_superstructure_adobe_mud            260601 non-null  int64 \n",
            " 16  has_superstructure_mud_mortar_stone     260601 non-null  int64 \n",
            " 17  has_superstructure_stone_flag           260601 non-null  int64 \n",
            " 18  has_superstructure_cement_mortar_stone  260601 non-null  int64 \n",
            " 19  has_superstructure_mud_mortar_brick     260601 non-null  int64 \n",
            " 20  has_superstructure_cement_mortar_brick  260601 non-null  int64 \n",
            " 21  has_superstructure_timber               260601 non-null  int64 \n",
            " 22  has_superstructure_bamboo               260601 non-null  int64 \n",
            " 23  has_superstructure_rc_non_engineered    260601 non-null  int64 \n",
            " 24  has_superstructure_rc_engineered        260601 non-null  int64 \n",
            " 25  has_superstructure_other                260601 non-null  int64 \n",
            " 26  legal_ownership_status                  260601 non-null  object\n",
            " 27  count_families                          260601 non-null  int64 \n",
            " 28  has_secondary_use                       260601 non-null  int64 \n",
            " 29  has_secondary_use_agriculture           260601 non-null  int64 \n",
            " 30  has_secondary_use_hotel                 260601 non-null  int64 \n",
            " 31  has_secondary_use_rental                260601 non-null  int64 \n",
            " 32  has_secondary_use_institution           260601 non-null  int64 \n",
            " 33  has_secondary_use_school                260601 non-null  int64 \n",
            " 34  has_secondary_use_industry              260601 non-null  int64 \n",
            " 35  has_secondary_use_health_post           260601 non-null  int64 \n",
            " 36  has_secondary_use_gov_office            260601 non-null  int64 \n",
            " 37  has_secondary_use_use_police            260601 non-null  int64 \n",
            " 38  has_secondary_use_other                 260601 non-null  int64 \n",
            "dtypes: int64(31), object(8)\n",
            "memory usage: 77.5+ MB\n"
          ],
          "name": "stdout"
        }
      ]
    },
    {
      "cell_type": "code",
      "metadata": {
        "colab": {
          "base_uri": "https://localhost:8080/"
        },
        "id": "iZwaonw-hXAa",
        "outputId": "e6a10bfe-62de-4a40-81f4-89390dfbbb00"
      },
      "source": [
        "#Nos fijamos si faltan datos en las columnas\n",
        "train_values.isnull().value_counts()"
      ],
      "execution_count": null,
      "outputs": [
        {
          "output_type": "execute_result",
          "data": {
            "text/plain": [
              "building_id  geo_level_1_id  geo_level_2_id  geo_level_3_id  count_floors_pre_eq  age    area_percentage  height_percentage  land_surface_condition  foundation_type  roof_type  ground_floor_type  other_floor_type  position  plan_configuration  has_superstructure_adobe_mud  has_superstructure_mud_mortar_stone  has_superstructure_stone_flag  has_superstructure_cement_mortar_stone  has_superstructure_mud_mortar_brick  has_superstructure_cement_mortar_brick  has_superstructure_timber  has_superstructure_bamboo  has_superstructure_rc_non_engineered  has_superstructure_rc_engineered  has_superstructure_other  legal_ownership_status  count_families  has_secondary_use  has_secondary_use_agriculture  has_secondary_use_hotel  has_secondary_use_rental  has_secondary_use_institution  has_secondary_use_school  has_secondary_use_industry  has_secondary_use_health_post  has_secondary_use_gov_office  has_secondary_use_use_police  has_secondary_use_other\n",
              "False        False           False           False           False                False  False            False              False                   False            False      False              False             False     False               False                         False                                False                          False                                   False                                False                                   False                      False                      False                                 False                             False                     False                   False           False              False                          False                    False                     False                          False                     False                       False                          False                         False                         False                      260601\n",
              "dtype: int64"
            ]
          },
          "metadata": {
            "tags": []
          },
          "execution_count": 63
        }
      ]
    },
    {
      "cell_type": "markdown",
      "metadata": {
        "id": "XYX2HSvBiGYT"
      },
      "source": [
        "Con la información obtenida arriba, podemos verificar que no faltan datos."
      ]
    },
    {
      "cell_type": "code",
      "metadata": {
        "colab": {
          "base_uri": "https://localhost:8080/"
        },
        "id": "_-Kzc0UyXqF6",
        "outputId": "970d5624-8381-4bac-de9c-abd494d612b8"
      },
      "source": [
        "#Nos fijamos si hay registros duplicados\n",
        "train_values.duplicated(keep=False).value_counts()"
      ],
      "execution_count": null,
      "outputs": [
        {
          "output_type": "execute_result",
          "data": {
            "text/plain": [
              "False    260601\n",
              "dtype: int64"
            ]
          },
          "metadata": {
            "tags": []
          },
          "execution_count": 64
        }
      ]
    },
    {
      "cell_type": "code",
      "metadata": {
        "colab": {
          "base_uri": "https://localhost:8080/"
        },
        "id": "M7fCU-2hT68i",
        "outputId": "0179f681-3b47-4363-9d33-8a3a3a6d594c"
      },
      "source": [
        "#Nos fijamos si hay registros duplicados sin tener en cuenta el id del edificio\n",
        "train_values.iloc[:, 1:].duplicated(keep=False).value_counts()"
      ],
      "execution_count": null,
      "outputs": [
        {
          "output_type": "execute_result",
          "data": {
            "text/plain": [
              "False    232057\n",
              "True      28544\n",
              "dtype: int64"
            ]
          },
          "metadata": {
            "tags": []
          },
          "execution_count": 65
        }
      ]
    },
    {
      "cell_type": "markdown",
      "metadata": {
        "id": "6BbKIu8JdJoT"
      },
      "source": [
        "Esto último nos dice que casi el 11% de los edificios comparten las mismas caraterísticas. Al tener un id diferente, consideramos que no hay que eliminar esos datos porque es muy probable que la misma empresa constructora o grupo de personas que construía edificios, templos, casas, etc (dependiendo el contexto socio-cultural en la línea de tiempo de la historia de la humanidad) los haya construído."
      ]
    },
    {
      "cell_type": "code",
      "metadata": {
        "colab": {
          "base_uri": "https://localhost:8080/"
        },
        "id": "PZp4SY5Tr8xe",
        "outputId": "d0a9ee48-5f9a-458b-ed0f-a4cb87942cfa"
      },
      "source": [
        "train_values_buildings_with_no_families = train_values.loc[train_values['count_families'].eq(0) & train_values['has_secondary_use'].eq(1), :]\n",
        "train_values_buildings_with_no_families.shape"
      ],
      "execution_count": 16,
      "outputs": [
        {
          "output_type": "execute_result",
          "data": {
            "text/plain": [
              "(4779, 39)"
            ]
          },
          "metadata": {
            "tags": []
          },
          "execution_count": 16
        }
      ]
    },
    {
      "cell_type": "markdown",
      "metadata": {
        "id": "WZioKROkukOz"
      },
      "source": [
        "Hay 20862 - 4779=16083 edificios potencialmente abandonados (no tienen uso secundario ni viven familias)."
      ]
    },
    {
      "cell_type": "markdown",
      "metadata": {
        "id": "_lXziU9Yoj7M"
      },
      "source": [
        "# Familias afectadas"
      ]
    },
    {
      "cell_type": "code",
      "metadata": {
        "colab": {
          "base_uri": "https://localhost:8080/"
        },
        "id": "ykL4bLNqnohC",
        "outputId": "04ed9c1b-9cbb-4dc5-e3de-d2b88c52461b"
      },
      "source": [
        "train_values['count_families'].value_counts()"
      ],
      "execution_count": 30,
      "outputs": [
        {
          "output_type": "execute_result",
          "data": {
            "text/plain": [
              "1    226115\n",
              "0     20862\n",
              "2     11294\n",
              "3      1802\n",
              "4       389\n",
              "5       104\n",
              "6        22\n",
              "7         7\n",
              "9         4\n",
              "8         2\n",
              "Name: count_families, dtype: int64"
            ]
          },
          "metadata": {
            "tags": []
          },
          "execution_count": 30
        }
      ]
    },
    {
      "cell_type": "code",
      "metadata": {
        "colab": {
          "base_uri": "https://localhost:8080/",
          "height": 633
        },
        "id": "jgVFvl1cdPxU",
        "outputId": "2d44523c-bdc9-4225-baee-07cf788816a3"
      },
      "source": [
        "plot = train_values['count_families'].value_counts().sort_index().plot.bar(color=(0.6, 0, 0.8), figsize=(20,10))\n",
        "plot.set_title(\"Cantidad de familias distribuidas en las edificaciones\", fontsize=18)\n",
        "plot.set_ylabel(\"Cantidad de edificaciones\", fontsize=18);\n",
        "plot.set_xlabel(\"Cantidad de familias por edificaciones\", fontsize=18);"
      ],
      "execution_count": 31,
      "outputs": [
        {
          "output_type": "display_data",
          "data": {
            "image/png": "[encoded data removed]",
            "text/plain": [
              "<Figure size 1440x720 with 1 Axes>"
            ]
          },
          "metadata": {
            "tags": [],
            "needs_background": "light"
          }
        }
      ]
    },
    {
      "cell_type": "code",
      "metadata": {
        "colab": {
          "base_uri": "https://localhost:8080/",
          "height": 633
        },
        "id": "5g0aet9Lj1gO",
        "outputId": "b528ed32-b94e-4adf-a441-3adb2d6a7419"
      },
      "source": [
        "buildings_where_lives_more_than_3_families = train_values.loc[train_values['count_families'] >=4]\n",
        "plot = buildings_where_lives_more_than_3_families['count_families'].value_counts().sort_index().plot.bar(color=(0.6, 0, 0.8), figsize=(20,10))\n",
        "plot.set_title(\"Cantidad de familias distribuidas en las edificaciones\", fontsize=18)\n",
        "plot.set_ylabel(\"Cantidad de edificaciones\", fontsize=18);\n",
        "plot.set_xlabel(\"Cantidad de familias por edificaciones\", fontsize=18);"
      ],
      "execution_count": 35,
      "outputs": [
        {
          "output_type": "display_data",
          "data": {
            "image/png": "[encoded data removed]",
            "text/plain": [
              "<Figure size 1440x720 with 1 Axes>"
            ]
          },
          "metadata": {
            "tags": [],
            "needs_background": "light"
          }
        }
      ]
    },
    {
      "cell_type": "markdown",
      "metadata": {
        "id": "wl0pEn11g9Et"
      },
      "source": [
        "Notamos que hay 20862 edificios en los cuales no vivían familias, entonces para el siguiente análisis no tiene mucho sentido que los contemplemos. Veremos qué daños recibieron los edificios donde viviían las familias:"
      ]
    },
    {
      "cell_type": "code",
      "metadata": {
        "colab": {
          "base_uri": "https://localhost:8080/"
        },
        "id": "-9ar-gTTdyj7",
        "outputId": "1ab57292-6b7c-4e78-a0ad-dc2f59820a6d"
      },
      "source": [
        "train_values_reduced = train_values[['building_id', 'geo_level_1_id', 'geo_level_2_id', 'geo_level_3_id', 'count_families']]\n",
        "train_values_reduced_with_damage = train_values_reduced.merge(train_labels, left_on='building_id', right_on='building_id')\n",
        "train_values_reduced_with_damage.info()"
      ],
      "execution_count": 7,
      "outputs": [
        {
          "output_type": "stream",
          "text": [
            "<class 'pandas.core.frame.DataFrame'>\n",
            "Int64Index: 260601 entries, 0 to 260600\n",
            "Data columns (total 6 columns):\n",
            " #   Column          Non-Null Count   Dtype\n",
            "---  ------          --------------   -----\n",
            " 0   building_id     260601 non-null  int64\n",
            " 1   geo_level_1_id  260601 non-null  int64\n",
            " 2   geo_level_2_id  260601 non-null  int64\n",
            " 3   geo_level_3_id  260601 non-null  int64\n",
            " 4   count_families  260601 non-null  int64\n",
            " 5   damage_grade    260601 non-null  int64\n",
            "dtypes: int64(6)\n",
            "memory usage: 13.9 MB\n"
          ],
          "name": "stdout"
        }
      ]
    },
    {
      "cell_type": "code",
      "metadata": {
        "id": "CKv712aqmFnK"
      },
      "source": [
        "train_values_reduced_with_damage_for_affected_families = train_values_reduced_with_damage.loc[train_values_reduced_with_damage['count_families'] != 0, :]"
      ],
      "execution_count": 8,
      "outputs": []
    },
    {
      "cell_type": "code",
      "metadata": {
        "colab": {
          "base_uri": "https://localhost:8080/",
          "height": 204
        },
        "id": "0J4WiE5qlOvq",
        "outputId": "a3b01aee-25db-48d1-8705-5b49fdf43598"
      },
      "source": [
        "affected_buildings = train_values_reduced_with_damage_for_affected_families.groupby(['count_families', 'damage_grade']).agg({'damage_grade':'count'})\n",
        "affected_buildings.columns = ['damage_grade_count']\n",
        "affected_buildings.reset_index(inplace=True)\n",
        "affected_buildings.columns = ['Count families', 'Grado de daño', 'Damage grade count']\n",
        "affected_buildings.head()"
      ],
      "execution_count": 14,
      "outputs": [
        {
          "output_type": "execute_result",
          "data": {
            "text/html": [
              "<div>\n",
              "<style scoped>\n",
              "    .dataframe tbody tr th:only-of-type {\n",
              "        vertical-align: middle;\n",
              "    }\n",
              "\n",
              "    .dataframe tbody tr th {\n",
              "        vertical-align: top;\n",
              "    }\n",
              "\n",
              "    .dataframe thead th {\n",
              "        text-align: right;\n",
              "    }\n",
              "</style>\n",
              "<table border=\"1\" class=\"dataframe\">\n",
              "  <thead>\n",
              "    <tr style=\"text-align: right;\">\n",
              "      <th></th>\n",
              "      <th>Count families</th>\n",
              "      <th>Grado de daño</th>\n",
              "      <th>Damage grade count</th>\n",
              "    </tr>\n",
              "  </thead>\n",
              "  <tbody>\n",
              "    <tr>\n",
              "      <th>0</th>\n",
              "      <td>1</td>\n",
              "      <td>1</td>\n",
              "      <td>20339</td>\n",
              "    </tr>\n",
              "    <tr>\n",
              "      <th>1</th>\n",
              "      <td>1</td>\n",
              "      <td>2</td>\n",
              "      <td>129721</td>\n",
              "    </tr>\n",
              "    <tr>\n",
              "      <th>2</th>\n",
              "      <td>1</td>\n",
              "      <td>3</td>\n",
              "      <td>76055</td>\n",
              "    </tr>\n",
              "    <tr>\n",
              "      <th>3</th>\n",
              "      <td>2</td>\n",
              "      <td>1</td>\n",
              "      <td>829</td>\n",
              "    </tr>\n",
              "    <tr>\n",
              "      <th>4</th>\n",
              "      <td>2</td>\n",
              "      <td>2</td>\n",
              "      <td>6021</td>\n",
              "    </tr>\n",
              "  </tbody>\n",
              "</table>\n",
              "</div>"
            ],
            "text/plain": [
              "   Count families  Grado de daño  Damage grade count\n",
              "0               1              1               20339\n",
              "1               1              2              129721\n",
              "2               1              3               76055\n",
              "3               2              1                 829\n",
              "4               2              2                6021"
            ]
          },
          "metadata": {
            "tags": []
          },
          "execution_count": 14
        }
      ]
    },
    {
      "cell_type": "code",
      "metadata": {
        "colab": {
          "base_uri": "https://localhost:8080/",
          "height": 359
        },
        "id": "KotvcLlPwjVM",
        "outputId": "3a8c93a1-4a59-4ae6-aa95-b5265e69d91b"
      },
      "source": [
        "affected_buildings_pivot = affected_buildings.pivot(index='Count families', columns='Grado de daño', values='Damage grade count')\n",
        "affected_buildings_pivot = affected_buildings_pivot.fillna(0)\n",
        "affected_buildings_pivot"
      ],
      "execution_count": 15,
      "outputs": [
        {
          "output_type": "execute_result",
          "data": {
            "text/html": [
              "<div>\n",
              "<style scoped>\n",
              "    .dataframe tbody tr th:only-of-type {\n",
              "        vertical-align: middle;\n",
              "    }\n",
              "\n",
              "    .dataframe tbody tr th {\n",
              "        vertical-align: top;\n",
              "    }\n",
              "\n",
              "    .dataframe thead th {\n",
              "        text-align: right;\n",
              "    }\n",
              "</style>\n",
              "<table border=\"1\" class=\"dataframe\">\n",
              "  <thead>\n",
              "    <tr style=\"text-align: right;\">\n",
              "      <th>Grado de daño</th>\n",
              "      <th>1</th>\n",
              "      <th>2</th>\n",
              "      <th>3</th>\n",
              "    </tr>\n",
              "    <tr>\n",
              "      <th>Count families</th>\n",
              "      <th></th>\n",
              "      <th></th>\n",
              "      <th></th>\n",
              "    </tr>\n",
              "  </thead>\n",
              "  <tbody>\n",
              "    <tr>\n",
              "      <th>1</th>\n",
              "      <td>20,339.00</td>\n",
              "      <td>129,721.00</td>\n",
              "      <td>76,055.00</td>\n",
              "    </tr>\n",
              "    <tr>\n",
              "      <th>2</th>\n",
              "      <td>829.00</td>\n",
              "      <td>6,021.00</td>\n",
              "      <td>4,444.00</td>\n",
              "    </tr>\n",
              "    <tr>\n",
              "      <th>3</th>\n",
              "      <td>221.00</td>\n",
              "      <td>886.00</td>\n",
              "      <td>695.00</td>\n",
              "    </tr>\n",
              "    <tr>\n",
              "      <th>4</th>\n",
              "      <td>46.00</td>\n",
              "      <td>205.00</td>\n",
              "      <td>138.00</td>\n",
              "    </tr>\n",
              "    <tr>\n",
              "      <th>5</th>\n",
              "      <td>17.00</td>\n",
              "      <td>51.00</td>\n",
              "      <td>36.00</td>\n",
              "    </tr>\n",
              "    <tr>\n",
              "      <th>6</th>\n",
              "      <td>4.00</td>\n",
              "      <td>8.00</td>\n",
              "      <td>10.00</td>\n",
              "    </tr>\n",
              "    <tr>\n",
              "      <th>7</th>\n",
              "      <td>3.00</td>\n",
              "      <td>2.00</td>\n",
              "      <td>2.00</td>\n",
              "    </tr>\n",
              "    <tr>\n",
              "      <th>8</th>\n",
              "      <td>1.00</td>\n",
              "      <td>1.00</td>\n",
              "      <td>0.00</td>\n",
              "    </tr>\n",
              "    <tr>\n",
              "      <th>9</th>\n",
              "      <td>1.00</td>\n",
              "      <td>3.00</td>\n",
              "      <td>0.00</td>\n",
              "    </tr>\n",
              "  </tbody>\n",
              "</table>\n",
              "</div>"
            ],
            "text/plain": [
              "Grado de daño                     1                    2                    3\n",
              "Count families                                                               \n",
              "1                         20,339.00           129,721.00            76,055.00\n",
              "2                            829.00             6,021.00             4,444.00\n",
              "3                            221.00               886.00               695.00\n",
              "4                             46.00               205.00               138.00\n",
              "5                             17.00                51.00                36.00\n",
              "6                              4.00                 8.00                10.00\n",
              "7                              3.00                 2.00                 2.00\n",
              "8                              1.00                 1.00                 0.00\n",
              "9                              1.00                 3.00                 0.00"
            ]
          },
          "metadata": {
            "tags": []
          },
          "execution_count": 15
        }
      ]
    },
    {
      "cell_type": "code",
      "metadata": {
        "colab": {
          "base_uri": "https://localhost:8080/",
          "height": 633
        },
        "id": "FKCAdCDyyYdU",
        "outputId": "380eec25-2b9c-40ab-d335-ec581097ad90"
      },
      "source": [
        "plot = affected_buildings_pivot.plot.bar(color=[(0, 0.7, 0.7), (0.0, 0.0, 0.9), (0.6, 0, 0.8)], stacked=True, figsize=(20,10))\n",
        "plot.set_title(\"Grado de daño vs cantidad de familias por edificaciones dañadas\", fontsize=18)\n",
        "plot.set_ylabel(\"Cantidad de edificaciones\", fontsize=18);\n",
        "plot.set_xlabel(\"Cantidad de familias por edificaciones dañadas\", fontsize=18);"
      ],
      "execution_count": 17,
      "outputs": [
        {
          "output_type": "display_data",
          "data": {
            "image/png": "[encoded data removed]",
            "text/plain": [
              "<Figure size 1440x720 with 1 Axes>"
            ]
          },
          "metadata": {
            "tags": [],
            "needs_background": "light"
          }
        }
      ]
    },
    {
      "cell_type": "markdown",
      "metadata": {
        "id": "aOqVu4icB3ko"
      },
      "source": [
        "A partir de este gráfico, observamos que la mayor cantidad de familias afectadas se encunetran en los edificios en donde vivía solamente una familia, seguido de los edificios donde vivían dos familias y, luego, el resto de ellas. En ambos casos, la mayoría del daño de los edificos fue nivel dos y luego nivel tres, por lo que, la mayor cantidad de las familias de las zonas afectadas por el terremoto, tuvieron que refaccionar sus hogares y/o abandonarlos."
      ]
    },
    {
      "cell_type": "markdown",
      "metadata": {
        "id": "u7W-AF3nJsk-"
      },
      "source": [
        "La distribución de los datos analizados en el gráfico anterior, nos lleva a analizar cómo se distribuye el daño por distrito de los edificios en donde viven una y más familias de las tres zonas geográficas, por lo que analizaremos estos casos por separado. Primero, analizaremos para una sola familia ya que los edificios donde vivía una familia fueron los más afectados. Luego, analizaremos para más de una familia ya que no hay mucha información en el gráfico de arriba sobre el daño que recibieron y cómo afecta a las familias."
      ]
    },
    {
      "cell_type": "code",
      "metadata": {
        "id": "4fg2slv-zYI3"
      },
      "source": [
        "#Para ir generadno los \"zoom\" en los gráficos, voy cambiando el \"x\"\n",
        "x = 6\n",
        "train_values_reduced_with_damage_for_affected_families_more_than_2 = train_values_reduced_with_damage.loc[train_values_reduced_with_damage['count_families'] >= x, :]"
      ],
      "execution_count": 54,
      "outputs": []
    },
    {
      "cell_type": "code",
      "metadata": {
        "colab": {
          "base_uri": "https://localhost:8080/",
          "height": 204
        },
        "id": "kPb9WR9nzucn",
        "outputId": "b7ce25fc-b6d6-43a7-cf65-b3a736d48f6a"
      },
      "source": [
        "affected_buildings_more_than_2 = train_values_reduced_with_damage_for_affected_families_more_than_2.groupby(['count_families', 'damage_grade']).agg({'damage_grade':'count'})\n",
        "affected_buildings_more_than_2.columns = ['damage_grade_count']\n",
        "affected_buildings_more_than_2.reset_index(inplace=True)\n",
        "affected_buildings_more_than_2.columns = ['Count families', 'Grado de daño', 'Damage grade count']\n",
        "affected_buildings_more_than_2.head()"
      ],
      "execution_count": 55,
      "outputs": [
        {
          "output_type": "execute_result",
          "data": {
            "text/html": [
              "<div>\n",
              "<style scoped>\n",
              "    .dataframe tbody tr th:only-of-type {\n",
              "        vertical-align: middle;\n",
              "    }\n",
              "\n",
              "    .dataframe tbody tr th {\n",
              "        vertical-align: top;\n",
              "    }\n",
              "\n",
              "    .dataframe thead th {\n",
              "        text-align: right;\n",
              "    }\n",
              "</style>\n",
              "<table border=\"1\" class=\"dataframe\">\n",
              "  <thead>\n",
              "    <tr style=\"text-align: right;\">\n",
              "      <th></th>\n",
              "      <th>Count families</th>\n",
              "      <th>Grado de daño</th>\n",
              "      <th>Damage grade count</th>\n",
              "    </tr>\n",
              "  </thead>\n",
              "  <tbody>\n",
              "    <tr>\n",
              "      <th>0</th>\n",
              "      <td>6</td>\n",
              "      <td>1</td>\n",
              "      <td>4</td>\n",
              "    </tr>\n",
              "    <tr>\n",
              "      <th>1</th>\n",
              "      <td>6</td>\n",
              "      <td>2</td>\n",
              "      <td>8</td>\n",
              "    </tr>\n",
              "    <tr>\n",
              "      <th>2</th>\n",
              "      <td>6</td>\n",
              "      <td>3</td>\n",
              "      <td>10</td>\n",
              "    </tr>\n",
              "    <tr>\n",
              "      <th>3</th>\n",
              "      <td>7</td>\n",
              "      <td>1</td>\n",
              "      <td>3</td>\n",
              "    </tr>\n",
              "    <tr>\n",
              "      <th>4</th>\n",
              "      <td>7</td>\n",
              "      <td>2</td>\n",
              "      <td>2</td>\n",
              "    </tr>\n",
              "  </tbody>\n",
              "</table>\n",
              "</div>"
            ],
            "text/plain": [
              "   Count families  Grado de daño  Damage grade count\n",
              "0               6              1                   4\n",
              "1               6              2                   8\n",
              "2               6              3                  10\n",
              "3               7              1                   3\n",
              "4               7              2                   2"
            ]
          },
          "metadata": {
            "tags": []
          },
          "execution_count": 55
        }
      ]
    },
    {
      "cell_type": "code",
      "metadata": {
        "colab": {
          "base_uri": "https://localhost:8080/",
          "height": 204
        },
        "id": "UOyFtSrl0I1f",
        "outputId": "dfee9b02-38c4-4ad5-b4c2-92ac9b29f056"
      },
      "source": [
        "affected_buildings_more_than_2_pivot = affected_buildings_more_than_2.pivot(index='Count families', columns='Grado de daño', values='Damage grade count')\n",
        "affected_buildings_more_than_2_pivot = affected_buildings_more_than_2_pivot.fillna(0)\n",
        "affected_buildings_more_than_2_pivot"
      ],
      "execution_count": 56,
      "outputs": [
        {
          "output_type": "execute_result",
          "data": {
            "text/html": [
              "<div>\n",
              "<style scoped>\n",
              "    .dataframe tbody tr th:only-of-type {\n",
              "        vertical-align: middle;\n",
              "    }\n",
              "\n",
              "    .dataframe tbody tr th {\n",
              "        vertical-align: top;\n",
              "    }\n",
              "\n",
              "    .dataframe thead th {\n",
              "        text-align: right;\n",
              "    }\n",
              "</style>\n",
              "<table border=\"1\" class=\"dataframe\">\n",
              "  <thead>\n",
              "    <tr style=\"text-align: right;\">\n",
              "      <th>Grado de daño</th>\n",
              "      <th>1</th>\n",
              "      <th>2</th>\n",
              "      <th>3</th>\n",
              "    </tr>\n",
              "    <tr>\n",
              "      <th>Count families</th>\n",
              "      <th></th>\n",
              "      <th></th>\n",
              "      <th></th>\n",
              "    </tr>\n",
              "  </thead>\n",
              "  <tbody>\n",
              "    <tr>\n",
              "      <th>6</th>\n",
              "      <td>4.00</td>\n",
              "      <td>8.00</td>\n",
              "      <td>10.00</td>\n",
              "    </tr>\n",
              "    <tr>\n",
              "      <th>7</th>\n",
              "      <td>3.00</td>\n",
              "      <td>2.00</td>\n",
              "      <td>2.00</td>\n",
              "    </tr>\n",
              "    <tr>\n",
              "      <th>8</th>\n",
              "      <td>1.00</td>\n",
              "      <td>1.00</td>\n",
              "      <td>0.00</td>\n",
              "    </tr>\n",
              "    <tr>\n",
              "      <th>9</th>\n",
              "      <td>1.00</td>\n",
              "      <td>3.00</td>\n",
              "      <td>0.00</td>\n",
              "    </tr>\n",
              "  </tbody>\n",
              "</table>\n",
              "</div>"
            ],
            "text/plain": [
              "Grado de daño                     1                    2                    3\n",
              "Count families                                                               \n",
              "6                              4.00                 8.00                10.00\n",
              "7                              3.00                 2.00                 2.00\n",
              "8                              1.00                 1.00                 0.00\n",
              "9                              1.00                 3.00                 0.00"
            ]
          },
          "metadata": {
            "tags": []
          },
          "execution_count": 56
        }
      ]
    },
    {
      "cell_type": "code",
      "metadata": {
        "colab": {
          "base_uri": "https://localhost:8080/",
          "height": 633
        },
        "id": "B4CRRXja0YUX",
        "outputId": "5706b44a-5261-4fa8-a312-46c481282bc2"
      },
      "source": [
        "plot = affected_buildings_more_than_2_pivot.plot.bar(color=[(0, 0.7, 0.7), (0.0, 0.0, 0.9), (0.6, 0, 0.8)], stacked=True, figsize=(20,10))\n",
        "plot.set_title(\"Grado de daño vs cantidad de familias por edificaciones dañadas\", fontsize=18)\n",
        "plot.set_ylabel(\"Cantidad de edificaciones\", fontsize=18);\n",
        "plot.set_xlabel(\"Cantidad de familias por edificaciones dañadas\", fontsize=18);"
      ],
      "execution_count": 57,
      "outputs": [
        {
          "output_type": "display_data",
          "data": {
            "image/png": "[encoded data removed]",
            "text/plain": [
              "<Figure size 1440x720 with 1 Axes>"
            ]
          },
          "metadata": {
            "tags": [],
            "needs_background": "light"
          }
        }
      ]
    },
    {
      "cell_type": "markdown",
      "metadata": {
        "id": "dQpETxcGacgI"
      },
      "source": [
        " A continuación, veremos los daños que recibieron los edificios donde vivía una sola familia en los distritos de las tres regiones:"
      ]
    },
    {
      "cell_type": "code",
      "metadata": {
        "id": "01Vmat_BUNFs"
      },
      "source": [
        "affected_buildings_where_lives_1_family = train_values_reduced_with_damage_for_affected_families.loc[train_values_reduced_with_damage_for_affected_families['count_families'] == 1, :]"
      ],
      "execution_count": 58,
      "outputs": []
    },
    {
      "cell_type": "markdown",
      "metadata": {
        "id": "sRqf9MMfm7h8"
      },
      "source": [
        "\n",
        "\n",
        "*   Región 1\n",
        "\n"
      ]
    },
    {
      "cell_type": "code",
      "metadata": {
        "colab": {
          "base_uri": "https://localhost:8080/",
          "height": 204
        },
        "id": "sLZjVxdfJo_H",
        "outputId": "6dc66f38-32a1-42b4-a0ca-109312154eee"
      },
      "source": [
        "affected_buildings_where_lives_1_family_region_1 = affected_buildings_where_lives_1_family.groupby(['geo_level_1_id', 'damage_grade']).agg({'damage_grade':'count'})\n",
        "affected_buildings_where_lives_1_family_region_1.columns = ['damage_grade_count']\n",
        "affected_buildings_where_lives_1_family_region_1.reset_index(inplace=True)\n",
        "affected_buildings_where_lives_1_family_region_1.columns = ['Region 1', 'Grado de daño', 'Damage grade count']\n",
        "affected_buildings_where_lives_1_family_region_1.head()"
      ],
      "execution_count": 59,
      "outputs": [
        {
          "output_type": "execute_result",
          "data": {
            "text/html": [
              "<div>\n",
              "<style scoped>\n",
              "    .dataframe tbody tr th:only-of-type {\n",
              "        vertical-align: middle;\n",
              "    }\n",
              "\n",
              "    .dataframe tbody tr th {\n",
              "        vertical-align: top;\n",
              "    }\n",
              "\n",
              "    .dataframe thead th {\n",
              "        text-align: right;\n",
              "    }\n",
              "</style>\n",
              "<table border=\"1\" class=\"dataframe\">\n",
              "  <thead>\n",
              "    <tr style=\"text-align: right;\">\n",
              "      <th></th>\n",
              "      <th>Region 1</th>\n",
              "      <th>Grado de daño</th>\n",
              "      <th>Damage grade count</th>\n",
              "    </tr>\n",
              "  </thead>\n",
              "  <tbody>\n",
              "    <tr>\n",
              "      <th>0</th>\n",
              "      <td>0</td>\n",
              "      <td>1</td>\n",
              "      <td>320</td>\n",
              "    </tr>\n",
              "    <tr>\n",
              "      <th>1</th>\n",
              "      <td>0</td>\n",
              "      <td>2</td>\n",
              "      <td>3000</td>\n",
              "    </tr>\n",
              "    <tr>\n",
              "      <th>2</th>\n",
              "      <td>0</td>\n",
              "      <td>3</td>\n",
              "      <td>589</td>\n",
              "    </tr>\n",
              "    <tr>\n",
              "      <th>3</th>\n",
              "      <td>1</td>\n",
              "      <td>1</td>\n",
              "      <td>390</td>\n",
              "    </tr>\n",
              "    <tr>\n",
              "      <th>4</th>\n",
              "      <td>1</td>\n",
              "      <td>2</td>\n",
              "      <td>1921</td>\n",
              "    </tr>\n",
              "  </tbody>\n",
              "</table>\n",
              "</div>"
            ],
            "text/plain": [
              "   Region 1  Grado de daño  Damage grade count\n",
              "0         0              1                 320\n",
              "1         0              2                3000\n",
              "2         0              3                 589\n",
              "3         1              1                 390\n",
              "4         1              2                1921"
            ]
          },
          "metadata": {
            "tags": []
          },
          "execution_count": 59
        }
      ]
    },
    {
      "cell_type": "code",
      "metadata": {
        "colab": {
          "base_uri": "https://localhost:8080/",
          "height": 235
        },
        "id": "E1g_40tRWIvh",
        "outputId": "89ba8ed2-4188-4e42-ece0-304fa4c918e0"
      },
      "source": [
        "affected_buildings_where_lives_1_family_region_1_pivot = affected_buildings_where_lives_1_family_region_1.pivot(index='Region 1', columns='Grado de daño', values='Damage grade count')\n",
        "affected_buildings_where_lives_1_family_region_1_pivot = affected_buildings_where_lives_1_family_region_1_pivot.fillna(0)\n",
        "affected_buildings_where_lives_1_family_region_1_pivot.head()"
      ],
      "execution_count": 61,
      "outputs": [
        {
          "output_type": "execute_result",
          "data": {
            "text/html": [
              "<div>\n",
              "<style scoped>\n",
              "    .dataframe tbody tr th:only-of-type {\n",
              "        vertical-align: middle;\n",
              "    }\n",
              "\n",
              "    .dataframe tbody tr th {\n",
              "        vertical-align: top;\n",
              "    }\n",
              "\n",
              "    .dataframe thead th {\n",
              "        text-align: right;\n",
              "    }\n",
              "</style>\n",
              "<table border=\"1\" class=\"dataframe\">\n",
              "  <thead>\n",
              "    <tr style=\"text-align: right;\">\n",
              "      <th>Grado de daño</th>\n",
              "      <th>1</th>\n",
              "      <th>2</th>\n",
              "      <th>3</th>\n",
              "    </tr>\n",
              "    <tr>\n",
              "      <th>Region 1</th>\n",
              "      <th></th>\n",
              "      <th></th>\n",
              "      <th></th>\n",
              "    </tr>\n",
              "  </thead>\n",
              "  <tbody>\n",
              "    <tr>\n",
              "      <th>0</th>\n",
              "      <td>320.00</td>\n",
              "      <td>3,000.00</td>\n",
              "      <td>589.00</td>\n",
              "    </tr>\n",
              "    <tr>\n",
              "      <th>1</th>\n",
              "      <td>390.00</td>\n",
              "      <td>1,921.00</td>\n",
              "      <td>302.00</td>\n",
              "    </tr>\n",
              "    <tr>\n",
              "      <th>2</th>\n",
              "      <td>78.00</td>\n",
              "      <td>570.00</td>\n",
              "      <td>230.00</td>\n",
              "    </tr>\n",
              "    <tr>\n",
              "      <th>3</th>\n",
              "      <td>125.00</td>\n",
              "      <td>4,079.00</td>\n",
              "      <td>2,544.00</td>\n",
              "    </tr>\n",
              "    <tr>\n",
              "      <th>4</th>\n",
              "      <td>412.00</td>\n",
              "      <td>9,474.00</td>\n",
              "      <td>2,450.00</td>\n",
              "    </tr>\n",
              "  </tbody>\n",
              "</table>\n",
              "</div>"
            ],
            "text/plain": [
              "Grado de daño                    1                    2                    3\n",
              "Region 1                                                                    \n",
              "0                           320.00             3,000.00               589.00\n",
              "1                           390.00             1,921.00               302.00\n",
              "2                            78.00               570.00               230.00\n",
              "3                           125.00             4,079.00             2,544.00\n",
              "4                           412.00             9,474.00             2,450.00"
            ]
          },
          "metadata": {
            "tags": []
          },
          "execution_count": 61
        }
      ]
    },
    {
      "cell_type": "code",
      "metadata": {
        "colab": {
          "base_uri": "https://localhost:8080/",
          "height": 235
        },
        "id": "snwSGH-jHBfp",
        "outputId": "459da736-05e8-485b-f410-11d5d14924d2"
      },
      "source": [
        "#Normalizamos las columnas\n",
        "total = affected_buildings_where_lives_1_family_region_1_pivot[1] + affected_buildings_where_lives_1_family_region_1_pivot[2] + affected_buildings_where_lives_1_family_region_1_pivot[3]\n",
        "affected_buildings_where_lives_1_family_region_1_pivot[1] = affected_buildings_where_lives_1_family_region_1_pivot[1]/total\n",
        "affected_buildings_where_lives_1_family_region_1_pivot[2] = affected_buildings_where_lives_1_family_region_1_pivot[2]/total\n",
        "affected_buildings_where_lives_1_family_region_1_pivot[3] = affected_buildings_where_lives_1_family_region_1_pivot[3]/total\n",
        "affected_buildings_where_lives_1_family_region_1_pivot.head()"
      ],
      "execution_count": 62,
      "outputs": [
        {
          "output_type": "execute_result",
          "data": {
            "text/html": [
              "<div>\n",
              "<style scoped>\n",
              "    .dataframe tbody tr th:only-of-type {\n",
              "        vertical-align: middle;\n",
              "    }\n",
              "\n",
              "    .dataframe tbody tr th {\n",
              "        vertical-align: top;\n",
              "    }\n",
              "\n",
              "    .dataframe thead th {\n",
              "        text-align: right;\n",
              "    }\n",
              "</style>\n",
              "<table border=\"1\" class=\"dataframe\">\n",
              "  <thead>\n",
              "    <tr style=\"text-align: right;\">\n",
              "      <th>Grado de daño</th>\n",
              "      <th>1</th>\n",
              "      <th>2</th>\n",
              "      <th>3</th>\n",
              "    </tr>\n",
              "    <tr>\n",
              "      <th>Region 1</th>\n",
              "      <th></th>\n",
              "      <th></th>\n",
              "      <th></th>\n",
              "    </tr>\n",
              "  </thead>\n",
              "  <tbody>\n",
              "    <tr>\n",
              "      <th>0</th>\n",
              "      <td>0.08</td>\n",
              "      <td>0.77</td>\n",
              "      <td>0.15</td>\n",
              "    </tr>\n",
              "    <tr>\n",
              "      <th>1</th>\n",
              "      <td>0.15</td>\n",
              "      <td>0.74</td>\n",
              "      <td>0.12</td>\n",
              "    </tr>\n",
              "    <tr>\n",
              "      <th>2</th>\n",
              "      <td>0.09</td>\n",
              "      <td>0.65</td>\n",
              "      <td>0.26</td>\n",
              "    </tr>\n",
              "    <tr>\n",
              "      <th>3</th>\n",
              "      <td>0.02</td>\n",
              "      <td>0.60</td>\n",
              "      <td>0.38</td>\n",
              "    </tr>\n",
              "    <tr>\n",
              "      <th>4</th>\n",
              "      <td>0.03</td>\n",
              "      <td>0.77</td>\n",
              "      <td>0.20</td>\n",
              "    </tr>\n",
              "  </tbody>\n",
              "</table>\n",
              "</div>"
            ],
            "text/plain": [
              "Grado de daño                    1                    2                    3\n",
              "Region 1                                                                    \n",
              "0                             0.08                 0.77                 0.15\n",
              "1                             0.15                 0.74                 0.12\n",
              "2                             0.09                 0.65                 0.26\n",
              "3                             0.02                 0.60                 0.38\n",
              "4                             0.03                 0.77                 0.20"
            ]
          },
          "metadata": {
            "tags": []
          },
          "execution_count": 62
        }
      ]
    },
    {
      "cell_type": "code",
      "metadata": {
        "colab": {
          "base_uri": "https://localhost:8080/",
          "height": 641
        },
        "id": "FudnzckeXSUY",
        "outputId": "3150a2e8-f72b-47a5-c9b4-3de837a7f70e"
      },
      "source": [
        "plot = affected_buildings_where_lives_1_family_region_1_pivot.plot.bar(color=[(0, 0.7, 0.7), (0.0, 0.0, 0.9), (0.6, 0, 0.8)],stacked=True, figsize=(20,10))\n",
        "plot.set_title(\"Grado de daño vs distritos en la región 1 donde vive 1 familia en las edificaciones dañadas\", fontsize=18)\n",
        "plot.set_ylabel(\"Cantidad de edificaciones normalizadas\", fontsize=18);\n",
        "plot.set_xlabel(\"Distritos en la región 1 donde vive 1 familia en las edificaciones dañadas\", fontsize=18);"
      ],
      "execution_count": 64,
      "outputs": [
        {
          "output_type": "display_data",
          "data": {
            "image/png": "[encoded data removed]",
            "text/plain": [
              "<Figure size 1440x720 with 1 Axes>"
            ]
          },
          "metadata": {
            "tags": [],
            "needs_background": "light"
          }
        }
      ]
    },
    {
      "cell_type": "markdown",
      "metadata": {
        "id": "C0xcPhLQDXDp"
      },
      "source": [
        "Tuvimos que normalizar los datos para poder visualizar más concretamente los edificios (nos abstraemos de qué zona de la región uno es la más poblada) que fueron dañados en los distritos de la región uno y que vivía una familia. De esta forma, es fácil comparar qué tan dañados resultaron los edificios de la región uno por sus distritos.\n",
        "Como conclusión, decimos que se observa claramente que los distritos 8, 17, 18 y 21 son los que fueron más afectados debido a que contaron con más del 50% de sus edificios muy o totalmente dañados. También vemos que el distrito 27 sigue esta tendencia porque, aproximadamente, el 50% de sus edificios está muy o totalmente dañado, el 48% esta con un daño mediano y el 2% está poco dañado y, en el balance, hay mayoría de edificios muy o totalmente dañados. A partir de esto, la mayoría de las familias que vivían en esos distritos perdieron sus hogares.\n",
        "Todos los distritos contaron con pocos edificios con daño bajo ya que los edificios de todos los distritos restantes no llegan a representar ni el 40% de los edificios del distrito y tampoco representan la mayoría en el balance.\n",
        "Finalmente, en el caso de todos los distritos, menos los mencionados en el segundo párrafo, tuvieron daño mediano debido a que contaron con más del 50% de sus edificios con este daño. Esto implica que las familias que vivían en estos distritos tuvieron que reparar sus hogares o bien, abandonarlos. Esto último depende de la situación económica de cada familia."
      ]
    },
    {
      "cell_type": "markdown",
      "metadata": {
        "id": "lKrxHHZWnVEK"
      },
      "source": [
        "\n",
        "\n",
        "*   Región 2\n",
        "\n",
        "\n"
      ]
    },
    {
      "cell_type": "code",
      "metadata": {
        "colab": {
          "base_uri": "https://localhost:8080/",
          "height": 204
        },
        "id": "Bjs2-zF_nb8S",
        "outputId": "bfbff50a-8d03-4216-ae74-8e08d0268002"
      },
      "source": [
        "affected_buildings_where_lives_1_family_region_2 = affected_buildings_where_lives_1_family.groupby('geo_level_2_id').agg({'damage_grade':'mean'})\n",
        "affected_buildings_where_lives_1_family_region_2.columns = ['damage_grade_mean']\n",
        "affected_buildings_where_lives_1_family_region_2.reset_index(inplace=True)\n",
        "affected_buildings_where_lives_1_family_region_2.columns = ['Region 2', 'Damage grade mean']\n",
        "affected_buildings_where_lives_1_family_region_2.head()"
      ],
      "execution_count": 65,
      "outputs": [
        {
          "output_type": "execute_result",
          "data": {
            "text/html": [
              "<div>\n",
              "<style scoped>\n",
              "    .dataframe tbody tr th:only-of-type {\n",
              "        vertical-align: middle;\n",
              "    }\n",
              "\n",
              "    .dataframe tbody tr th {\n",
              "        vertical-align: top;\n",
              "    }\n",
              "\n",
              "    .dataframe thead th {\n",
              "        text-align: right;\n",
              "    }\n",
              "</style>\n",
              "<table border=\"1\" class=\"dataframe\">\n",
              "  <thead>\n",
              "    <tr style=\"text-align: right;\">\n",
              "      <th></th>\n",
              "      <th>Region 2</th>\n",
              "      <th>Damage grade mean</th>\n",
              "    </tr>\n",
              "  </thead>\n",
              "  <tbody>\n",
              "    <tr>\n",
              "      <th>0</th>\n",
              "      <td>0</td>\n",
              "      <td>3.00</td>\n",
              "    </tr>\n",
              "    <tr>\n",
              "      <th>1</th>\n",
              "      <td>1</td>\n",
              "      <td>2.37</td>\n",
              "    </tr>\n",
              "    <tr>\n",
              "      <th>2</th>\n",
              "      <td>3</td>\n",
              "      <td>2.10</td>\n",
              "    </tr>\n",
              "    <tr>\n",
              "      <th>3</th>\n",
              "      <td>4</td>\n",
              "      <td>2.54</td>\n",
              "    </tr>\n",
              "    <tr>\n",
              "      <th>4</th>\n",
              "      <td>5</td>\n",
              "      <td>2.16</td>\n",
              "    </tr>\n",
              "  </tbody>\n",
              "</table>\n",
              "</div>"
            ],
            "text/plain": [
              "   Region 2    Damage grade mean\n",
              "0         0                 3.00\n",
              "1         1                 2.37\n",
              "2         3                 2.10\n",
              "3         4                 2.54\n",
              "4         5                 2.16"
            ]
          },
          "metadata": {
            "tags": []
          },
          "execution_count": 65
        }
      ]
    },
    {
      "cell_type": "code",
      "metadata": {
        "colab": {
          "base_uri": "https://localhost:8080/",
          "height": 637
        },
        "id": "4mWhSQlUc73y",
        "outputId": "11bbd0ce-898a-4e7c-b1c3-ee906aa29041"
      },
      "source": [
        "plot = affected_buildings_where_lives_1_family_region_2['Damage grade mean'].plot.hist(color=(0.6, 0, 0.8), bins=70, figsize=(20,10)) #color=[(0, 0.7, 0.7), (0.0, 0.0, 0.9), (0.6, 0, 0.8)]\n",
        "plot.set_title(\"Grado de daño promedio vs distritos en la región 2 donde vive 1 familia en las edificaciones dañadas\", fontsize=18)\n",
        "plot.set_ylabel(\"Repeticiones de cada dato del grado de daño promedio\", fontsize=18);\n",
        "plot.set_xlabel(\"Grado de daño promedio para los distritos en la región 2 donde vive 1 familia en las edificaciones dañadas\", fontsize=18);"
      ],
      "execution_count": 66,
      "outputs": [
        {
          "output_type": "display_data",
          "data": {
            "image/png": "[encoded data removed]",
            "text/plain": [
              "<Figure size 1440x720 with 1 Axes>"
            ]
          },
          "metadata": {
            "tags": [],
            "needs_background": "light"
          }
        }
      ]
    },
    {
      "cell_type": "markdown",
      "metadata": {
        "id": "iU6yNgPHMVob"
      },
      "source": [
        "Dado que son muchos distritos en la región 2, decidimos hacer un promedio del daño para cada distrito así podemos sacar una conclsusión fácilmente."
      ]
    },
    {
      "cell_type": "markdown",
      "metadata": {
        "id": "VjUv3L_WqGLW"
      },
      "source": [
        "A partir del gráfico de arriba, podemos concluir que el daño promedio de los edificios donde vivía una familia de la región dos está en el intervalo (2, 2.10), aproximadamente. Esto nos indica que en la mayoría de los distritos de la región dos, los edificios donde vivía una familia fueron dañandos con daño mediano, lo que implica que las familias tuvieron que refaccionar sus hogares o abandonarlos, dependiendo de qué tan buena o mala sea la situación económica de cada familia."
      ]
    },
    {
      "cell_type": "markdown",
      "metadata": {
        "id": "0juq6OpX9DX5"
      },
      "source": [
        "\n",
        "\n",
        "*   Región 3\n",
        "\n"
      ]
    },
    {
      "cell_type": "code",
      "metadata": {
        "colab": {
          "base_uri": "https://localhost:8080/",
          "height": 204
        },
        "id": "wT44hS4z9Cj5",
        "outputId": "0d16fd83-53b0-4fa6-b15d-e4ee0363e8e6"
      },
      "source": [
        "affected_buildings_where_lives_1_family_region_3 = affected_buildings_where_lives_1_family.groupby('geo_level_3_id').agg({'damage_grade':'mean'})\n",
        "affected_buildings_where_lives_1_family_region_3.columns = ['damage_grade_mean']\n",
        "affected_buildings_where_lives_1_family_region_3.reset_index(inplace=True)\n",
        "affected_buildings_where_lives_1_family_region_3.columns = ['Region 3', 'Damage grade mean']\n",
        "affected_buildings_where_lives_1_family_region_3.head()"
      ],
      "execution_count": 67,
      "outputs": [
        {
          "output_type": "execute_result",
          "data": {
            "text/html": [
              "<div>\n",
              "<style scoped>\n",
              "    .dataframe tbody tr th:only-of-type {\n",
              "        vertical-align: middle;\n",
              "    }\n",
              "\n",
              "    .dataframe tbody tr th {\n",
              "        vertical-align: top;\n",
              "    }\n",
              "\n",
              "    .dataframe thead th {\n",
              "        text-align: right;\n",
              "    }\n",
              "</style>\n",
              "<table border=\"1\" class=\"dataframe\">\n",
              "  <thead>\n",
              "    <tr style=\"text-align: right;\">\n",
              "      <th></th>\n",
              "      <th>Region 3</th>\n",
              "      <th>Damage grade mean</th>\n",
              "    </tr>\n",
              "  </thead>\n",
              "  <tbody>\n",
              "    <tr>\n",
              "      <th>0</th>\n",
              "      <td>0</td>\n",
              "      <td>3.00</td>\n",
              "    </tr>\n",
              "    <tr>\n",
              "      <th>1</th>\n",
              "      <td>1</td>\n",
              "      <td>2.50</td>\n",
              "    </tr>\n",
              "    <tr>\n",
              "      <th>2</th>\n",
              "      <td>3</td>\n",
              "      <td>1.88</td>\n",
              "    </tr>\n",
              "    <tr>\n",
              "      <th>3</th>\n",
              "      <td>5</td>\n",
              "      <td>1.15</td>\n",
              "    </tr>\n",
              "    <tr>\n",
              "      <th>4</th>\n",
              "      <td>6</td>\n",
              "      <td>2.68</td>\n",
              "    </tr>\n",
              "  </tbody>\n",
              "</table>\n",
              "</div>"
            ],
            "text/plain": [
              "   Region 3    Damage grade mean\n",
              "0         0                 3.00\n",
              "1         1                 2.50\n",
              "2         3                 1.88\n",
              "3         5                 1.15\n",
              "4         6                 2.68"
            ]
          },
          "metadata": {
            "tags": []
          },
          "execution_count": 67
        }
      ]
    },
    {
      "cell_type": "code",
      "metadata": {
        "colab": {
          "base_uri": "https://localhost:8080/",
          "height": 637
        },
        "id": "zt8uQLLF93IV",
        "outputId": "352eeaca-768b-4cbf-813d-13686bfbda83"
      },
      "source": [
        "plot = affected_buildings_where_lives_1_family_region_3['Damage grade mean'].plot.hist(color=(0.6, 0, 0.8), bins=40, figsize=(20,10))\n",
        "plot.set_title(\"Grado de daño promedio vs distritos en la región 3 donde vive 1 familia en las edificaciones dañadas\", fontsize=18)\n",
        "plot.set_ylabel(\"Repeticiones de cada dato del grado de daño promedio\", fontsize=18);\n",
        "plot.set_xlabel(\"Grado de daño promedio para distritos en la región 3 donde vive 1 familia en las edificaciones dañadas\", fontsize=18);"
      ],
      "execution_count": 69,
      "outputs": [
        {
          "output_type": "display_data",
          "data": {
            "image/png": "[encoded data removed]",
            "text/plain": [
              "<Figure size 1440x720 with 1 Axes>"
            ]
          },
          "metadata": {
            "tags": [],
            "needs_background": "light"
          }
        }
      ]
    },
    {
      "cell_type": "markdown",
      "metadata": {
        "id": "cZh1Jfq6UKWD"
      },
      "source": [
        "Hicimos lo mismo que en la región dos dado que son muchos distritos. A partir del gráfico de arriba, podemos concluir que el daño promedio de los edificios donde vivía una familia de la región tres está en el intervalo (2, 2.05), aproximadamente. Esto nos indica que en la mayoría de los distritos de la región tres, los edificios donde vivía una familia fueron dañandos con daño mediano, lo que implica que las familias tuvieron que refaccionar sus hogares o abandonarlos, dependiendo de qué tan buena o mala sea la situación económica de cada familia."
      ]
    },
    {
      "cell_type": "markdown",
      "metadata": {
        "id": "KS6F7M_CBKeI"
      },
      "source": [
        "--------------------------------------------------------------------------------"
      ]
    },
    {
      "cell_type": "markdown",
      "metadata": {
        "id": "XlMlApPWAOA7"
      },
      "source": [
        " A continuación, veremos los daños que recibieron los edificios donde vivía más de una sola familia en los distritos de las tres regiones:"
      ]
    },
    {
      "cell_type": "code",
      "metadata": {
        "id": "pKrmr3iMAOqA"
      },
      "source": [
        "affected_buildings_where_lives_more_than_1_family = train_values_reduced_with_damage_for_affected_families.loc[train_values_reduced_with_damage_for_affected_families['count_families'] > 1, :]"
      ],
      "execution_count": 70,
      "outputs": []
    },
    {
      "cell_type": "markdown",
      "metadata": {
        "id": "VRtNVc6TUfoi"
      },
      "source": [
        "* Región 1"
      ]
    },
    {
      "cell_type": "code",
      "metadata": {
        "colab": {
          "base_uri": "https://localhost:8080/",
          "height": 204
        },
        "id": "WUsmxhVjNyuZ",
        "outputId": "5f9a5d7c-f000-41ab-cd2a-7d94905bc834"
      },
      "source": [
        "affected_buildings_where_lives_more_than_1_family_region_1 = affected_buildings_where_lives_more_than_1_family.groupby(['geo_level_1_id', 'damage_grade']).agg({'damage_grade':'count'})\n",
        "affected_buildings_where_lives_more_than_1_family_region_1.columns = ['damage_grade_count']\n",
        "affected_buildings_where_lives_more_than_1_family_region_1.reset_index(inplace=True)\n",
        "affected_buildings_where_lives_more_than_1_family_region_1.columns = ['Region 1', 'Grado de daño', 'Damage grade count']\n",
        "affected_buildings_where_lives_more_than_1_family_region_1.head()"
      ],
      "execution_count": 71,
      "outputs": [
        {
          "output_type": "execute_result",
          "data": {
            "text/html": [
              "<div>\n",
              "<style scoped>\n",
              "    .dataframe tbody tr th:only-of-type {\n",
              "        vertical-align: middle;\n",
              "    }\n",
              "\n",
              "    .dataframe tbody tr th {\n",
              "        vertical-align: top;\n",
              "    }\n",
              "\n",
              "    .dataframe thead th {\n",
              "        text-align: right;\n",
              "    }\n",
              "</style>\n",
              "<table border=\"1\" class=\"dataframe\">\n",
              "  <thead>\n",
              "    <tr style=\"text-align: right;\">\n",
              "      <th></th>\n",
              "      <th>Region 1</th>\n",
              "      <th>Grado de daño</th>\n",
              "      <th>Damage grade count</th>\n",
              "    </tr>\n",
              "  </thead>\n",
              "  <tbody>\n",
              "    <tr>\n",
              "      <th>0</th>\n",
              "      <td>0</td>\n",
              "      <td>2</td>\n",
              "      <td>16</td>\n",
              "    </tr>\n",
              "    <tr>\n",
              "      <th>1</th>\n",
              "      <td>0</td>\n",
              "      <td>3</td>\n",
              "      <td>4</td>\n",
              "    </tr>\n",
              "    <tr>\n",
              "      <th>2</th>\n",
              "      <td>1</td>\n",
              "      <td>1</td>\n",
              "      <td>11</td>\n",
              "    </tr>\n",
              "    <tr>\n",
              "      <th>3</th>\n",
              "      <td>1</td>\n",
              "      <td>2</td>\n",
              "      <td>30</td>\n",
              "    </tr>\n",
              "    <tr>\n",
              "      <th>4</th>\n",
              "      <td>1</td>\n",
              "      <td>3</td>\n",
              "      <td>2</td>\n",
              "    </tr>\n",
              "  </tbody>\n",
              "</table>\n",
              "</div>"
            ],
            "text/plain": [
              "   Region 1  Grado de daño  Damage grade count\n",
              "0         0              2                  16\n",
              "1         0              3                   4\n",
              "2         1              1                  11\n",
              "3         1              2                  30\n",
              "4         1              3                   2"
            ]
          },
          "metadata": {
            "tags": []
          },
          "execution_count": 71
        }
      ]
    },
    {
      "cell_type": "code",
      "metadata": {
        "colab": {
          "base_uri": "https://localhost:8080/",
          "height": 235
        },
        "id": "EbEbyn-pVSOi",
        "outputId": "8812c7a5-2181-48d8-a212-caac4f6b843a"
      },
      "source": [
        "affected_buildings_where_lives_more_than_1_family_region_1_pivot = affected_buildings_where_lives_more_than_1_family_region_1.pivot(index='Region 1', columns='Grado de daño', values='Damage grade count')\n",
        "affected_buildings_where_lives_more_than_1_family_region_1_pivot = affected_buildings_where_lives_more_than_1_family_region_1_pivot.fillna(0)\n",
        "affected_buildings_where_lives_more_than_1_family_region_1_pivot.head()"
      ],
      "execution_count": 72,
      "outputs": [
        {
          "output_type": "execute_result",
          "data": {
            "text/html": [
              "<div>\n",
              "<style scoped>\n",
              "    .dataframe tbody tr th:only-of-type {\n",
              "        vertical-align: middle;\n",
              "    }\n",
              "\n",
              "    .dataframe tbody tr th {\n",
              "        vertical-align: top;\n",
              "    }\n",
              "\n",
              "    .dataframe thead th {\n",
              "        text-align: right;\n",
              "    }\n",
              "</style>\n",
              "<table border=\"1\" class=\"dataframe\">\n",
              "  <thead>\n",
              "    <tr style=\"text-align: right;\">\n",
              "      <th>Grado de daño</th>\n",
              "      <th>1</th>\n",
              "      <th>2</th>\n",
              "      <th>3</th>\n",
              "    </tr>\n",
              "    <tr>\n",
              "      <th>Region 1</th>\n",
              "      <th></th>\n",
              "      <th></th>\n",
              "      <th></th>\n",
              "    </tr>\n",
              "  </thead>\n",
              "  <tbody>\n",
              "    <tr>\n",
              "      <th>0</th>\n",
              "      <td>0.00</td>\n",
              "      <td>16.00</td>\n",
              "      <td>4.00</td>\n",
              "    </tr>\n",
              "    <tr>\n",
              "      <th>1</th>\n",
              "      <td>11.00</td>\n",
              "      <td>30.00</td>\n",
              "      <td>2.00</td>\n",
              "    </tr>\n",
              "    <tr>\n",
              "      <th>2</th>\n",
              "      <td>0.00</td>\n",
              "      <td>3.00</td>\n",
              "      <td>5.00</td>\n",
              "    </tr>\n",
              "    <tr>\n",
              "      <th>3</th>\n",
              "      <td>0.00</td>\n",
              "      <td>317.00</td>\n",
              "      <td>151.00</td>\n",
              "    </tr>\n",
              "    <tr>\n",
              "      <th>4</th>\n",
              "      <td>27.00</td>\n",
              "      <td>511.00</td>\n",
              "      <td>94.00</td>\n",
              "    </tr>\n",
              "  </tbody>\n",
              "</table>\n",
              "</div>"
            ],
            "text/plain": [
              "Grado de daño                    1                    2                    3\n",
              "Region 1                                                                    \n",
              "0                             0.00                16.00                 4.00\n",
              "1                            11.00                30.00                 2.00\n",
              "2                             0.00                 3.00                 5.00\n",
              "3                             0.00               317.00               151.00\n",
              "4                            27.00               511.00                94.00"
            ]
          },
          "metadata": {
            "tags": []
          },
          "execution_count": 72
        }
      ]
    },
    {
      "cell_type": "code",
      "metadata": {
        "colab": {
          "base_uri": "https://localhost:8080/",
          "height": 235
        },
        "id": "g2Nmgk9BVjN6",
        "outputId": "da5ed198-4d67-4014-fc07-b950f57e70b5"
      },
      "source": [
        "#Normalizamos las columnas\n",
        "total = affected_buildings_where_lives_more_than_1_family_region_1_pivot[1] + affected_buildings_where_lives_more_than_1_family_region_1_pivot[2] + affected_buildings_where_lives_more_than_1_family_region_1_pivot[3]\n",
        "affected_buildings_where_lives_more_than_1_family_region_1_pivot[1] = affected_buildings_where_lives_more_than_1_family_region_1_pivot[1]/total\n",
        "affected_buildings_where_lives_more_than_1_family_region_1_pivot[2] = affected_buildings_where_lives_more_than_1_family_region_1_pivot[2]/total\n",
        "affected_buildings_where_lives_more_than_1_family_region_1_pivot[3] = affected_buildings_where_lives_more_than_1_family_region_1_pivot[3]/total\n",
        "affected_buildings_where_lives_more_than_1_family_region_1_pivot.head()"
      ],
      "execution_count": 73,
      "outputs": [
        {
          "output_type": "execute_result",
          "data": {
            "text/html": [
              "<div>\n",
              "<style scoped>\n",
              "    .dataframe tbody tr th:only-of-type {\n",
              "        vertical-align: middle;\n",
              "    }\n",
              "\n",
              "    .dataframe tbody tr th {\n",
              "        vertical-align: top;\n",
              "    }\n",
              "\n",
              "    .dataframe thead th {\n",
              "        text-align: right;\n",
              "    }\n",
              "</style>\n",
              "<table border=\"1\" class=\"dataframe\">\n",
              "  <thead>\n",
              "    <tr style=\"text-align: right;\">\n",
              "      <th>Grado de daño</th>\n",
              "      <th>1</th>\n",
              "      <th>2</th>\n",
              "      <th>3</th>\n",
              "    </tr>\n",
              "    <tr>\n",
              "      <th>Region 1</th>\n",
              "      <th></th>\n",
              "      <th></th>\n",
              "      <th></th>\n",
              "    </tr>\n",
              "  </thead>\n",
              "  <tbody>\n",
              "    <tr>\n",
              "      <th>0</th>\n",
              "      <td>0.00</td>\n",
              "      <td>0.80</td>\n",
              "      <td>0.20</td>\n",
              "    </tr>\n",
              "    <tr>\n",
              "      <th>1</th>\n",
              "      <td>0.26</td>\n",
              "      <td>0.70</td>\n",
              "      <td>0.05</td>\n",
              "    </tr>\n",
              "    <tr>\n",
              "      <th>2</th>\n",
              "      <td>0.00</td>\n",
              "      <td>0.38</td>\n",
              "      <td>0.62</td>\n",
              "    </tr>\n",
              "    <tr>\n",
              "      <th>3</th>\n",
              "      <td>0.00</td>\n",
              "      <td>0.68</td>\n",
              "      <td>0.32</td>\n",
              "    </tr>\n",
              "    <tr>\n",
              "      <th>4</th>\n",
              "      <td>0.04</td>\n",
              "      <td>0.81</td>\n",
              "      <td>0.15</td>\n",
              "    </tr>\n",
              "  </tbody>\n",
              "</table>\n",
              "</div>"
            ],
            "text/plain": [
              "Grado de daño                    1                    2                    3\n",
              "Region 1                                                                    \n",
              "0                             0.00                 0.80                 0.20\n",
              "1                             0.26                 0.70                 0.05\n",
              "2                             0.00                 0.38                 0.62\n",
              "3                             0.00                 0.68                 0.32\n",
              "4                             0.04                 0.81                 0.15"
            ]
          },
          "metadata": {
            "tags": []
          },
          "execution_count": 73
        }
      ]
    },
    {
      "cell_type": "code",
      "metadata": {
        "colab": {
          "base_uri": "https://localhost:8080/",
          "height": 641
        },
        "id": "a6ckjRauWtsK",
        "outputId": "ab804b6d-c93f-45c8-b1a1-c3649e006d97"
      },
      "source": [
        "plot = affected_buildings_where_lives_more_than_1_family_region_1_pivot.plot.bar(color=[(0, 0.7, 0.7), (0.0, 0.0, 0.9), (0.6, 0, 0.8)],stacked=True, figsize=(20,10))\n",
        "plot.set_title(\"Grado de daño vs distritos en la región 1 donde vive más de 1 familia en las edificaciones dañadas\", fontsize=18)\n",
        "plot.set_ylabel(\"Cantidad de edificaciones normalizadas\", fontsize=18);\n",
        "plot.set_xlabel(\"Distritos en la región 1 donde vive más de 1 familia en las edificaciones dañadas\", fontsize=18);"
      ],
      "execution_count": 74,
      "outputs": [
        {
          "output_type": "display_data",
          "data": {
            "image/png": "[encoded data removed]",
            "text/plain": [
              "<Figure size 1440x720 with 1 Axes>"
            ]
          },
          "metadata": {
            "tags": [],
            "needs_background": "light"
          }
        }
      ]
    },
    {
      "cell_type": "markdown",
      "metadata": {
        "id": "pNJjHKsAXMZ7"
      },
      "source": [
        "Normalizamos los datos con el mismo fin que para el análisis hecho para los edificios de los distritos de la región uno y que vivía una familia, pero en este análisis vivían más de una familia en los edificios de los distritos de la región 1."
      ]
    },
    {
      "cell_type": "markdown",
      "metadata": {
        "id": "uiVy2V4MpXj-"
      },
      "source": [
        "Como conclusión, decimos que se observa claramente que los distritos 2, 17, 18 y 21 son los que fueron más afectados debido a que contaron con más del 50% de sus edificios muy o totalmente dañados. También vemos que el distrito 8 sigue esta tendencia porque, aproximadamente, el 50% de sus edificios está muy o totalmente dañado, el 47% esta con un daño mediano y el 3% está poco dañado y, en el balance, hay mayoría de edificios muy o totalmente dañados. A partir de esto, la mayoría de las familias que vivían en esos distritos perdieron sus hogares. "
      ]
    },
    {
      "cell_type": "markdown",
      "metadata": {
        "id": "eWKvv53ipbd1"
      },
      "source": [
        "Todos los distritos contaron con un porcentaje de pocos edificios con daño bajo, a excepción del 12 que tuvo un 65% de edificios con daño bajo y esto implica que las familias que vivían allí no tuvieron grandes inconvenientes con sus hogares, ya que los edificios de todos los distritos restantes no llegan a representar ni el 40% de los edificios del distrito y tampoco representan la mayoría en el balance."
      ]
    },
    {
      "cell_type": "markdown",
      "metadata": {
        "id": "jjpgpoUDpd_1"
      },
      "source": [
        "El distrito 27 está equilibrado en cuanto a la intensidad de daño de sus edificios ya que tiene 50% de sus edificioscon daño medio y el 50% de sus edificios muy o totalmente dañado. Igualmente, las familias que vivían en este distrito se vieron obligadas a refaccionar sus hogares (en el caso de que su hogar esté dentro de los edificios que recibieron un daño mediano y puedan pagarlo) o abandonarlos."
      ]
    },
    {
      "cell_type": "markdown",
      "metadata": {
        "id": "928_rra_pgf1"
      },
      "source": [
        "Finalmente, en el caso de todos los distritos, menos los mencionados en los párrafos anteriores, tuvieron daño mediano debido a que contaron con más del 50% de sus edificios con este daño. También vemos que el distrito 9 sigue esta tendencia ya que, aproximadamente, el 48% de sus edificios está con daño mediano, el 5% con daño bajo y 47% con mucho daño o totalmente dañado, pero al tener mayoría de edificios, en el balance, con daño mediano, entraría en esta catégoría. Esto implica que las familias que vivían en estos distritos tuvieron que reparar sus hogares o bien, abandonarlos. Esto último depende de la situación económica de cada familia."
      ]
    },
    {
      "cell_type": "markdown",
      "metadata": {
        "id": "x_scG1hEpwzN"
      },
      "source": [
        "**Comparación con el gráfico de la sección edificios dañados en la región uno donde vivía una familia: (ver si es necesario)**"
      ]
    },
    {
      "cell_type": "markdown",
      "metadata": {
        "id": "4KDeg_statwj"
      },
      "source": [
        "Comparándolo con el análisis que realizamos para los edificios dañados en la región uno donde vivía una familia, vemos que coinden casi todos los distritos más afectados (los que contienen un porcentaje mayor de edificios muy o totalmente dañados, respecto de los que resultaron dañados con daño bajo o mediano). Estos son el 8, 17, 18 y 21. Notamos, comprando los gráficos, que el gráfico realizado en el análisis de los edificios dañados en la región uno donde vivía una familia, en esos distritos, hay un porcentaje levemente mayor de los edificios dañados seriamente, respecto de los dañados con daño mediano y bajo que en el gráfico del análisis hecho en esta sección. "
      ]
    },
    {
      "cell_type": "markdown",
      "metadata": {
        "id": "7lnYD2-nppEF"
      },
      "source": [
        "También vemos que en el distrito 2 de esta sección, no hay edificios dañados con daño bajo, mientras que en el del análisis que realizamos para los edificios dañados en la región uno donde vivía una familia sí  hay y hay más predominio del porcentaje de edificios dañados con daño mediano; y que en el distrito 27 de esta sección, tampoco hay edificios dañados con daño bajo, mientras que en el del análisis que realizamos para los edificios dañados en la región uno donde vivía una familia sí hay y por no haber edificios dañados con daño bajo en el gráfico de esta sección se igualan los porcentajes de los edificios dañados con daño mediano y muy alto."
      ]
    },
    {
      "cell_type": "markdown",
      "metadata": {
        "id": "0gGNTC56rO79"
      },
      "source": [
        "* Región 2"
      ]
    },
    {
      "cell_type": "code",
      "metadata": {
        "colab": {
          "base_uri": "https://localhost:8080/",
          "height": 204
        },
        "id": "cpfUab_ErSal",
        "outputId": "39d00bb5-9d42-4d97-efb2-d6e8bfbcba98"
      },
      "source": [
        "affected_buildings_where_lives_more_than_1_family_region_2 = affected_buildings_where_lives_more_than_1_family.groupby('geo_level_2_id').agg({'damage_grade':'mean'})\n",
        "affected_buildings_where_lives_more_than_1_family_region_2.columns = ['damage_grade_mean']\n",
        "affected_buildings_where_lives_more_than_1_family_region_2.reset_index(inplace=True)\n",
        "affected_buildings_where_lives_more_than_1_family_region_2.columns = ['Region 2', 'Damage grade mean']\n",
        "affected_buildings_where_lives_more_than_1_family_region_2.head()"
      ],
      "execution_count": 75,
      "outputs": [
        {
          "output_type": "execute_result",
          "data": {
            "text/html": [
              "<div>\n",
              "<style scoped>\n",
              "    .dataframe tbody tr th:only-of-type {\n",
              "        vertical-align: middle;\n",
              "    }\n",
              "\n",
              "    .dataframe tbody tr th {\n",
              "        vertical-align: top;\n",
              "    }\n",
              "\n",
              "    .dataframe thead th {\n",
              "        text-align: right;\n",
              "    }\n",
              "</style>\n",
              "<table border=\"1\" class=\"dataframe\">\n",
              "  <thead>\n",
              "    <tr style=\"text-align: right;\">\n",
              "      <th></th>\n",
              "      <th>Region 2</th>\n",
              "      <th>Damage grade mean</th>\n",
              "    </tr>\n",
              "  </thead>\n",
              "  <tbody>\n",
              "    <tr>\n",
              "      <th>0</th>\n",
              "      <td>0</td>\n",
              "      <td>3.00</td>\n",
              "    </tr>\n",
              "    <tr>\n",
              "      <th>1</th>\n",
              "      <td>1</td>\n",
              "      <td>2.50</td>\n",
              "    </tr>\n",
              "    <tr>\n",
              "      <th>2</th>\n",
              "      <td>4</td>\n",
              "      <td>2.35</td>\n",
              "    </tr>\n",
              "    <tr>\n",
              "      <th>3</th>\n",
              "      <td>7</td>\n",
              "      <td>2.37</td>\n",
              "    </tr>\n",
              "    <tr>\n",
              "      <th>4</th>\n",
              "      <td>8</td>\n",
              "      <td>2.20</td>\n",
              "    </tr>\n",
              "  </tbody>\n",
              "</table>\n",
              "</div>"
            ],
            "text/plain": [
              "   Region 2    Damage grade mean\n",
              "0         0                 3.00\n",
              "1         1                 2.50\n",
              "2         4                 2.35\n",
              "3         7                 2.37\n",
              "4         8                 2.20"
            ]
          },
          "metadata": {
            "tags": []
          },
          "execution_count": 75
        }
      ]
    },
    {
      "cell_type": "code",
      "metadata": {
        "colab": {
          "base_uri": "https://localhost:8080/",
          "height": 637
        },
        "id": "Ymg0_bl_rzE2",
        "outputId": "d3169e8e-8934-47c3-fb80-853dc4efafd7"
      },
      "source": [
        "plot = affected_buildings_where_lives_more_than_1_family_region_2['Damage grade mean'].plot.hist(color=(0.6, 0, 0.8), bins=50, figsize=(20,10))\n",
        "plot.set_title(\"Grado de daño promedio vs distritos en la región 2 donde vive más de 1 familia en las edificaciones dañadas\", fontsize=18)\n",
        "plot.set_ylabel(\"Repeticiones de cada dato del grado de daño promedio\", fontsize=18);\n",
        "plot.set_xlabel(\"Grado de daño promedio para los distritos en la región 2 donde vive más de 1 familia en las edificaciones dañadas\", fontsize=18);"
      ],
      "execution_count": 77,
      "outputs": [
        {
          "output_type": "display_data",
          "data": {
            "image/png": "[encoded data removed]",
            "text/plain": [
              "<Figure size 1440x720 with 1 Axes>"
            ]
          },
          "metadata": {
            "tags": [],
            "needs_background": "light"
          }
        }
      ]
    },
    {
      "cell_type": "markdown",
      "metadata": {
        "id": "ThQj3a00su5e"
      },
      "source": [
        "Dado que son muchos distritos en la región 2, decidimos hacer un promedio del daño para cada distrito así podemos sacar una conclsusión fácilmente."
      ]
    },
    {
      "cell_type": "markdown",
      "metadata": {
        "id": "sJMwLwoEs3WI"
      },
      "source": [
        "A partir del gráfico de arriba, podemos concluir que el daño promedio de los edificios donde vivía más de una familia de la región dos está en el intervalo (2, 2.05), aproximadamente. Esto nos indica que en la mayoría de los distritos de la región dos, los edificios donde vivía más de una familia fueron dañandos con daño mediano, lo que implica que las familias tuvieron que refaccionar sus hogares o abandonarlos, dependiendo de qué tan buena o mala sea la situación económica de cada familia."
      ]
    },
    {
      "cell_type": "markdown",
      "metadata": {
        "id": "zqlKXH-QyAg-"
      },
      "source": [
        "**Comparación con el gráfico de la sección edificios dañados en la región dos donde vivía una familia:(ver si es necesario)**"
      ]
    },
    {
      "cell_type": "markdown",
      "metadata": {
        "id": "WW2ydQd_yEcx"
      },
      "source": [
        "Comparándolo con el análisis que realizamos para los edificios dañados en la región dos donde vivía una familia, podemos observar que en el gráfico de esta sección están mucho más dispersos los daños promedios, pero se siguen acumulando en el mismo lugar (aproximadamente) ya que el daño promedio más grande sigue siendo cercano a dos. Esto quiere decir que para ambas secciones, por más que haya muchos más edificios en la seccion de los edificios dañados en la región dos donde vivía una familia que en esta, donde estamos realizando esta comparación, la tendencia se repite. Sin embargo, los daños promedio cercanos a tres y a uno se acumulan más que en la seccion de los edificios dañados en la región dos donde vivía una familia (en el párrafo siguiente, vamos a concluir al respecto)."
      ]
    },
    {
      "cell_type": "markdown",
      "metadata": {
        "id": "cgS5_HFM3F6K"
      },
      "source": [
        "Otra observación interesante es que, en esta sección, el daño promedio cercano a uno, dos y tres se repiten más veces que en la sección de los edificios dañados en la región dos donde vivía una familia (y eso que en la presente sección hay menos edificios). Eso es porque en la presente sección, la repetición de los daños promedios no entre uno, dos y tres se dan con menor frecuencia que en la otra sección, por lo que se acumulan menos y se dispersan más, facilitando que se acumulen más en los valores cercanos auno, a dos y a tres."
      ]
    },
    {
      "cell_type": "code",
      "metadata": {
        "colab": {
          "base_uri": "https://localhost:8080/",
          "height": 637
        },
        "id": "G_TaoI-7QzGO",
        "outputId": "22e140aa-7c01-4789-97f3-35b7be991e9a"
      },
      "source": [
        "x=affected_buildings_where_lives_more_than_1_family_region_2['Damage grade mean']\n",
        "y=affected_buildings_where_lives_1_family_region_2['Damage grade mean']\n",
        "\n",
        "fig, ax = plt.subplots(figsize=(20,10))\n",
        "ax.hist([x, y], bins=50, alpha=1, label=['Edificios donde vive más de 1 familia','Edificios donde vive 1 familia'], color=[(0.6, 0, 0.8), (0.0, 0.0, 0.9)])\n",
        "\n",
        "plt.title(\"Grado de daño promedio vs distritos de la región 2\", fontsize=18)\n",
        "plt.legend(loc='upper right', edgecolor='k')\n",
        "plt.xlabel(\"Grado de daño promedio para los distritos en la región 2\", fontsize=18)\n",
        "plt.ylabel(\"Repeticiones de cada dato del grado de daño promedio\", fontsize=18)\n",
        "plt.show()"
      ],
      "execution_count": 230,
      "outputs": [
        {
          "output_type": "display_data",
          "data": {
            "image/png": "[encoded data removed]",
            "text/plain": [
              "<Figure size 1440x720 with 1 Axes>"
            ]
          },
          "metadata": {
            "tags": [],
            "needs_background": "light"
          }
        }
      ]
    },
    {
      "cell_type": "markdown",
      "metadata": {
        "id": "-P5PcQOfts2p"
      },
      "source": [
        "* Región 3"
      ]
    },
    {
      "cell_type": "code",
      "metadata": {
        "colab": {
          "base_uri": "https://localhost:8080/",
          "height": 204
        },
        "id": "W0qFlaTstvXO",
        "outputId": "7e4eeeb1-a553-430e-ad32-19137a6dffdf"
      },
      "source": [
        "affected_buildings_where_lives_more_than_1_family_region_3 = affected_buildings_where_lives_more_than_1_family.groupby('geo_level_3_id').agg({'damage_grade':'mean'})\n",
        "affected_buildings_where_lives_more_than_1_family_region_3.columns = ['damage_grade_mean']\n",
        "affected_buildings_where_lives_more_than_1_family_region_3.reset_index(inplace=True)\n",
        "affected_buildings_where_lives_more_than_1_family_region_3.columns = ['Region 3', 'Damage grade mean']\n",
        "affected_buildings_where_lives_more_than_1_family_region_3.head()"
      ],
      "execution_count": 78,
      "outputs": [
        {
          "output_type": "execute_result",
          "data": {
            "text/html": [
              "<div>\n",
              "<style scoped>\n",
              "    .dataframe tbody tr th:only-of-type {\n",
              "        vertical-align: middle;\n",
              "    }\n",
              "\n",
              "    .dataframe tbody tr th {\n",
              "        vertical-align: top;\n",
              "    }\n",
              "\n",
              "    .dataframe thead th {\n",
              "        text-align: right;\n",
              "    }\n",
              "</style>\n",
              "<table border=\"1\" class=\"dataframe\">\n",
              "  <thead>\n",
              "    <tr style=\"text-align: right;\">\n",
              "      <th></th>\n",
              "      <th>Region 3</th>\n",
              "      <th>Damage grade mean</th>\n",
              "    </tr>\n",
              "  </thead>\n",
              "  <tbody>\n",
              "    <tr>\n",
              "      <th>0</th>\n",
              "      <td>5</td>\n",
              "      <td>1.00</td>\n",
              "    </tr>\n",
              "    <tr>\n",
              "      <th>1</th>\n",
              "      <td>8</td>\n",
              "      <td>3.00</td>\n",
              "    </tr>\n",
              "    <tr>\n",
              "      <th>2</th>\n",
              "      <td>11</td>\n",
              "      <td>2.60</td>\n",
              "    </tr>\n",
              "    <tr>\n",
              "      <th>3</th>\n",
              "      <td>14</td>\n",
              "      <td>2.00</td>\n",
              "    </tr>\n",
              "    <tr>\n",
              "      <th>4</th>\n",
              "      <td>16</td>\n",
              "      <td>2.00</td>\n",
              "    </tr>\n",
              "  </tbody>\n",
              "</table>\n",
              "</div>"
            ],
            "text/plain": [
              "   Region 3    Damage grade mean\n",
              "0         5                 1.00\n",
              "1         8                 3.00\n",
              "2        11                 2.60\n",
              "3        14                 2.00\n",
              "4        16                 2.00"
            ]
          },
          "metadata": {
            "tags": []
          },
          "execution_count": 78
        }
      ]
    },
    {
      "cell_type": "code",
      "metadata": {
        "colab": {
          "base_uri": "https://localhost:8080/",
          "height": 637
        },
        "id": "LqUGg60CuNQm",
        "outputId": "336cde0b-40e4-4311-9f3d-7f9b83afd6f0"
      },
      "source": [
        "plot = affected_buildings_where_lives_more_than_1_family_region_3['Damage grade mean'].plot.hist(color=(0.6, 0, 0.8), bins=40, figsize=(20,10))\n",
        "plot.set_title(\"Grado de daño promedio vs distritos en la región 3 donde vive más de 1 familia en las edificaciones dañadas\", fontsize=18)\n",
        "plot.set_ylabel(\"Repeticiones de cada dato del grado de daño promedio\", fontsize=18);\n",
        "plot.set_xlabel(\"Grado de daño promedio para distritos en la región 3 donde vive más de 1 familia en las edificaciones dañadas\", fontsize=18);"
      ],
      "execution_count": 80,
      "outputs": [
        {
          "output_type": "display_data",
          "data": {
            "image/png": "[encoded data removed]",
            "text/plain": [
              "<Figure size 1440x720 with 1 Axes>"
            ]
          },
          "metadata": {
            "tags": [],
            "needs_background": "light"
          }
        }
      ]
    },
    {
      "cell_type": "markdown",
      "metadata": {
        "id": "zsz6G8iRu0M9"
      },
      "source": [
        "Hicimos lo mismo que en la región tres dado que son muchos distritos. "
      ]
    },
    {
      "cell_type": "markdown",
      "metadata": {
        "id": "T1PH4GW8u_Kt"
      },
      "source": [
        "A partir del gráfico de arriba, podemos concluir que el daño promedio de los edificios donde vivía más de una familia de la región tres está muy cercano a dos. Esto nos indica que en la mayoría de los distritos de la región tres, los edificios donde vivía más de una familia fueron dañandos con daño mediano, lo que implica que las familias tuvieron que refaccionar sus hogares o abandonarlos, dependiendo de qué tan buena o mala sea la situación económica de cada familia."
      ]
    },
    {
      "cell_type": "markdown",
      "metadata": {
        "id": "va4DXuVV4ZmH"
      },
      "source": [
        "**Comparación con el gráfico de la sección edificios dañados en la región tres donde vivía una familia: (ver si es necesario)**"
      ]
    },
    {
      "cell_type": "markdown",
      "metadata": {
        "id": "j8mMLgf04dau"
      },
      "source": [
        "Comparándolo con el análisis que realizamos para los edificios dañados en la región tres donde vivía una familia, podemos observar que en el gráfico de esta sección se acumulan de la misma manera, aproximadamente, pero con menor cantidad (lógico porque son menos edificios). Sin embargo, para los daños promedios cercanos a tres, se acumuló aproximadamente la misma cantidad de repeticiones que para los edificios dañados en la región tres donde vivía una familia (dato curioso, ya que hay menos edificios en esta sección). Esto implica que, en proporción, hubieron más edificios que recibieron un daño promedio muy cercano a tres. "
      ]
    },
    {
      "cell_type": "code",
      "metadata": {
        "colab": {
          "base_uri": "https://localhost:8080/",
          "height": 637
        },
        "id": "-4R_FzCkdksw",
        "outputId": "4e34ba02-9092-4859-d3d1-efdad1bef5bf"
      },
      "source": [
        "x=affected_buildings_where_lives_more_than_1_family_region_3['Damage grade mean']\n",
        "y=affected_buildings_where_lives_1_family_region_3['Damage grade mean']\n",
        "\n",
        "fig, ax = plt.subplots(figsize=(20,10))\n",
        "ax.hist([x, y], bins=30, alpha=1, label=['Edificios donde vive más de 1 familia','Edificios donde vive 1 familia'], color=[(0.6, 0, 0.8), (0.0, 0.0, 0.9)])\n",
        "\n",
        "plt.title(\"Grado de daño promedio vs distritos de la región 3\", fontsize=18)\n",
        "plt.legend(loc='upper right', edgecolor='k')\n",
        "plt.xlabel(\"Grado de daño promedio para los distritos en la región 3\", fontsize=18)\n",
        "plt.ylabel(\"Repeticiones de cada dato del grado de daño promedio\", fontsize=18)\n",
        "plt.show()"
      ],
      "execution_count": 232,
      "outputs": [
        {
          "output_type": "display_data",
          "data": {
            "image/png": "[encoded data removed]",
            "text/plain": [
              "<Figure size 1440x720 with 1 Axes>"
            ]
          },
          "metadata": {
            "tags": [],
            "needs_background": "light"
          }
        }
      ]
    },
    {
      "cell_type": "markdown",
      "metadata": {
        "id": "EzM4Kah4uRku"
      },
      "source": [
        "**Conclusión general de en qué regiones las familias se vieron más afectadas. (ver si es necesario)**"
      ]
    },
    {
      "cell_type": "markdown",
      "metadata": {
        "id": "ZjE7PWEfucAy"
      },
      "source": [
        "Como conclusión a todo este análisis, podemos agrupar lo visto para la región uno, por un lado, lo visto para la región dos, por otro, y lo visto para la región tres, por otro."
      ]
    },
    {
      "cell_type": "markdown",
      "metadata": {
        "id": "acuGAP08Ry1c"
      },
      "source": [
        "Para la región uno, concluimos que las familias que vivían en la región 8, 17, 18 y 21 fueron las más afectadas por lo descrito en sección correspondiente a este análisis. Tomamos la intersección de las regiones para una familia y más de una familia que vivía en los edificios."
      ]
    },
    {
      "cell_type": "markdown",
      "metadata": {
        "id": "1ff0S1h6Vswk"
      },
      "source": [
        "Para la región dos, concluimos que, a partir de los gráficos exhibidos anteriormente, los distritos de esta región tuvieron un daño mediano por lo que las familias tuvieron que reparar sus hogares y en caso de no poder, abandonarlos. "
      ]
    },
    {
      "cell_type": "markdown",
      "metadata": {
        "id": "5YoRUMLKc3Ix"
      },
      "source": [
        "Para la región tres, concluimos que, a partir de los gráficos exhibidos anteriormente, los distritos de esta región tuvieron un daño mediano por lo que las familias tuvieron que reparar sus hogares y en caso de no poder, abandonarlos. "
      ]
    },
    {
      "cell_type": "markdown",
      "metadata": {
        "id": "K4Ve3kH_8a9I"
      },
      "source": [
        "#Edificios de uso secundario"
      ]
    },
    {
      "cell_type": "markdown",
      "metadata": {
        "id": "hRbyBWuseXPs"
      },
      "source": [
        "Análisis previo:"
      ]
    },
    {
      "cell_type": "code",
      "metadata": {
        "id": "e0G9jPhXyhog"
      },
      "source": [
        "#color=[(0, 0.7, 0.7), (0.0, 0.0, 0.9), (0.6, 0, 0.8)]\n",
        "plot = train_values['count_families'].value_counts().sort_index().plot.bar(color=(0.6, 0, 0.8), figsize=(20,10))\n",
        "plot.set_title(\"Cantidad de familias distribuidas en las edificaciones\", fontsize=18)\n",
        "plot.set_ylabel(\"Cantidad de edificaciones\", fontsize=18);\n",
        "plot.set_xlabel(\"Cantidad de familias por edificaciones\", fontsize=18);"
      ],
      "execution_count": null,
      "outputs": []
    },
    {
      "cell_type": "code",
      "metadata": {
        "colab": {
          "base_uri": "https://localhost:8080/",
          "height": 755
        },
        "id": "TQA8Pw3mw0gZ",
        "outputId": "4f6d8088-b854-4ed3-e847-4c642df6bff0"
      },
      "source": [
        "plot = train_values['has_secondary_use'].value_counts().plot.bar(color=(0, 0.7, 0.7), figsize=(20,10))\n",
        "plot.set_title(\"Cantidad de edificaciones de uso secundario\", fontsize=18)\n",
        "plot.set_xticklabels([\"No tiene uso secundario\", \"Sí tiene uso secundario\"], rotation=70, fontsize=11.0)\n",
        "plot.set_ylabel(\"Cantidad de edificaciones\", fontsize=18);\n",
        "plot.set_xlabel(\"Edificaciones que tienen o no uso secundario\", fontsize=18); "
      ],
      "execution_count": 168,
      "outputs": [
        {
          "output_type": "display_data",
          "data": {
            "image/png": "[encoded data removed]",
            "text/plain": [
              "<Figure size 1440x720 with 1 Axes>"
            ]
          },
          "metadata": {
            "tags": [],
            "needs_background": "light"
          }
        }
      ]
    },
    {
      "cell_type": "code",
      "metadata": {
        "colab": {
          "base_uri": "https://localhost:8080/"
        },
        "id": "j1ofLK6Vxqlc",
        "outputId": "8eb8f9d6-9814-4316-a2b4-a94885ed27a0"
      },
      "source": [
        "train_values['has_secondary_use_other'].value_counts()"
      ],
      "execution_count": 174,
      "outputs": [
        {
          "output_type": "execute_result",
          "data": {
            "text/plain": [
              "0    259267\n",
              "1      1334\n",
              "Name: has_secondary_use_other, dtype: int64"
            ]
          },
          "metadata": {
            "tags": []
          },
          "execution_count": 174
        }
      ]
    },
    {
      "cell_type": "code",
      "metadata": {
        "colab": {
          "base_uri": "https://localhost:8080/"
        },
        "id": "diWxjpISyAg9",
        "outputId": "c6cfae77-a736-4fdd-8165-e96d6da612fd"
      },
      "source": [
        "train_values['has_secondary_use_use_police'].value_counts()"
      ],
      "execution_count": 175,
      "outputs": [
        {
          "output_type": "execute_result",
          "data": {
            "text/plain": [
              "0    260578\n",
              "1        23\n",
              "Name: has_secondary_use_use_police, dtype: int64"
            ]
          },
          "metadata": {
            "tags": []
          },
          "execution_count": 175
        }
      ]
    },
    {
      "cell_type": "code",
      "metadata": {
        "colab": {
          "base_uri": "https://localhost:8080/"
        },
        "id": "edu3xR2EyH97",
        "outputId": "7d13bfc5-c5a1-4d63-8e65-ce0f5b3afe93"
      },
      "source": [
        "train_values['has_secondary_use_gov_office'].value_counts()"
      ],
      "execution_count": 176,
      "outputs": [
        {
          "output_type": "execute_result",
          "data": {
            "text/plain": [
              "0    260563\n",
              "1        38\n",
              "Name: has_secondary_use_gov_office, dtype: int64"
            ]
          },
          "metadata": {
            "tags": []
          },
          "execution_count": 176
        }
      ]
    },
    {
      "cell_type": "code",
      "metadata": {
        "colab": {
          "base_uri": "https://localhost:8080/"
        },
        "id": "RKDrVkRkySgb",
        "outputId": "11bc91a8-adba-4052-98c1-fb63729cef2a"
      },
      "source": [
        "train_values['has_secondary_use_health_post'].value_counts()"
      ],
      "execution_count": null,
      "outputs": [
        {
          "output_type": "execute_result",
          "data": {
            "text/plain": [
              "0    260552\n",
              "1        49\n",
              "Name: has_secondary_use_health_post, dtype: int64"
            ]
          },
          "metadata": {
            "tags": []
          },
          "execution_count": 72
        }
      ]
    },
    {
      "cell_type": "code",
      "metadata": {
        "colab": {
          "base_uri": "https://localhost:8080/"
        },
        "id": "dtNWYhAryf5L",
        "outputId": "03d4cbc1-eb05-42ef-a111-e71a250eca28"
      },
      "source": [
        "train_values['has_secondary_use_industry'].value_counts()"
      ],
      "execution_count": null,
      "outputs": [
        {
          "output_type": "execute_result",
          "data": {
            "text/plain": [
              "0    260322\n",
              "1       279\n",
              "Name: has_secondary_use_industry, dtype: int64"
            ]
          },
          "metadata": {
            "tags": []
          },
          "execution_count": 73
        }
      ]
    },
    {
      "cell_type": "code",
      "metadata": {
        "colab": {
          "base_uri": "https://localhost:8080/"
        },
        "id": "JAco03N1yoxD",
        "outputId": "ab376453-7450-43c9-d282-a152d8be7eb4"
      },
      "source": [
        "train_values['has_secondary_use_school'].value_counts()"
      ],
      "execution_count": null,
      "outputs": [
        {
          "output_type": "execute_result",
          "data": {
            "text/plain": [
              "0    260507\n",
              "1        94\n",
              "Name: has_secondary_use_school, dtype: int64"
            ]
          },
          "metadata": {
            "tags": []
          },
          "execution_count": 74
        }
      ]
    },
    {
      "cell_type": "code",
      "metadata": {
        "colab": {
          "base_uri": "https://localhost:8080/"
        },
        "id": "O0yozikjyz2l",
        "outputId": "0ee206a4-b5aa-4cf7-d42f-c1236502e151"
      },
      "source": [
        "train_values['has_secondary_use_institution'].value_counts()"
      ],
      "execution_count": null,
      "outputs": [
        {
          "output_type": "execute_result",
          "data": {
            "text/plain": [
              "0    260356\n",
              "1       245\n",
              "Name: has_secondary_use_institution, dtype: int64"
            ]
          },
          "metadata": {
            "tags": []
          },
          "execution_count": 75
        }
      ]
    },
    {
      "cell_type": "code",
      "metadata": {
        "colab": {
          "base_uri": "https://localhost:8080/"
        },
        "id": "fFOqWzq5y61b",
        "outputId": "dec27b64-9b70-46ab-9fc8-c3cd69e53050"
      },
      "source": [
        "train_values['has_secondary_use_rental'].value_counts()"
      ],
      "execution_count": null,
      "outputs": [
        {
          "output_type": "execute_result",
          "data": {
            "text/plain": [
              "0    258490\n",
              "1      2111\n",
              "Name: has_secondary_use_rental, dtype: int64"
            ]
          },
          "metadata": {
            "tags": []
          },
          "execution_count": 76
        }
      ]
    },
    {
      "cell_type": "code",
      "metadata": {
        "colab": {
          "base_uri": "https://localhost:8080/"
        },
        "id": "3r7siIKbzF18",
        "outputId": "62600190-b5f0-4445-96be-2c06cd751d60"
      },
      "source": [
        "train_values['has_secondary_use_hotel'].value_counts()"
      ],
      "execution_count": null,
      "outputs": [
        {
          "output_type": "execute_result",
          "data": {
            "text/plain": [
              "0    251838\n",
              "1      8763\n",
              "Name: has_secondary_use_hotel, dtype: int64"
            ]
          },
          "metadata": {
            "tags": []
          },
          "execution_count": 77
        }
      ]
    },
    {
      "cell_type": "code",
      "metadata": {
        "colab": {
          "base_uri": "https://localhost:8080/"
        },
        "id": "0ZcOvAttzMw7",
        "outputId": "ca32f61f-9e7c-496a-8bf1-5e8cbbc61dd1"
      },
      "source": [
        "train_values['has_secondary_use_agriculture'].value_counts()"
      ],
      "execution_count": null,
      "outputs": [
        {
          "output_type": "execute_result",
          "data": {
            "text/plain": [
              "0    243824\n",
              "1     16777\n",
              "Name: has_secondary_use_agriculture, dtype: int64"
            ]
          },
          "metadata": {
            "tags": []
          },
          "execution_count": 78
        }
      ]
    },
    {
      "cell_type": "markdown",
      "metadata": {
        "id": "ezhNBCXx9Ou6"
      },
      "source": [
        "Haciendo la suma de todas las ocurrencias de los unos que figuran en cada columna has_secondary_use_x (x puede ser agriculture, hotel, rental, institution, school, industry, health_post, gov_office, police y other), 29713, vemos que es mayor a todos los unos de la columna has_secondary_use, 29156. Eso es debido a que un edificio puede tener más de un eso secundario. A continuación se detalla un ejemplo:"
      ]
    },
    {
      "cell_type": "code",
      "metadata": {
        "colab": {
          "base_uri": "https://localhost:8080/"
        },
        "id": "RoqM2S-N_Qjw",
        "outputId": "dd30da9a-fab3-480b-aa17-9b2e4fa78503"
      },
      "source": [
        "train_values.loc[train_values['has_secondary_use_agriculture'].eq(1) & train_values['has_secondary_use_other'].eq(1), :].shape"
      ],
      "execution_count": null,
      "outputs": [
        {
          "output_type": "execute_result",
          "data": {
            "text/plain": [
              "(474, 39)"
            ]
          },
          "metadata": {
            "tags": []
          },
          "execution_count": 79
        }
      ]
    },
    {
      "cell_type": "code",
      "metadata": {
        "colab": {
          "base_uri": "https://localhost:8080/"
        },
        "id": "uEc_CgbZx0zw",
        "outputId": "ba9804fd-df6c-46c0-8567-cf74b2228165"
      },
      "source": [
        "train_values_reduced = train_values.iloc[:,[0, 1, 2, 3, 28, 29, 30, 31, 32, 33, 34, 35, 36, 37, 38]]\n",
        "train_values_reduced_with_damage = train_values_reduced.merge(train_labels, left_on='building_id', right_on='building_id')\n",
        "train_values_reduced_with_damage.info()"
      ],
      "execution_count": 82,
      "outputs": [
        {
          "output_type": "stream",
          "text": [
            "<class 'pandas.core.frame.DataFrame'>\n",
            "Int64Index: 260601 entries, 0 to 260600\n",
            "Data columns (total 16 columns):\n",
            " #   Column                         Non-Null Count   Dtype\n",
            "---  ------                         --------------   -----\n",
            " 0   building_id                    260601 non-null  int64\n",
            " 1   geo_level_1_id                 260601 non-null  int64\n",
            " 2   geo_level_2_id                 260601 non-null  int64\n",
            " 3   geo_level_3_id                 260601 non-null  int64\n",
            " 4   has_secondary_use              260601 non-null  int64\n",
            " 5   has_secondary_use_agriculture  260601 non-null  int64\n",
            " 6   has_secondary_use_hotel        260601 non-null  int64\n",
            " 7   has_secondary_use_rental       260601 non-null  int64\n",
            " 8   has_secondary_use_institution  260601 non-null  int64\n",
            " 9   has_secondary_use_school       260601 non-null  int64\n",
            " 10  has_secondary_use_industry     260601 non-null  int64\n",
            " 11  has_secondary_use_health_post  260601 non-null  int64\n",
            " 12  has_secondary_use_gov_office   260601 non-null  int64\n",
            " 13  has_secondary_use_use_police   260601 non-null  int64\n",
            " 14  has_secondary_use_other        260601 non-null  int64\n",
            " 15  damage_grade                   260601 non-null  int64\n",
            "dtypes: int64(16)\n",
            "memory usage: 33.8 MB\n"
          ],
          "name": "stdout"
        }
      ]
    },
    {
      "cell_type": "code",
      "metadata": {
        "id": "mt-CQRxd0ZSm"
      },
      "source": [
        "train_values_reduced_with_damage_buildings_with_secondary_use = train_values_reduced_with_damage.loc[train_values_reduced_with_damage['has_secondary_use'].eq(1), :]"
      ],
      "execution_count": 137,
      "outputs": []
    },
    {
      "cell_type": "code",
      "metadata": {
        "id": "d48nCZK14Pfw"
      },
      "source": [
        "train_values_reduced_with_damage_buildings_agriculture = train_values_reduced_with_damage_buildings_with_secondary_use.groupby('has_secondary_use_agriculture').agg({'damage_grade':'mean'}).drop(index=0)\n",
        "train_values_reduced_with_damage_buildings_agriculture.reset_index(inplace=True)"
      ],
      "execution_count": 138,
      "outputs": []
    },
    {
      "cell_type": "code",
      "metadata": {
        "id": "q9JW2yhm9BFg"
      },
      "source": [
        "train_values_reduced_with_damage_buildings_hotel = train_values_reduced_with_damage_buildings_with_secondary_use.groupby('has_secondary_use_hotel').agg({'damage_grade':'mean'}).drop(index=0)\n",
        "train_values_reduced_with_damage_buildings_hotel.reset_index(inplace=True)"
      ],
      "execution_count": 140,
      "outputs": []
    },
    {
      "cell_type": "code",
      "metadata": {
        "id": "XjzDgSbhFz4t"
      },
      "source": [
        "train_values_reduced_with_damage_buildings_rental = train_values_reduced_with_damage_buildings_with_secondary_use.groupby('has_secondary_use_rental').agg({'damage_grade':'mean'}).drop(index=0)\n",
        "train_values_reduced_with_damage_buildings_rental.reset_index(inplace=True)"
      ],
      "execution_count": 141,
      "outputs": []
    },
    {
      "cell_type": "code",
      "metadata": {
        "id": "XJn_IJIiF-DA"
      },
      "source": [
        "train_values_reduced_with_damage_buildings_institution = train_values_reduced_with_damage_buildings_with_secondary_use.groupby('has_secondary_use_institution').agg({'damage_grade':'mean'}).drop(index=0)\n",
        "train_values_reduced_with_damage_buildings_institution.reset_index(inplace=True)"
      ],
      "execution_count": 142,
      "outputs": []
    },
    {
      "cell_type": "code",
      "metadata": {
        "id": "eH6gT9IuGFyY"
      },
      "source": [
        "train_values_reduced_with_damage_buildings_school = train_values_reduced_with_damage_buildings_with_secondary_use.groupby('has_secondary_use_school').agg({'damage_grade':'mean'}).drop(index=0)\n",
        "train_values_reduced_with_damage_buildings_school.reset_index(inplace=True)"
      ],
      "execution_count": 143,
      "outputs": []
    },
    {
      "cell_type": "code",
      "metadata": {
        "id": "0S2klMrXGL_s"
      },
      "source": [
        "train_values_reduced_with_damage_buildings_industry = train_values_reduced_with_damage_buildings_with_secondary_use.groupby('has_secondary_use_industry').agg({'damage_grade':'mean'}).drop(index=0)\n",
        "train_values_reduced_with_damage_buildings_industry.reset_index(inplace=True)"
      ],
      "execution_count": 144,
      "outputs": []
    },
    {
      "cell_type": "code",
      "metadata": {
        "id": "zr4gTF4OGRqU"
      },
      "source": [
        "train_values_reduced_with_damage_buildings_health_post = train_values_reduced_with_damage_buildings_with_secondary_use.groupby('has_secondary_use_health_post').agg({'damage_grade':'mean'}).drop(index=0)\n",
        "train_values_reduced_with_damage_buildings_health_post.reset_index(inplace=True)"
      ],
      "execution_count": 145,
      "outputs": []
    },
    {
      "cell_type": "code",
      "metadata": {
        "id": "wyhjapPfGaA4"
      },
      "source": [
        "train_values_reduced_with_damage_buildings_gov_office = train_values_reduced_with_damage_buildings_with_secondary_use.groupby('has_secondary_use_gov_office').agg({'damage_grade':'mean'}).drop(index=0)\n",
        "train_values_reduced_with_damage_buildings_gov_office.reset_index(inplace=True)"
      ],
      "execution_count": 146,
      "outputs": []
    },
    {
      "cell_type": "code",
      "metadata": {
        "id": "jLxH1xt8Gg-C"
      },
      "source": [
        "train_values_reduced_with_damage_buildings_police = train_values_reduced_with_damage_buildings_with_secondary_use.groupby('has_secondary_use_use_police').agg({'damage_grade':'mean'}).drop(index=0)\n",
        "train_values_reduced_with_damage_buildings_police.reset_index(inplace=True)"
      ],
      "execution_count": 147,
      "outputs": []
    },
    {
      "cell_type": "code",
      "metadata": {
        "id": "bTw8vhzoG_OL"
      },
      "source": [
        "train_values_reduced_with_damage_buildings_other = train_values_reduced_with_damage_buildings_with_secondary_use.groupby('has_secondary_use_other').agg({'damage_grade':'mean'}).drop(index=0)\n",
        "train_values_reduced_with_damage_buildings_other.reset_index(inplace=True)"
      ],
      "execution_count": 148,
      "outputs": []
    },
    {
      "cell_type": "code",
      "metadata": {
        "id": "fnRRSET9TW3b"
      },
      "source": [
        "aux_list = [train_values_reduced_with_damage_buildings_agriculture, train_values_reduced_with_damage_buildings_hotel, train_values_reduced_with_damage_buildings_rental, train_values_reduced_with_damage_buildings_institution, train_values_reduced_with_damage_buildings_school, train_values_reduced_with_damage_buildings_industry, train_values_reduced_with_damage_buildings_health_post, train_values_reduced_with_damage_buildings_gov_office, train_values_reduced_with_damage_buildings_police, train_values_reduced_with_damage_buildings_other]\n",
        "train_values_reduced_with_damage_buildings_with_secondary_use_aux = pd.concat(aux_list)"
      ],
      "execution_count": 149,
      "outputs": []
    },
    {
      "cell_type": "code",
      "metadata": {
        "colab": {
          "base_uri": "https://localhost:8080/",
          "height": 379
        },
        "id": "tzM3GYjiYQWc",
        "outputId": "fe3af208-2537-4efb-f576-bd8eb58b6c65"
      },
      "source": [
        "train_values_reduced_with_damage_buildings_with_secondary_use_aux"
      ],
      "execution_count": 150,
      "outputs": [
        {
          "output_type": "execute_result",
          "data": {
            "text/html": [
              "<div>\n",
              "<style scoped>\n",
              "    .dataframe tbody tr th:only-of-type {\n",
              "        vertical-align: middle;\n",
              "    }\n",
              "\n",
              "    .dataframe tbody tr th {\n",
              "        vertical-align: top;\n",
              "    }\n",
              "\n",
              "    .dataframe thead th {\n",
              "        text-align: right;\n",
              "    }\n",
              "</style>\n",
              "<table border=\"1\" class=\"dataframe\">\n",
              "  <thead>\n",
              "    <tr style=\"text-align: right;\">\n",
              "      <th></th>\n",
              "      <th>has_secondary_use_agriculture</th>\n",
              "      <th>damage_grade</th>\n",
              "      <th>has_secondary_use_hotel</th>\n",
              "      <th>has_secondary_use_rental</th>\n",
              "      <th>has_secondary_use_institution</th>\n",
              "      <th>has_secondary_use_school</th>\n",
              "      <th>has_secondary_use_industry</th>\n",
              "      <th>has_secondary_use_health_post</th>\n",
              "      <th>has_secondary_use_gov_office</th>\n",
              "      <th>has_secondary_use_use_police</th>\n",
              "      <th>has_secondary_use_other</th>\n",
              "    </tr>\n",
              "  </thead>\n",
              "  <tbody>\n",
              "    <tr>\n",
              "      <th>0</th>\n",
              "      <td>1.00</td>\n",
              "      <td>2.26</td>\n",
              "      <td>nan</td>\n",
              "      <td>nan</td>\n",
              "      <td>nan</td>\n",
              "      <td>nan</td>\n",
              "      <td>nan</td>\n",
              "      <td>nan</td>\n",
              "      <td>nan</td>\n",
              "      <td>nan</td>\n",
              "      <td>nan</td>\n",
              "    </tr>\n",
              "    <tr>\n",
              "      <th>0</th>\n",
              "      <td>nan</td>\n",
              "      <td>1.92</td>\n",
              "      <td>1.00</td>\n",
              "      <td>nan</td>\n",
              "      <td>nan</td>\n",
              "      <td>nan</td>\n",
              "      <td>nan</td>\n",
              "      <td>nan</td>\n",
              "      <td>nan</td>\n",
              "      <td>nan</td>\n",
              "      <td>nan</td>\n",
              "    </tr>\n",
              "    <tr>\n",
              "      <th>0</th>\n",
              "      <td>nan</td>\n",
              "      <td>1.67</td>\n",
              "      <td>nan</td>\n",
              "      <td>1.00</td>\n",
              "      <td>nan</td>\n",
              "      <td>nan</td>\n",
              "      <td>nan</td>\n",
              "      <td>nan</td>\n",
              "      <td>nan</td>\n",
              "      <td>nan</td>\n",
              "      <td>nan</td>\n",
              "    </tr>\n",
              "    <tr>\n",
              "      <th>0</th>\n",
              "      <td>nan</td>\n",
              "      <td>1.67</td>\n",
              "      <td>nan</td>\n",
              "      <td>nan</td>\n",
              "      <td>1.00</td>\n",
              "      <td>nan</td>\n",
              "      <td>nan</td>\n",
              "      <td>nan</td>\n",
              "      <td>nan</td>\n",
              "      <td>nan</td>\n",
              "      <td>nan</td>\n",
              "    </tr>\n",
              "    <tr>\n",
              "      <th>0</th>\n",
              "      <td>nan</td>\n",
              "      <td>1.86</td>\n",
              "      <td>nan</td>\n",
              "      <td>nan</td>\n",
              "      <td>nan</td>\n",
              "      <td>1.00</td>\n",
              "      <td>nan</td>\n",
              "      <td>nan</td>\n",
              "      <td>nan</td>\n",
              "      <td>nan</td>\n",
              "      <td>nan</td>\n",
              "    </tr>\n",
              "    <tr>\n",
              "      <th>0</th>\n",
              "      <td>nan</td>\n",
              "      <td>2.03</td>\n",
              "      <td>nan</td>\n",
              "      <td>nan</td>\n",
              "      <td>nan</td>\n",
              "      <td>nan</td>\n",
              "      <td>1.00</td>\n",
              "      <td>nan</td>\n",
              "      <td>nan</td>\n",
              "      <td>nan</td>\n",
              "      <td>nan</td>\n",
              "    </tr>\n",
              "    <tr>\n",
              "      <th>0</th>\n",
              "      <td>nan</td>\n",
              "      <td>1.86</td>\n",
              "      <td>nan</td>\n",
              "      <td>nan</td>\n",
              "      <td>nan</td>\n",
              "      <td>nan</td>\n",
              "      <td>nan</td>\n",
              "      <td>1.00</td>\n",
              "      <td>nan</td>\n",
              "      <td>nan</td>\n",
              "      <td>nan</td>\n",
              "    </tr>\n",
              "    <tr>\n",
              "      <th>0</th>\n",
              "      <td>nan</td>\n",
              "      <td>1.76</td>\n",
              "      <td>nan</td>\n",
              "      <td>nan</td>\n",
              "      <td>nan</td>\n",
              "      <td>nan</td>\n",
              "      <td>nan</td>\n",
              "      <td>nan</td>\n",
              "      <td>1.00</td>\n",
              "      <td>nan</td>\n",
              "      <td>nan</td>\n",
              "    </tr>\n",
              "    <tr>\n",
              "      <th>0</th>\n",
              "      <td>nan</td>\n",
              "      <td>2.13</td>\n",
              "      <td>nan</td>\n",
              "      <td>nan</td>\n",
              "      <td>nan</td>\n",
              "      <td>nan</td>\n",
              "      <td>nan</td>\n",
              "      <td>nan</td>\n",
              "      <td>nan</td>\n",
              "      <td>1.00</td>\n",
              "      <td>nan</td>\n",
              "    </tr>\n",
              "    <tr>\n",
              "      <th>0</th>\n",
              "      <td>nan</td>\n",
              "      <td>2.10</td>\n",
              "      <td>nan</td>\n",
              "      <td>nan</td>\n",
              "      <td>nan</td>\n",
              "      <td>nan</td>\n",
              "      <td>nan</td>\n",
              "      <td>nan</td>\n",
              "      <td>nan</td>\n",
              "      <td>nan</td>\n",
              "      <td>1.00</td>\n",
              "    </tr>\n",
              "  </tbody>\n",
              "</table>\n",
              "</div>"
            ],
            "text/plain": [
              "   has_secondary_use_agriculture  ...  has_secondary_use_other\n",
              "0                           1.00  ...                      nan\n",
              "0                            nan  ...                      nan\n",
              "0                            nan  ...                      nan\n",
              "0                            nan  ...                      nan\n",
              "0                            nan  ...                      nan\n",
              "0                            nan  ...                      nan\n",
              "0                            nan  ...                      nan\n",
              "0                            nan  ...                      nan\n",
              "0                            nan  ...                      nan\n",
              "0                            nan  ...                     1.00\n",
              "\n",
              "[10 rows x 11 columns]"
            ]
          },
          "metadata": {
            "tags": []
          },
          "execution_count": 150
        }
      ]
    },
    {
      "cell_type": "code",
      "metadata": {
        "colab": {
          "base_uri": "https://localhost:8080/",
          "height": 359
        },
        "id": "91jxjlPUYV2Z",
        "outputId": "123d9d09-ba9b-4a27-e109-91799b81ad0c"
      },
      "source": [
        "train_values_reduced_with_damage_buildings_with_secondary_use_aux.iloc[0,0] = 'Edificaciones de agricultura'\n",
        "train_values_reduced_with_damage_buildings_with_secondary_use_aux.iloc[1,0] = 'Hoteles'\n",
        "train_values_reduced_with_damage_buildings_with_secondary_use_aux.iloc[2,0] = 'Edificaciones para alquiler'\n",
        "train_values_reduced_with_damage_buildings_with_secondary_use_aux.iloc[3,0] = 'Instituciones'\n",
        "train_values_reduced_with_damage_buildings_with_secondary_use_aux.iloc[4,0] = 'Escuelas'\n",
        "train_values_reduced_with_damage_buildings_with_secondary_use_aux.iloc[5,0] = 'Edificaciiones para la industria'\n",
        "train_values_reduced_with_damage_buildings_with_secondary_use_aux.iloc[6,0] = 'Puestos de salud'\n",
        "train_values_reduced_with_damage_buildings_with_secondary_use_aux.iloc[7,0] = 'Oficinas gubernamentales'\n",
        "train_values_reduced_with_damage_buildings_with_secondary_use_aux.iloc[8,0] = 'Estaciones de policía'\n",
        "train_values_reduced_with_damage_buildings_with_secondary_use_aux.iloc[9,0] = 'Edificaciones con otros usos'\n",
        "train_values_reduced_with_damage_buildings_with_secondary_use_aux.drop(columns=['has_secondary_use_hotel', 'has_secondary_use_rental', 'has_secondary_use_institution', 'has_secondary_use_school', 'has_secondary_use_industry', 'has_secondary_use_health_post', 'has_secondary_use_gov_office', 'has_secondary_use_use_police', 'has_secondary_use_other'], inplace=True)\n",
        "train_values_reduced_with_damage_buildings_with_secondary_use_aux"
      ],
      "execution_count": 151,
      "outputs": [
        {
          "output_type": "execute_result",
          "data": {
            "text/html": [
              "<div>\n",
              "<style scoped>\n",
              "    .dataframe tbody tr th:only-of-type {\n",
              "        vertical-align: middle;\n",
              "    }\n",
              "\n",
              "    .dataframe tbody tr th {\n",
              "        vertical-align: top;\n",
              "    }\n",
              "\n",
              "    .dataframe thead th {\n",
              "        text-align: right;\n",
              "    }\n",
              "</style>\n",
              "<table border=\"1\" class=\"dataframe\">\n",
              "  <thead>\n",
              "    <tr style=\"text-align: right;\">\n",
              "      <th></th>\n",
              "      <th>has_secondary_use_agriculture</th>\n",
              "      <th>damage_grade</th>\n",
              "    </tr>\n",
              "  </thead>\n",
              "  <tbody>\n",
              "    <tr>\n",
              "      <th>0</th>\n",
              "      <td>Edificaciones de agricultura</td>\n",
              "      <td>2.26</td>\n",
              "    </tr>\n",
              "    <tr>\n",
              "      <th>0</th>\n",
              "      <td>Hoteles</td>\n",
              "      <td>1.92</td>\n",
              "    </tr>\n",
              "    <tr>\n",
              "      <th>0</th>\n",
              "      <td>Edificaciones para alquiler</td>\n",
              "      <td>1.67</td>\n",
              "    </tr>\n",
              "    <tr>\n",
              "      <th>0</th>\n",
              "      <td>Instituciones</td>\n",
              "      <td>1.67</td>\n",
              "    </tr>\n",
              "    <tr>\n",
              "      <th>0</th>\n",
              "      <td>Escuelas</td>\n",
              "      <td>1.86</td>\n",
              "    </tr>\n",
              "    <tr>\n",
              "      <th>0</th>\n",
              "      <td>Edificaciiones para la industria</td>\n",
              "      <td>2.03</td>\n",
              "    </tr>\n",
              "    <tr>\n",
              "      <th>0</th>\n",
              "      <td>Puestos de salud</td>\n",
              "      <td>1.86</td>\n",
              "    </tr>\n",
              "    <tr>\n",
              "      <th>0</th>\n",
              "      <td>Oficinas gubernamentales</td>\n",
              "      <td>1.76</td>\n",
              "    </tr>\n",
              "    <tr>\n",
              "      <th>0</th>\n",
              "      <td>Estaciones de policía</td>\n",
              "      <td>2.13</td>\n",
              "    </tr>\n",
              "    <tr>\n",
              "      <th>0</th>\n",
              "      <td>Edificaciones con otros usos</td>\n",
              "      <td>2.10</td>\n",
              "    </tr>\n",
              "  </tbody>\n",
              "</table>\n",
              "</div>"
            ],
            "text/plain": [
              "      has_secondary_use_agriculture         damage_grade\n",
              "0      Edificaciones de agricultura                 2.26\n",
              "0                           Hoteles                 1.92\n",
              "0       Edificaciones para alquiler                 1.67\n",
              "0                     Instituciones                 1.67\n",
              "0                          Escuelas                 1.86\n",
              "0  Edificaciiones para la industria                 2.03\n",
              "0                  Puestos de salud                 1.86\n",
              "0          Oficinas gubernamentales                 1.76\n",
              "0             Estaciones de policía                 2.13\n",
              "0      Edificaciones con otros usos                 2.10"
            ]
          },
          "metadata": {
            "tags": []
          },
          "execution_count": 151
        }
      ]
    },
    {
      "cell_type": "code",
      "metadata": {
        "id": "-7-D7QEzpKT-"
      },
      "source": [
        "buildings_with_secondary_use_averege_damage = train_values_reduced_with_damage_buildings_with_secondary_use_aux.set_index('has_secondary_use_agriculture')\n",
        "buildings_with_secondary_use_averege_damage.columns = ['Grado de daño promedio'] "
      ],
      "execution_count": 152,
      "outputs": []
    },
    {
      "cell_type": "code",
      "metadata": {
        "colab": {
          "base_uri": "https://localhost:8080/",
          "height": 789
        },
        "id": "gn_Iikvlp_HW",
        "outputId": "3b1c915a-3a1a-43d9-89e6-e2c35653f9fa"
      },
      "source": [
        "plot = buildings_with_secondary_use_averege_damage.plot.bar(rot=70, color=(0.6, 0, 0.8), fontsize=11.0, figsize=(20,10))\n",
        "plot.set_title(\"Grado de daño promedio vs edificaciones de uso secundario\", fontsize=18)\n",
        "plot.set_ylabel(\"Grado de daño promedio\", fontsize=18);\n",
        "plot.set_xlabel(\"Edificaciones de uso secundario\", fontsize=18);"
      ],
      "execution_count": 153,
      "outputs": [
        {
          "output_type": "display_data",
          "data": {
            "image/png": "[encoded data removed]",
            "text/plain": [
              "<Figure size 1440x720 with 1 Axes>"
            ]
          },
          "metadata": {
            "tags": [],
            "needs_background": "light"
          }
        }
      ]
    }
  ]
}